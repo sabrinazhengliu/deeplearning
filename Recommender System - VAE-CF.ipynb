{
  "nbformat": 4,
  "nbformat_minor": 0,
  "metadata": {
    "colab": {
      "name": "Recommender System - VAE-CF.ipynb",
      "provenance": [],
      "collapsed_sections": [],
      "machine_shape": "hm",
      "background_execution": "on"
    },
    "kernelspec": {
      "name": "python3",
      "display_name": "Python 3"
    },
    "language_info": {
      "name": "python"
    },
    "accelerator": "GPU"
  },
  "cells": [
    {
      "cell_type": "markdown",
      "source": [
        "# APPM 4720 Applied Deep Learning, Spring 2022\n",
        "## Progress Report 07 - Recommender System\n",
        "### Variational Autoencoders for Collaborative Filtering\n",
        "### By Sabrina Liu\n",
        "\n",
        "Examined and implemented the **Multinomial Variational Autoencoder** algorithm as described in 2018 paper by Netflix research *Variational Autoencoders for Collaborative Filtering* in Keras. Trained the model on `movielens-1m` dataset and achived some preliminary results.  \n",
        "\n",
        "#### References:\n",
        "* Paper: Liang, et.al., *Variational Autoencoders for Collaborative Filtering*, https://arxiv.org/pdf/1802.05814\n",
        "* Dataset: https://grouplens.org/datasets/movielens/\n",
        "* Official Repo: https://github.com/dawenl/vae_cf/blob/master/VAE_ML20M_WWW2018.ipynb\n",
        "* Tutorial: https://github.com/microsoft/recommenders/tree/main/recommenders/models/vae\n",
        "\n",
        "This report re-implemented the algorithm demonstrated in the official repo and the Microsoft tutorial using Keras API. "
      ],
      "metadata": {
        "id": "7zGumKR0Q92b"
      }
    },
    {
      "cell_type": "markdown",
      "source": [
        "---\n",
        "## Set Up Environment"
      ],
      "metadata": {
        "id": "AIzslIolrV1J"
      }
    },
    {
      "cell_type": "markdown",
      "source": [
        "#### Mount Google Drive"
      ],
      "metadata": {
        "id": "d7ZDCwcArXjk"
      }
    },
    {
      "cell_type": "code",
      "source": [
        "from google.colab import drive\n",
        "drive.mount('/content/drive', force_remount=False)"
      ],
      "metadata": {
        "colab": {
          "base_uri": "https://localhost:8080/"
        },
        "id": "RvLougJCrZX_",
        "outputId": "c6c6e87d-c696-4312-aa2e-1c87373fbd42"
      },
      "execution_count": 1,
      "outputs": [
        {
          "output_type": "stream",
          "name": "stdout",
          "text": [
            "Drive already mounted at /content/drive; to attempt to forcibly remount, call drive.mount(\"/content/drive\", force_remount=True).\n"
          ]
        }
      ]
    },
    {
      "cell_type": "code",
      "source": [
        "%cd '/content/drive/MyDrive/ADL/RecommenderVAE'\n",
        "!dir"
      ],
      "metadata": {
        "colab": {
          "base_uri": "https://localhost:8080/"
        },
        "id": "kSVlyoq3rbZr",
        "outputId": "3262fee5-4ef5-44e7-bcfb-f667f2710cba"
      },
      "execution_count": 2,
      "outputs": [
        {
          "output_type": "stream",
          "name": "stdout",
          "text": [
            "/content/drive/MyDrive/ADL/RecommenderVAE\n",
            "data\t\t   df_score_mask.csv  df_valid_mask.csv  models\n",
            "df_score_keep.csv  df_valid_keep.csv  images\n"
          ]
        }
      ]
    },
    {
      "cell_type": "code",
      "execution_count": 3,
      "metadata": {
        "colab": {
          "base_uri": "https://localhost:8080/",
          "height": 35
        },
        "id": "iQ4KcWNAqTUv",
        "outputId": "ab1e301f-2085-4088-df3c-bf374510f209"
      },
      "outputs": [
        {
          "output_type": "execute_result",
          "data": {
            "text/plain": [
              "'2.8.0'"
            ],
            "application/vnd.google.colaboratory.intrinsic+json": {
              "type": "string"
            }
          },
          "metadata": {},
          "execution_count": 3
        }
      ],
      "source": [
        "import tensorflow as tf\n",
        "tf.__version__"
      ]
    },
    {
      "cell_type": "code",
      "source": [
        "gpus = tf.config.list_physical_devices('GPU')\n",
        "for gpu in gpus:\n",
        "    tf.config.experimental.set_memory_growth(gpu, True)"
      ],
      "metadata": {
        "id": "A4Xc3QJ_rNCX"
      },
      "execution_count": 4,
      "outputs": []
    },
    {
      "cell_type": "code",
      "source": [
        "gpu_info = !nvidia-smi\n",
        "gpu_info = '\\n'.join(gpu_info)\n",
        "if gpu_info.find('failed') >= 0:\n",
        "    print('Not connected to a GPU')\n",
        "else:\n",
        "    print(gpu_info)"
      ],
      "metadata": {
        "colab": {
          "base_uri": "https://localhost:8080/"
        },
        "id": "-O2nXkZir1OS",
        "outputId": "ad89a1c5-1c35-4565-ec36-b401f31c8d9b"
      },
      "execution_count": 5,
      "outputs": [
        {
          "output_type": "stream",
          "name": "stdout",
          "text": [
            "Wed Apr 27 01:37:24 2022       \n",
            "+-----------------------------------------------------------------------------+\n",
            "| NVIDIA-SMI 460.32.03    Driver Version: 460.32.03    CUDA Version: 11.2     |\n",
            "|-------------------------------+----------------------+----------------------+\n",
            "| GPU  Name        Persistence-M| Bus-Id        Disp.A | Volatile Uncorr. ECC |\n",
            "| Fan  Temp  Perf  Pwr:Usage/Cap|         Memory-Usage | GPU-Util  Compute M. |\n",
            "|                               |                      |               MIG M. |\n",
            "|===============================+======================+======================|\n",
            "|   0  Tesla V100-SXM2...  Off  | 00000000:00:04.0 Off |                    0 |\n",
            "| N/A   33C    P0    25W / 300W |      2MiB / 16160MiB |      0%      Default |\n",
            "|                               |                      |                  N/A |\n",
            "+-------------------------------+----------------------+----------------------+\n",
            "                                                                               \n",
            "+-----------------------------------------------------------------------------+\n",
            "| Processes:                                                                  |\n",
            "|  GPU   GI   CI        PID   Type   Process name                  GPU Memory |\n",
            "|        ID   ID                                                   Usage      |\n",
            "|=============================================================================|\n",
            "|  No running processes found                                                 |\n",
            "+-----------------------------------------------------------------------------+\n"
          ]
        }
      ]
    },
    {
      "cell_type": "markdown",
      "source": [
        "---\n",
        "## Architecture Review\n",
        "\n",
        "The goal of **collaborative filtering** is to predict what items a user will prefer by learning from the patterns across all users over all items. Often, the architectures adopted for collaborative filtering are inherently linear. In this paper, **variational autoencoders (VAE)**, a type of generative model, is introduced to enable non-linearity and to generalize the linear latent-factor models. "
      ],
      "metadata": {
        "id": "HHAARrSySTiX"
      }
    },
    {
      "cell_type": "markdown",
      "source": [
        "#### Variational Autoencoder\n",
        "\n",
        "Different from standard autoencoders which learns a low-dimension latent feature representation of the input through reconstruction, variational autoencoders learns the the distribution of the latent feature, and samples from the distribution to be used for reconstruction. In this model, the distribution is parameterized as mean and log-variance. At the sampling step,  the **reparametrization trick** is used to bypass gradient calculation by applying the mean and standard deviation to random Gaussian noise $ϵ$ in order to generate the feature vector $z_u$ representing the preferences of user $u$ based on history data $x_u$:\n",
        "\n",
        "$$ \\epsilon \\sim \\mathcal{N}(0, \\textbf{I}_K) $$\n",
        "$$ z_u = \\mu_\\phi(x_u) + ϵ \\odot \\sigma_\\phi(x_u) $$\n",
        "\n",
        "\n"
      ],
      "metadata": {
        "id": "2qaGNRC7vzbB"
      }
    },
    {
      "cell_type": "markdown",
      "source": [
        "#### Multinomial Likelihood\n",
        "The data availability based on user history is sparse, i.e. in the movie review dataset, each user only reviews a few movies, and each movie is only reviewed by a few users. Therefore, a robust probabilistic model that shares statistical strength among both users and items is required to make good recommendations. This is the motivation of utilizing multinomial distribution. To achieve this, the latent representation $z_u$ is transformed via a non-linear function $f_\\theta(\\cdot)$ to produce a probability $\\pi(z_u)$ over $I$ items:\n",
        "\n",
        "$$ z_u \\sim \\mathcal{N}(0, \\textbf{I}_K)  $$\n",
        "$$ \\pi(z_u) ∝ \\exp\\{f_\\theta(z_u)\\} $$\n",
        "\n",
        "The non-linear function $f_\\theta$ is a multilayer perceptron (MLP) with parameters $\\theta$. The output of this transformation is normalized via a softmax function to produce a probility vector $\\pi(z_u)$. Given the total number of watch history $N_u = \\sum_i x_{ui}$ from user $u$, where $u$ indexes the user and $i$ indexes the item, the observed bag-of-words vector $x_u$ is assumed to be sampled from a multinomial distribution $\\pi(z_u)$:\n",
        "$$ x_u \\sim \\text{Mult}(N_u, \\pi(z_u)) $$\n"
      ],
      "metadata": {
        "id": "J5YQkYj-uxdV"
      }
    },
    {
      "cell_type": "markdown",
      "source": [
        "#### Variation Inference\n",
        "\n",
        "The variational autoencoder learns to approximate the intractible posterior distribution $p(z_u|x_u)$ with a simpler variational distribution $q(z_u)$:\n",
        "\n",
        "$$ q(z_u) = \\mathcal{N}(\\mu_u, \\text{diag}\\{\\sigma_u^2\\}) $$\n",
        "\n",
        "The objective of variational inference is to optimize the free variational parameters (for each user) $\\{\\mu_u, \\sigma_u^2\\}$ so that the Kullback-Leiber divergence $\\text{KL}(q(z_u)||p(z_u|x_u))$ is minimized. "
      ],
      "metadata": {
        "id": "b2WBu3mVQN-6"
      }
    },
    {
      "cell_type": "markdown",
      "source": [
        "#### Objective Function\n",
        "\n",
        "The overall objective function is obtained by averaging the objective function over all the users (each line of training data represents a different user) which aims to maximize the log likelihood for each user. To learn the latent variables, a lower bound is set to the log marginal likelihood, which is known as the **evidence lower bound (ELBO)** method: \n",
        "\n",
        "$$ \\log p(x_u;\\theta) \\ge \\mathbb{E}_{q_\\phi(z_u|x_u)}[\\log p_\\theta(x_u|z_u)] - \\text{KL}(p(z_u)||q_\\phi(z_u|x_u)) \\equiv \\mathcal{L}(x_u; \\theta, \\phi) $$ \n",
        "\n",
        "The first term can be viewed as (negative) reconstruction error, and the second term can be viewed as regularization. The authors argued that this objective is over-regularized, therefore applying a hyperparameter $\\beta$ between 0 and 1 to weight the KL divergence:\n",
        "\n",
        "$$ \\mathcal{L}(x_u; \\theta, \\phi) \\equiv \\mathbb{E}_{q_\\phi(z_u|x_u)}[\\log p_\\theta(x_u|z_u)] - \\beta \\cdot \\text{KL}(p(z_u)||q_\\phi(z_u|x_u)) $$ \n",
        "\n",
        "In the original research, the authors also used a technique called **annealing** to optimize $\\beta$, which increases the value of $\\beta$ gradually from 0 to 1 slowly over a large number of gradient updates and record the best $\\beta$ when its performance reaches the peak. Due to its level of complexity, annealing was not implemented in this project report. $\\beta$ is set to 0.2 for this exercise. "
      ],
      "metadata": {
        "id": "-ZCNXH-KR7YT"
      }
    },
    {
      "cell_type": "markdown",
      "source": [
        "---\n",
        "## The MovieLens Dataset\n",
        "\n",
        "The movielens dataset contains several different sizes of datasets, e.g. 1m, 10m, 25m, etc. For simplicity this project used the 1m dataset. The `movies.dat` file contains movie Id, title and genres and the `ratings.dat` file contains movie review score information by users in the format of stacked line records. Each record shows the user Id, the movie Id, and the rating score (0-5). The `movielens-1m` dataset contains roughly 1 million ratings, including 3000+ movies reviewed by 6000+ users, as shown in below analysis. \n",
        "\n",
        "https://grouplens.org/datasets/movielens/"
      ],
      "metadata": {
        "id": "1U0uxmgxSZXh"
      }
    },
    {
      "cell_type": "code",
      "source": [
        "import os\n",
        "import pandas as pd\n",
        "import numpy as np\n",
        "import matplotlib.pyplot as plt"
      ],
      "metadata": {
        "id": "HFgGDKe0-V40"
      },
      "execution_count": 6,
      "outputs": []
    },
    {
      "cell_type": "code",
      "source": [
        "filepath = 'data/movielens-1m'\n",
        "os.listdir(filepath)"
      ],
      "metadata": {
        "colab": {
          "base_uri": "https://localhost:8080/"
        },
        "id": "_aZBMb6ESdMt",
        "outputId": "c1480732-9dd0-468a-ff77-710a4a217583"
      },
      "execution_count": 7,
      "outputs": [
        {
          "output_type": "execute_result",
          "data": {
            "text/plain": [
              "['movies.dat', 'ratings.dat', 'users.dat', 'README']"
            ]
          },
          "metadata": {},
          "execution_count": 7
        }
      ]
    },
    {
      "cell_type": "markdown",
      "source": [
        "#### Check out the Movies"
      ],
      "metadata": {
        "id": "EHjmjdSZiGVQ"
      }
    },
    {
      "cell_type": "code",
      "source": [
        "moviefile = os.path.join(filepath, 'movies.dat')\n",
        "!head -3 $moviefile"
      ],
      "metadata": {
        "colab": {
          "base_uri": "https://localhost:8080/"
        },
        "id": "8h8jJ2k-iIx3",
        "outputId": "dc05cbd8-521c-4a11-9bc8-adef831905f8"
      },
      "execution_count": 8,
      "outputs": [
        {
          "output_type": "stream",
          "name": "stdout",
          "text": [
            "1::Toy Story (1995)::Animation|Children's|Comedy\n",
            "2::Jumanji (1995)::Adventure|Children's|Fantasy\n",
            "3::Grumpier Old Men (1995)::Comedy|Romance\n"
          ]
        }
      ]
    },
    {
      "cell_type": "code",
      "source": [
        "%%time\n",
        "df_mov = pd.read_table(\n",
        "    moviefile,\n",
        "    sep='::', engine='python',\n",
        "    names=['movieId', 'title', 'genres'],\n",
        "    encoding='ISO-8859-1',\n",
        "    dtype={'movieId':'int32'},\n",
        ")\n",
        "display(df_mov)"
      ],
      "metadata": {
        "colab": {
          "base_uri": "https://localhost:8080/",
          "height": 458
        },
        "id": "m6VxssNBiUMr",
        "outputId": "6ed350cd-d110-4950-e714-d4409a6cead2"
      },
      "execution_count": 9,
      "outputs": [
        {
          "output_type": "display_data",
          "data": {
            "text/plain": [
              "      movieId                               title  \\\n",
              "0           1                    Toy Story (1995)   \n",
              "1           2                      Jumanji (1995)   \n",
              "2           3             Grumpier Old Men (1995)   \n",
              "3           4            Waiting to Exhale (1995)   \n",
              "4           5  Father of the Bride Part II (1995)   \n",
              "...       ...                                 ...   \n",
              "3878     3948             Meet the Parents (2000)   \n",
              "3879     3949          Requiem for a Dream (2000)   \n",
              "3880     3950                    Tigerland (2000)   \n",
              "3881     3951             Two Family House (2000)   \n",
              "3882     3952               Contender, The (2000)   \n",
              "\n",
              "                            genres  \n",
              "0      Animation|Children's|Comedy  \n",
              "1     Adventure|Children's|Fantasy  \n",
              "2                   Comedy|Romance  \n",
              "3                     Comedy|Drama  \n",
              "4                           Comedy  \n",
              "...                            ...  \n",
              "3878                        Comedy  \n",
              "3879                         Drama  \n",
              "3880                         Drama  \n",
              "3881                         Drama  \n",
              "3882                Drama|Thriller  \n",
              "\n",
              "[3883 rows x 3 columns]"
            ],
            "text/html": [
              "\n",
              "  <div id=\"df-a54cfe22-7472-4d04-bc77-030fdb6e0cb6\">\n",
              "    <div class=\"colab-df-container\">\n",
              "      <div>\n",
              "<style scoped>\n",
              "    .dataframe tbody tr th:only-of-type {\n",
              "        vertical-align: middle;\n",
              "    }\n",
              "\n",
              "    .dataframe tbody tr th {\n",
              "        vertical-align: top;\n",
              "    }\n",
              "\n",
              "    .dataframe thead th {\n",
              "        text-align: right;\n",
              "    }\n",
              "</style>\n",
              "<table border=\"1\" class=\"dataframe\">\n",
              "  <thead>\n",
              "    <tr style=\"text-align: right;\">\n",
              "      <th></th>\n",
              "      <th>movieId</th>\n",
              "      <th>title</th>\n",
              "      <th>genres</th>\n",
              "    </tr>\n",
              "  </thead>\n",
              "  <tbody>\n",
              "    <tr>\n",
              "      <th>0</th>\n",
              "      <td>1</td>\n",
              "      <td>Toy Story (1995)</td>\n",
              "      <td>Animation|Children's|Comedy</td>\n",
              "    </tr>\n",
              "    <tr>\n",
              "      <th>1</th>\n",
              "      <td>2</td>\n",
              "      <td>Jumanji (1995)</td>\n",
              "      <td>Adventure|Children's|Fantasy</td>\n",
              "    </tr>\n",
              "    <tr>\n",
              "      <th>2</th>\n",
              "      <td>3</td>\n",
              "      <td>Grumpier Old Men (1995)</td>\n",
              "      <td>Comedy|Romance</td>\n",
              "    </tr>\n",
              "    <tr>\n",
              "      <th>3</th>\n",
              "      <td>4</td>\n",
              "      <td>Waiting to Exhale (1995)</td>\n",
              "      <td>Comedy|Drama</td>\n",
              "    </tr>\n",
              "    <tr>\n",
              "      <th>4</th>\n",
              "      <td>5</td>\n",
              "      <td>Father of the Bride Part II (1995)</td>\n",
              "      <td>Comedy</td>\n",
              "    </tr>\n",
              "    <tr>\n",
              "      <th>...</th>\n",
              "      <td>...</td>\n",
              "      <td>...</td>\n",
              "      <td>...</td>\n",
              "    </tr>\n",
              "    <tr>\n",
              "      <th>3878</th>\n",
              "      <td>3948</td>\n",
              "      <td>Meet the Parents (2000)</td>\n",
              "      <td>Comedy</td>\n",
              "    </tr>\n",
              "    <tr>\n",
              "      <th>3879</th>\n",
              "      <td>3949</td>\n",
              "      <td>Requiem for a Dream (2000)</td>\n",
              "      <td>Drama</td>\n",
              "    </tr>\n",
              "    <tr>\n",
              "      <th>3880</th>\n",
              "      <td>3950</td>\n",
              "      <td>Tigerland (2000)</td>\n",
              "      <td>Drama</td>\n",
              "    </tr>\n",
              "    <tr>\n",
              "      <th>3881</th>\n",
              "      <td>3951</td>\n",
              "      <td>Two Family House (2000)</td>\n",
              "      <td>Drama</td>\n",
              "    </tr>\n",
              "    <tr>\n",
              "      <th>3882</th>\n",
              "      <td>3952</td>\n",
              "      <td>Contender, The (2000)</td>\n",
              "      <td>Drama|Thriller</td>\n",
              "    </tr>\n",
              "  </tbody>\n",
              "</table>\n",
              "<p>3883 rows × 3 columns</p>\n",
              "</div>\n",
              "      <button class=\"colab-df-convert\" onclick=\"convertToInteractive('df-a54cfe22-7472-4d04-bc77-030fdb6e0cb6')\"\n",
              "              title=\"Convert this dataframe to an interactive table.\"\n",
              "              style=\"display:none;\">\n",
              "        \n",
              "  <svg xmlns=\"http://www.w3.org/2000/svg\" height=\"24px\"viewBox=\"0 0 24 24\"\n",
              "       width=\"24px\">\n",
              "    <path d=\"M0 0h24v24H0V0z\" fill=\"none\"/>\n",
              "    <path d=\"M18.56 5.44l.94 2.06.94-2.06 2.06-.94-2.06-.94-.94-2.06-.94 2.06-2.06.94zm-11 1L8.5 8.5l.94-2.06 2.06-.94-2.06-.94L8.5 2.5l-.94 2.06-2.06.94zm10 10l.94 2.06.94-2.06 2.06-.94-2.06-.94-.94-2.06-.94 2.06-2.06.94z\"/><path d=\"M17.41 7.96l-1.37-1.37c-.4-.4-.92-.59-1.43-.59-.52 0-1.04.2-1.43.59L10.3 9.45l-7.72 7.72c-.78.78-.78 2.05 0 2.83L4 21.41c.39.39.9.59 1.41.59.51 0 1.02-.2 1.41-.59l7.78-7.78 2.81-2.81c.8-.78.8-2.07 0-2.86zM5.41 20L4 18.59l7.72-7.72 1.47 1.35L5.41 20z\"/>\n",
              "  </svg>\n",
              "      </button>\n",
              "      \n",
              "  <style>\n",
              "    .colab-df-container {\n",
              "      display:flex;\n",
              "      flex-wrap:wrap;\n",
              "      gap: 12px;\n",
              "    }\n",
              "\n",
              "    .colab-df-convert {\n",
              "      background-color: #E8F0FE;\n",
              "      border: none;\n",
              "      border-radius: 50%;\n",
              "      cursor: pointer;\n",
              "      display: none;\n",
              "      fill: #1967D2;\n",
              "      height: 32px;\n",
              "      padding: 0 0 0 0;\n",
              "      width: 32px;\n",
              "    }\n",
              "\n",
              "    .colab-df-convert:hover {\n",
              "      background-color: #E2EBFA;\n",
              "      box-shadow: 0px 1px 2px rgba(60, 64, 67, 0.3), 0px 1px 3px 1px rgba(60, 64, 67, 0.15);\n",
              "      fill: #174EA6;\n",
              "    }\n",
              "\n",
              "    [theme=dark] .colab-df-convert {\n",
              "      background-color: #3B4455;\n",
              "      fill: #D2E3FC;\n",
              "    }\n",
              "\n",
              "    [theme=dark] .colab-df-convert:hover {\n",
              "      background-color: #434B5C;\n",
              "      box-shadow: 0px 1px 3px 1px rgba(0, 0, 0, 0.15);\n",
              "      filter: drop-shadow(0px 1px 2px rgba(0, 0, 0, 0.3));\n",
              "      fill: #FFFFFF;\n",
              "    }\n",
              "  </style>\n",
              "\n",
              "      <script>\n",
              "        const buttonEl =\n",
              "          document.querySelector('#df-a54cfe22-7472-4d04-bc77-030fdb6e0cb6 button.colab-df-convert');\n",
              "        buttonEl.style.display =\n",
              "          google.colab.kernel.accessAllowed ? 'block' : 'none';\n",
              "\n",
              "        async function convertToInteractive(key) {\n",
              "          const element = document.querySelector('#df-a54cfe22-7472-4d04-bc77-030fdb6e0cb6');\n",
              "          const dataTable =\n",
              "            await google.colab.kernel.invokeFunction('convertToInteractive',\n",
              "                                                     [key], {});\n",
              "          if (!dataTable) return;\n",
              "\n",
              "          const docLinkHtml = 'Like what you see? Visit the ' +\n",
              "            '<a target=\"_blank\" href=https://colab.research.google.com/notebooks/data_table.ipynb>data table notebook</a>'\n",
              "            + ' to learn more about interactive tables.';\n",
              "          element.innerHTML = '';\n",
              "          dataTable['output_type'] = 'display_data';\n",
              "          await google.colab.output.renderOutput(dataTable, element);\n",
              "          const docLink = document.createElement('div');\n",
              "          docLink.innerHTML = docLinkHtml;\n",
              "          element.appendChild(docLink);\n",
              "        }\n",
              "      </script>\n",
              "    </div>\n",
              "  </div>\n",
              "  "
            ]
          },
          "metadata": {}
        },
        {
          "output_type": "stream",
          "name": "stdout",
          "text": [
            "CPU times: user 22.5 ms, sys: 3.17 ms, total: 25.7 ms\n",
            "Wall time: 26 ms\n"
          ]
        }
      ]
    },
    {
      "cell_type": "code",
      "source": [
        "df_mov.info()"
      ],
      "metadata": {
        "colab": {
          "base_uri": "https://localhost:8080/"
        },
        "id": "ZYHJ5VQQiyE6",
        "outputId": "c01f07c3-97b0-4b9f-a0d5-0f30a454fd39"
      },
      "execution_count": 10,
      "outputs": [
        {
          "output_type": "stream",
          "name": "stdout",
          "text": [
            "<class 'pandas.core.frame.DataFrame'>\n",
            "RangeIndex: 3883 entries, 0 to 3882\n",
            "Data columns (total 3 columns):\n",
            " #   Column   Non-Null Count  Dtype \n",
            "---  ------   --------------  ----- \n",
            " 0   movieId  3883 non-null   int32 \n",
            " 1   title    3883 non-null   object\n",
            " 2   genres   3883 non-null   object\n",
            "dtypes: int32(1), object(2)\n",
            "memory usage: 76.0+ KB\n"
          ]
        }
      ]
    },
    {
      "cell_type": "markdown",
      "source": [
        "#### Build Movie Dictionary for Lookup\n",
        "\n",
        "Now build a dictionary for later lookup using movie IDs. Note that the movie ID starts at index 1. "
      ],
      "metadata": {
        "id": "OfAFp_kxrWA1"
      }
    },
    {
      "cell_type": "code",
      "source": [
        "dict_movies = {k:v for k,v in zip(df_mov.movieId, df_mov.title)}\n",
        "dict_movies[1]"
      ],
      "metadata": {
        "colab": {
          "base_uri": "https://localhost:8080/",
          "height": 35
        },
        "id": "QDvRk5JZrZni",
        "outputId": "e1a07252-5ad7-4042-ef7f-d2f4269580e8"
      },
      "execution_count": 11,
      "outputs": [
        {
          "output_type": "execute_result",
          "data": {
            "text/plain": [
              "'Toy Story (1995)'"
            ],
            "application/vnd.google.colaboratory.intrinsic+json": {
              "type": "string"
            }
          },
          "metadata": {},
          "execution_count": 11
        }
      ]
    },
    {
      "cell_type": "markdown",
      "source": [
        "#### Trending by Year and Genre\n",
        "\n",
        "The dataset contains near 20 different genres. When checking the number of movies by their release year and genres, it can be seen that most of the movies watched (reviewed) were produced after 1980 with a big burst between 1995 and 2000, across all genres. "
      ],
      "metadata": {
        "id": "pEhico57rJJi"
      }
    },
    {
      "cell_type": "code",
      "source": [
        "df_mov['year'] = df_mov['title'].apply(lambda x: x[-5:-1] if x[-5:-1] >= '1800' and x[-5:-1] <= '2022' else 'NA')"
      ],
      "metadata": {
        "id": "-uAhdiQ2q2td"
      },
      "execution_count": 12,
      "outputs": []
    },
    {
      "cell_type": "code",
      "source": [
        "genres = df_mov.genres.unique()\n",
        "genres = [rec.split('|') for rec in genres]\n",
        "genres = sorted(list(set(gen for rec in genres for gen in rec)))\n",
        "', '.join(genres)"
      ],
      "metadata": {
        "colab": {
          "base_uri": "https://localhost:8080/",
          "height": 35
        },
        "id": "z78zNypBkYT1",
        "outputId": "9f9eecc9-a55e-4e2f-a928-3246f1cbb812"
      },
      "execution_count": 13,
      "outputs": [
        {
          "output_type": "execute_result",
          "data": {
            "text/plain": [
              "\"Action, Adventure, Animation, Children's, Comedy, Crime, Documentary, Drama, Fantasy, Film-Noir, Horror, Musical, Mystery, Romance, Sci-Fi, Thriller, War, Western\""
            ],
            "application/vnd.google.colaboratory.intrinsic+json": {
              "type": "string"
            }
          },
          "metadata": {},
          "execution_count": 13
        }
      ]
    },
    {
      "cell_type": "code",
      "source": [
        "for gen in genres:\n",
        "    df_mov[gen] = df_mov.genres.apply(lambda x: gen in x)\n",
        "\n",
        "df_mov[['movieId', 'title', 'year' ,'Action', 'Adventure', 'Animation', 'Comedy']]"
      ],
      "metadata": {
        "colab": {
          "base_uri": "https://localhost:8080/",
          "height": 424
        },
        "id": "XzzXW6Xflght",
        "outputId": "d0f4db84-64ef-4ace-bac2-3dadcbbc7907"
      },
      "execution_count": 14,
      "outputs": [
        {
          "output_type": "execute_result",
          "data": {
            "text/plain": [
              "      movieId                               title  year  Action  Adventure  \\\n",
              "0           1                    Toy Story (1995)  1995   False      False   \n",
              "1           2                      Jumanji (1995)  1995   False       True   \n",
              "2           3             Grumpier Old Men (1995)  1995   False      False   \n",
              "3           4            Waiting to Exhale (1995)  1995   False      False   \n",
              "4           5  Father of the Bride Part II (1995)  1995   False      False   \n",
              "...       ...                                 ...   ...     ...        ...   \n",
              "3878     3948             Meet the Parents (2000)  2000   False      False   \n",
              "3879     3949          Requiem for a Dream (2000)  2000   False      False   \n",
              "3880     3950                    Tigerland (2000)  2000   False      False   \n",
              "3881     3951             Two Family House (2000)  2000   False      False   \n",
              "3882     3952               Contender, The (2000)  2000   False      False   \n",
              "\n",
              "      Animation  Comedy  \n",
              "0          True    True  \n",
              "1         False   False  \n",
              "2         False    True  \n",
              "3         False    True  \n",
              "4         False    True  \n",
              "...         ...     ...  \n",
              "3878      False    True  \n",
              "3879      False   False  \n",
              "3880      False   False  \n",
              "3881      False   False  \n",
              "3882      False   False  \n",
              "\n",
              "[3883 rows x 7 columns]"
            ],
            "text/html": [
              "\n",
              "  <div id=\"df-cb911646-9542-47d5-92dd-eff21c30baff\">\n",
              "    <div class=\"colab-df-container\">\n",
              "      <div>\n",
              "<style scoped>\n",
              "    .dataframe tbody tr th:only-of-type {\n",
              "        vertical-align: middle;\n",
              "    }\n",
              "\n",
              "    .dataframe tbody tr th {\n",
              "        vertical-align: top;\n",
              "    }\n",
              "\n",
              "    .dataframe thead th {\n",
              "        text-align: right;\n",
              "    }\n",
              "</style>\n",
              "<table border=\"1\" class=\"dataframe\">\n",
              "  <thead>\n",
              "    <tr style=\"text-align: right;\">\n",
              "      <th></th>\n",
              "      <th>movieId</th>\n",
              "      <th>title</th>\n",
              "      <th>year</th>\n",
              "      <th>Action</th>\n",
              "      <th>Adventure</th>\n",
              "      <th>Animation</th>\n",
              "      <th>Comedy</th>\n",
              "    </tr>\n",
              "  </thead>\n",
              "  <tbody>\n",
              "    <tr>\n",
              "      <th>0</th>\n",
              "      <td>1</td>\n",
              "      <td>Toy Story (1995)</td>\n",
              "      <td>1995</td>\n",
              "      <td>False</td>\n",
              "      <td>False</td>\n",
              "      <td>True</td>\n",
              "      <td>True</td>\n",
              "    </tr>\n",
              "    <tr>\n",
              "      <th>1</th>\n",
              "      <td>2</td>\n",
              "      <td>Jumanji (1995)</td>\n",
              "      <td>1995</td>\n",
              "      <td>False</td>\n",
              "      <td>True</td>\n",
              "      <td>False</td>\n",
              "      <td>False</td>\n",
              "    </tr>\n",
              "    <tr>\n",
              "      <th>2</th>\n",
              "      <td>3</td>\n",
              "      <td>Grumpier Old Men (1995)</td>\n",
              "      <td>1995</td>\n",
              "      <td>False</td>\n",
              "      <td>False</td>\n",
              "      <td>False</td>\n",
              "      <td>True</td>\n",
              "    </tr>\n",
              "    <tr>\n",
              "      <th>3</th>\n",
              "      <td>4</td>\n",
              "      <td>Waiting to Exhale (1995)</td>\n",
              "      <td>1995</td>\n",
              "      <td>False</td>\n",
              "      <td>False</td>\n",
              "      <td>False</td>\n",
              "      <td>True</td>\n",
              "    </tr>\n",
              "    <tr>\n",
              "      <th>4</th>\n",
              "      <td>5</td>\n",
              "      <td>Father of the Bride Part II (1995)</td>\n",
              "      <td>1995</td>\n",
              "      <td>False</td>\n",
              "      <td>False</td>\n",
              "      <td>False</td>\n",
              "      <td>True</td>\n",
              "    </tr>\n",
              "    <tr>\n",
              "      <th>...</th>\n",
              "      <td>...</td>\n",
              "      <td>...</td>\n",
              "      <td>...</td>\n",
              "      <td>...</td>\n",
              "      <td>...</td>\n",
              "      <td>...</td>\n",
              "      <td>...</td>\n",
              "    </tr>\n",
              "    <tr>\n",
              "      <th>3878</th>\n",
              "      <td>3948</td>\n",
              "      <td>Meet the Parents (2000)</td>\n",
              "      <td>2000</td>\n",
              "      <td>False</td>\n",
              "      <td>False</td>\n",
              "      <td>False</td>\n",
              "      <td>True</td>\n",
              "    </tr>\n",
              "    <tr>\n",
              "      <th>3879</th>\n",
              "      <td>3949</td>\n",
              "      <td>Requiem for a Dream (2000)</td>\n",
              "      <td>2000</td>\n",
              "      <td>False</td>\n",
              "      <td>False</td>\n",
              "      <td>False</td>\n",
              "      <td>False</td>\n",
              "    </tr>\n",
              "    <tr>\n",
              "      <th>3880</th>\n",
              "      <td>3950</td>\n",
              "      <td>Tigerland (2000)</td>\n",
              "      <td>2000</td>\n",
              "      <td>False</td>\n",
              "      <td>False</td>\n",
              "      <td>False</td>\n",
              "      <td>False</td>\n",
              "    </tr>\n",
              "    <tr>\n",
              "      <th>3881</th>\n",
              "      <td>3951</td>\n",
              "      <td>Two Family House (2000)</td>\n",
              "      <td>2000</td>\n",
              "      <td>False</td>\n",
              "      <td>False</td>\n",
              "      <td>False</td>\n",
              "      <td>False</td>\n",
              "    </tr>\n",
              "    <tr>\n",
              "      <th>3882</th>\n",
              "      <td>3952</td>\n",
              "      <td>Contender, The (2000)</td>\n",
              "      <td>2000</td>\n",
              "      <td>False</td>\n",
              "      <td>False</td>\n",
              "      <td>False</td>\n",
              "      <td>False</td>\n",
              "    </tr>\n",
              "  </tbody>\n",
              "</table>\n",
              "<p>3883 rows × 7 columns</p>\n",
              "</div>\n",
              "      <button class=\"colab-df-convert\" onclick=\"convertToInteractive('df-cb911646-9542-47d5-92dd-eff21c30baff')\"\n",
              "              title=\"Convert this dataframe to an interactive table.\"\n",
              "              style=\"display:none;\">\n",
              "        \n",
              "  <svg xmlns=\"http://www.w3.org/2000/svg\" height=\"24px\"viewBox=\"0 0 24 24\"\n",
              "       width=\"24px\">\n",
              "    <path d=\"M0 0h24v24H0V0z\" fill=\"none\"/>\n",
              "    <path d=\"M18.56 5.44l.94 2.06.94-2.06 2.06-.94-2.06-.94-.94-2.06-.94 2.06-2.06.94zm-11 1L8.5 8.5l.94-2.06 2.06-.94-2.06-.94L8.5 2.5l-.94 2.06-2.06.94zm10 10l.94 2.06.94-2.06 2.06-.94-2.06-.94-.94-2.06-.94 2.06-2.06.94z\"/><path d=\"M17.41 7.96l-1.37-1.37c-.4-.4-.92-.59-1.43-.59-.52 0-1.04.2-1.43.59L10.3 9.45l-7.72 7.72c-.78.78-.78 2.05 0 2.83L4 21.41c.39.39.9.59 1.41.59.51 0 1.02-.2 1.41-.59l7.78-7.78 2.81-2.81c.8-.78.8-2.07 0-2.86zM5.41 20L4 18.59l7.72-7.72 1.47 1.35L5.41 20z\"/>\n",
              "  </svg>\n",
              "      </button>\n",
              "      \n",
              "  <style>\n",
              "    .colab-df-container {\n",
              "      display:flex;\n",
              "      flex-wrap:wrap;\n",
              "      gap: 12px;\n",
              "    }\n",
              "\n",
              "    .colab-df-convert {\n",
              "      background-color: #E8F0FE;\n",
              "      border: none;\n",
              "      border-radius: 50%;\n",
              "      cursor: pointer;\n",
              "      display: none;\n",
              "      fill: #1967D2;\n",
              "      height: 32px;\n",
              "      padding: 0 0 0 0;\n",
              "      width: 32px;\n",
              "    }\n",
              "\n",
              "    .colab-df-convert:hover {\n",
              "      background-color: #E2EBFA;\n",
              "      box-shadow: 0px 1px 2px rgba(60, 64, 67, 0.3), 0px 1px 3px 1px rgba(60, 64, 67, 0.15);\n",
              "      fill: #174EA6;\n",
              "    }\n",
              "\n",
              "    [theme=dark] .colab-df-convert {\n",
              "      background-color: #3B4455;\n",
              "      fill: #D2E3FC;\n",
              "    }\n",
              "\n",
              "    [theme=dark] .colab-df-convert:hover {\n",
              "      background-color: #434B5C;\n",
              "      box-shadow: 0px 1px 3px 1px rgba(0, 0, 0, 0.15);\n",
              "      filter: drop-shadow(0px 1px 2px rgba(0, 0, 0, 0.3));\n",
              "      fill: #FFFFFF;\n",
              "    }\n",
              "  </style>\n",
              "\n",
              "      <script>\n",
              "        const buttonEl =\n",
              "          document.querySelector('#df-cb911646-9542-47d5-92dd-eff21c30baff button.colab-df-convert');\n",
              "        buttonEl.style.display =\n",
              "          google.colab.kernel.accessAllowed ? 'block' : 'none';\n",
              "\n",
              "        async function convertToInteractive(key) {\n",
              "          const element = document.querySelector('#df-cb911646-9542-47d5-92dd-eff21c30baff');\n",
              "          const dataTable =\n",
              "            await google.colab.kernel.invokeFunction('convertToInteractive',\n",
              "                                                     [key], {});\n",
              "          if (!dataTable) return;\n",
              "\n",
              "          const docLinkHtml = 'Like what you see? Visit the ' +\n",
              "            '<a target=\"_blank\" href=https://colab.research.google.com/notebooks/data_table.ipynb>data table notebook</a>'\n",
              "            + ' to learn more about interactive tables.';\n",
              "          element.innerHTML = '';\n",
              "          dataTable['output_type'] = 'display_data';\n",
              "          await google.colab.output.renderOutput(dataTable, element);\n",
              "          const docLink = document.createElement('div');\n",
              "          docLink.innerHTML = docLinkHtml;\n",
              "          element.appendChild(docLink);\n",
              "        }\n",
              "      </script>\n",
              "    </div>\n",
              "  </div>\n",
              "  "
            ]
          },
          "metadata": {},
          "execution_count": 14
        }
      ]
    },
    {
      "cell_type": "code",
      "source": [
        "df_agg = df_mov.groupby('year').sum().drop(columns='movieId')\n",
        "_ = df_agg.plot(figsize=(16, 6), title='Movies Reviewed by Release Year and Genre')"
      ],
      "metadata": {
        "colab": {
          "base_uri": "https://localhost:8080/",
          "height": 404
        },
        "id": "ziPjLAa3nOeE",
        "outputId": "d47a8942-edea-429b-e9c2-8ce9c3db5272"
      },
      "execution_count": 15,
      "outputs": [
        {
          "output_type": "display_data",
          "data": {
            "text/plain": [
              "<Figure size 1152x432 with 1 Axes>"
            ],
            "image/png": "[encoded data removed]"
          },
          "metadata": {
            "needs_background": "light"
          }
        }
      ]
    },
    {
      "cell_type": "markdown",
      "source": [
        "#### Check out the Ratings"
      ],
      "metadata": {
        "id": "UIm3BRqajxmz"
      }
    },
    {
      "cell_type": "code",
      "source": [
        "scorefile = os.path.join(filepath, 'ratings.dat')\n",
        "!head -3 $scorefile"
      ],
      "metadata": {
        "colab": {
          "base_uri": "https://localhost:8080/"
        },
        "id": "udmrW6xcUbqO",
        "outputId": "ecfa484d-99da-404c-b3b1-721d331914ed"
      },
      "execution_count": 16,
      "outputs": [
        {
          "output_type": "stream",
          "name": "stdout",
          "text": [
            "1::1193::5::978300760\n",
            "1::661::3::978302109\n",
            "1::914::3::978301968\n"
          ]
        }
      ]
    },
    {
      "cell_type": "code",
      "source": [
        "%%time\n",
        "df_raw = pd.read_csv(\n",
        "    scorefile,\n",
        "    sep='::', engine='python',\n",
        "    names=['userId', 'movieId', 'rating', 'timestamp'],\n",
        "    usecols=['userId', 'movieId', 'rating'],\n",
        "    dtype={'userId':'int32','movieId':'int32','rating':'float32'},\n",
        "    encoding='ISO-8859-1',\n",
        ")\n",
        "display(df_raw)"
      ],
      "metadata": {
        "colab": {
          "base_uri": "https://localhost:8080/",
          "height": 458
        },
        "id": "naBr_DNISdYN",
        "outputId": "2b49c065-abc9-45d7-e686-4001b8178d85"
      },
      "execution_count": 17,
      "outputs": [
        {
          "output_type": "display_data",
          "data": {
            "text/plain": [
              "         userId  movieId  rating\n",
              "0             1     1193     5.0\n",
              "1             1      661     3.0\n",
              "2             1      914     3.0\n",
              "3             1     3408     4.0\n",
              "4             1     2355     5.0\n",
              "...         ...      ...     ...\n",
              "1000204    6040     1091     1.0\n",
              "1000205    6040     1094     5.0\n",
              "1000206    6040      562     5.0\n",
              "1000207    6040     1096     4.0\n",
              "1000208    6040     1097     4.0\n",
              "\n",
              "[1000209 rows x 3 columns]"
            ],
            "text/html": [
              "\n",
              "  <div id=\"df-0ccd7123-7c3c-4a75-b9eb-f0c77f15f9a8\">\n",
              "    <div class=\"colab-df-container\">\n",
              "      <div>\n",
              "<style scoped>\n",
              "    .dataframe tbody tr th:only-of-type {\n",
              "        vertical-align: middle;\n",
              "    }\n",
              "\n",
              "    .dataframe tbody tr th {\n",
              "        vertical-align: top;\n",
              "    }\n",
              "\n",
              "    .dataframe thead th {\n",
              "        text-align: right;\n",
              "    }\n",
              "</style>\n",
              "<table border=\"1\" class=\"dataframe\">\n",
              "  <thead>\n",
              "    <tr style=\"text-align: right;\">\n",
              "      <th></th>\n",
              "      <th>userId</th>\n",
              "      <th>movieId</th>\n",
              "      <th>rating</th>\n",
              "    </tr>\n",
              "  </thead>\n",
              "  <tbody>\n",
              "    <tr>\n",
              "      <th>0</th>\n",
              "      <td>1</td>\n",
              "      <td>1193</td>\n",
              "      <td>5.0</td>\n",
              "    </tr>\n",
              "    <tr>\n",
              "      <th>1</th>\n",
              "      <td>1</td>\n",
              "      <td>661</td>\n",
              "      <td>3.0</td>\n",
              "    </tr>\n",
              "    <tr>\n",
              "      <th>2</th>\n",
              "      <td>1</td>\n",
              "      <td>914</td>\n",
              "      <td>3.0</td>\n",
              "    </tr>\n",
              "    <tr>\n",
              "      <th>3</th>\n",
              "      <td>1</td>\n",
              "      <td>3408</td>\n",
              "      <td>4.0</td>\n",
              "    </tr>\n",
              "    <tr>\n",
              "      <th>4</th>\n",
              "      <td>1</td>\n",
              "      <td>2355</td>\n",
              "      <td>5.0</td>\n",
              "    </tr>\n",
              "    <tr>\n",
              "      <th>...</th>\n",
              "      <td>...</td>\n",
              "      <td>...</td>\n",
              "      <td>...</td>\n",
              "    </tr>\n",
              "    <tr>\n",
              "      <th>1000204</th>\n",
              "      <td>6040</td>\n",
              "      <td>1091</td>\n",
              "      <td>1.0</td>\n",
              "    </tr>\n",
              "    <tr>\n",
              "      <th>1000205</th>\n",
              "      <td>6040</td>\n",
              "      <td>1094</td>\n",
              "      <td>5.0</td>\n",
              "    </tr>\n",
              "    <tr>\n",
              "      <th>1000206</th>\n",
              "      <td>6040</td>\n",
              "      <td>562</td>\n",
              "      <td>5.0</td>\n",
              "    </tr>\n",
              "    <tr>\n",
              "      <th>1000207</th>\n",
              "      <td>6040</td>\n",
              "      <td>1096</td>\n",
              "      <td>4.0</td>\n",
              "    </tr>\n",
              "    <tr>\n",
              "      <th>1000208</th>\n",
              "      <td>6040</td>\n",
              "      <td>1097</td>\n",
              "      <td>4.0</td>\n",
              "    </tr>\n",
              "  </tbody>\n",
              "</table>\n",
              "<p>1000209 rows × 3 columns</p>\n",
              "</div>\n",
              "      <button class=\"colab-df-convert\" onclick=\"convertToInteractive('df-0ccd7123-7c3c-4a75-b9eb-f0c77f15f9a8')\"\n",
              "              title=\"Convert this dataframe to an interactive table.\"\n",
              "              style=\"display:none;\">\n",
              "        \n",
              "  <svg xmlns=\"http://www.w3.org/2000/svg\" height=\"24px\"viewBox=\"0 0 24 24\"\n",
              "       width=\"24px\">\n",
              "    <path d=\"M0 0h24v24H0V0z\" fill=\"none\"/>\n",
              "    <path d=\"M18.56 5.44l.94 2.06.94-2.06 2.06-.94-2.06-.94-.94-2.06-.94 2.06-2.06.94zm-11 1L8.5 8.5l.94-2.06 2.06-.94-2.06-.94L8.5 2.5l-.94 2.06-2.06.94zm10 10l.94 2.06.94-2.06 2.06-.94-2.06-.94-.94-2.06-.94 2.06-2.06.94z\"/><path d=\"M17.41 7.96l-1.37-1.37c-.4-.4-.92-.59-1.43-.59-.52 0-1.04.2-1.43.59L10.3 9.45l-7.72 7.72c-.78.78-.78 2.05 0 2.83L4 21.41c.39.39.9.59 1.41.59.51 0 1.02-.2 1.41-.59l7.78-7.78 2.81-2.81c.8-.78.8-2.07 0-2.86zM5.41 20L4 18.59l7.72-7.72 1.47 1.35L5.41 20z\"/>\n",
              "  </svg>\n",
              "      </button>\n",
              "      \n",
              "  <style>\n",
              "    .colab-df-container {\n",
              "      display:flex;\n",
              "      flex-wrap:wrap;\n",
              "      gap: 12px;\n",
              "    }\n",
              "\n",
              "    .colab-df-convert {\n",
              "      background-color: #E8F0FE;\n",
              "      border: none;\n",
              "      border-radius: 50%;\n",
              "      cursor: pointer;\n",
              "      display: none;\n",
              "      fill: #1967D2;\n",
              "      height: 32px;\n",
              "      padding: 0 0 0 0;\n",
              "      width: 32px;\n",
              "    }\n",
              "\n",
              "    .colab-df-convert:hover {\n",
              "      background-color: #E2EBFA;\n",
              "      box-shadow: 0px 1px 2px rgba(60, 64, 67, 0.3), 0px 1px 3px 1px rgba(60, 64, 67, 0.15);\n",
              "      fill: #174EA6;\n",
              "    }\n",
              "\n",
              "    [theme=dark] .colab-df-convert {\n",
              "      background-color: #3B4455;\n",
              "      fill: #D2E3FC;\n",
              "    }\n",
              "\n",
              "    [theme=dark] .colab-df-convert:hover {\n",
              "      background-color: #434B5C;\n",
              "      box-shadow: 0px 1px 3px 1px rgba(0, 0, 0, 0.15);\n",
              "      filter: drop-shadow(0px 1px 2px rgba(0, 0, 0, 0.3));\n",
              "      fill: #FFFFFF;\n",
              "    }\n",
              "  </style>\n",
              "\n",
              "      <script>\n",
              "        const buttonEl =\n",
              "          document.querySelector('#df-0ccd7123-7c3c-4a75-b9eb-f0c77f15f9a8 button.colab-df-convert');\n",
              "        buttonEl.style.display =\n",
              "          google.colab.kernel.accessAllowed ? 'block' : 'none';\n",
              "\n",
              "        async function convertToInteractive(key) {\n",
              "          const element = document.querySelector('#df-0ccd7123-7c3c-4a75-b9eb-f0c77f15f9a8');\n",
              "          const dataTable =\n",
              "            await google.colab.kernel.invokeFunction('convertToInteractive',\n",
              "                                                     [key], {});\n",
              "          if (!dataTable) return;\n",
              "\n",
              "          const docLinkHtml = 'Like what you see? Visit the ' +\n",
              "            '<a target=\"_blank\" href=https://colab.research.google.com/notebooks/data_table.ipynb>data table notebook</a>'\n",
              "            + ' to learn more about interactive tables.';\n",
              "          element.innerHTML = '';\n",
              "          dataTable['output_type'] = 'display_data';\n",
              "          await google.colab.output.renderOutput(dataTable, element);\n",
              "          const docLink = document.createElement('div');\n",
              "          docLink.innerHTML = docLinkHtml;\n",
              "          element.appendChild(docLink);\n",
              "        }\n",
              "      </script>\n",
              "    </div>\n",
              "  </div>\n",
              "  "
            ]
          },
          "metadata": {}
        },
        {
          "output_type": "stream",
          "name": "stdout",
          "text": [
            "CPU times: user 4.17 s, sys: 238 ms, total: 4.41 s\n",
            "Wall time: 4.34 s\n"
          ]
        }
      ]
    },
    {
      "cell_type": "code",
      "source": [
        "df_raw.info()"
      ],
      "metadata": {
        "colab": {
          "base_uri": "https://localhost:8080/"
        },
        "id": "65Uslk_KebFN",
        "outputId": "c1653a61-422b-46e9-b6f2-3eccf20c1d12"
      },
      "execution_count": 18,
      "outputs": [
        {
          "output_type": "stream",
          "name": "stdout",
          "text": [
            "<class 'pandas.core.frame.DataFrame'>\n",
            "RangeIndex: 1000209 entries, 0 to 1000208\n",
            "Data columns (total 3 columns):\n",
            " #   Column   Non-Null Count    Dtype  \n",
            "---  ------   --------------    -----  \n",
            " 0   userId   1000209 non-null  int32  \n",
            " 1   movieId  1000209 non-null  int32  \n",
            " 2   rating   1000209 non-null  float32\n",
            "dtypes: float32(1), int32(2)\n",
            "memory usage: 11.4 MB\n"
          ]
        }
      ]
    },
    {
      "cell_type": "code",
      "source": [
        "print(\"Unique Users:\", df_raw.userId.nunique())\n",
        "print(\"Unique Movies:\", df_raw.movieId.nunique())"
      ],
      "metadata": {
        "colab": {
          "base_uri": "https://localhost:8080/"
        },
        "id": "jOukIITq-7JN",
        "outputId": "bfa596a1-02a0-431d-dd73-4fc761201e2f"
      },
      "execution_count": 19,
      "outputs": [
        {
          "output_type": "stream",
          "name": "stdout",
          "text": [
            "Unique Users: 6040\n",
            "Unique Movies: 3706\n"
          ]
        }
      ]
    },
    {
      "cell_type": "markdown",
      "source": [
        "#### Sparsity of Data\n",
        "\n",
        "The above line records can be pivoted into a matrix with user ID as row indices and movie Id as column indices. This matrix is very sparse with part of it shown below. "
      ],
      "metadata": {
        "id": "3-KcTv9B-5tQ"
      }
    },
    {
      "cell_type": "code",
      "source": [
        "%%time\n",
        "df_tab = df_raw.pivot(index='userId', columns='movieId', values='rating')\n",
        "display(df_tab.head().fillna(''))"
      ],
      "metadata": {
        "id": "LjXVY6OmGk_O",
        "colab": {
          "base_uri": "https://localhost:8080/",
          "height": 302
        },
        "outputId": "20d6dc62-a7a5-48d5-9849-d645bfd9e69c"
      },
      "execution_count": 20,
      "outputs": [
        {
          "output_type": "display_data",
          "data": {
            "text/plain": [
              "movieId 1    2    3    4    5    6    7    8    9    10    ... 3943 3944 3945  \\\n",
              "userId                                                     ...                  \n",
              "1        5.0                                               ...                  \n",
              "2                                                          ...                  \n",
              "3                                                          ...                  \n",
              "4                                                          ...                  \n",
              "5                                 2.0                      ...                  \n",
              "\n",
              "movieId 3946 3947 3948 3949 3950 3951 3952  \n",
              "userId                                      \n",
              "1                                           \n",
              "2                                           \n",
              "3                                           \n",
              "4                                           \n",
              "5                                           \n",
              "\n",
              "[5 rows x 3706 columns]"
            ],
            "text/html": [
              "\n",
              "  <div id=\"df-ad72e17b-08d6-411e-b41b-5351acc31701\">\n",
              "    <div class=\"colab-df-container\">\n",
              "      <div>\n",
              "<style scoped>\n",
              "    .dataframe tbody tr th:only-of-type {\n",
              "        vertical-align: middle;\n",
              "    }\n",
              "\n",
              "    .dataframe tbody tr th {\n",
              "        vertical-align: top;\n",
              "    }\n",
              "\n",
              "    .dataframe thead th {\n",
              "        text-align: right;\n",
              "    }\n",
              "</style>\n",
              "<table border=\"1\" class=\"dataframe\">\n",
              "  <thead>\n",
              "    <tr style=\"text-align: right;\">\n",
              "      <th>movieId</th>\n",
              "      <th>1</th>\n",
              "      <th>2</th>\n",
              "      <th>3</th>\n",
              "      <th>4</th>\n",
              "      <th>5</th>\n",
              "      <th>6</th>\n",
              "      <th>7</th>\n",
              "      <th>8</th>\n",
              "      <th>9</th>\n",
              "      <th>10</th>\n",
              "      <th>...</th>\n",
              "      <th>3943</th>\n",
              "      <th>3944</th>\n",
              "      <th>3945</th>\n",
              "      <th>3946</th>\n",
              "      <th>3947</th>\n",
              "      <th>3948</th>\n",
              "      <th>3949</th>\n",
              "      <th>3950</th>\n",
              "      <th>3951</th>\n",
              "      <th>3952</th>\n",
              "    </tr>\n",
              "    <tr>\n",
              "      <th>userId</th>\n",
              "      <th></th>\n",
              "      <th></th>\n",
              "      <th></th>\n",
              "      <th></th>\n",
              "      <th></th>\n",
              "      <th></th>\n",
              "      <th></th>\n",
              "      <th></th>\n",
              "      <th></th>\n",
              "      <th></th>\n",
              "      <th></th>\n",
              "      <th></th>\n",
              "      <th></th>\n",
              "      <th></th>\n",
              "      <th></th>\n",
              "      <th></th>\n",
              "      <th></th>\n",
              "      <th></th>\n",
              "      <th></th>\n",
              "      <th></th>\n",
              "      <th></th>\n",
              "    </tr>\n",
              "  </thead>\n",
              "  <tbody>\n",
              "    <tr>\n",
              "      <th>1</th>\n",
              "      <td>5.0</td>\n",
              "      <td></td>\n",
              "      <td></td>\n",
              "      <td></td>\n",
              "      <td></td>\n",
              "      <td></td>\n",
              "      <td></td>\n",
              "      <td></td>\n",
              "      <td></td>\n",
              "      <td></td>\n",
              "      <td>...</td>\n",
              "      <td></td>\n",
              "      <td></td>\n",
              "      <td></td>\n",
              "      <td></td>\n",
              "      <td></td>\n",
              "      <td></td>\n",
              "      <td></td>\n",
              "      <td></td>\n",
              "      <td></td>\n",
              "      <td></td>\n",
              "    </tr>\n",
              "    <tr>\n",
              "      <th>2</th>\n",
              "      <td></td>\n",
              "      <td></td>\n",
              "      <td></td>\n",
              "      <td></td>\n",
              "      <td></td>\n",
              "      <td></td>\n",
              "      <td></td>\n",
              "      <td></td>\n",
              "      <td></td>\n",
              "      <td></td>\n",
              "      <td>...</td>\n",
              "      <td></td>\n",
              "      <td></td>\n",
              "      <td></td>\n",
              "      <td></td>\n",
              "      <td></td>\n",
              "      <td></td>\n",
              "      <td></td>\n",
              "      <td></td>\n",
              "      <td></td>\n",
              "      <td></td>\n",
              "    </tr>\n",
              "    <tr>\n",
              "      <th>3</th>\n",
              "      <td></td>\n",
              "      <td></td>\n",
              "      <td></td>\n",
              "      <td></td>\n",
              "      <td></td>\n",
              "      <td></td>\n",
              "      <td></td>\n",
              "      <td></td>\n",
              "      <td></td>\n",
              "      <td></td>\n",
              "      <td>...</td>\n",
              "      <td></td>\n",
              "      <td></td>\n",
              "      <td></td>\n",
              "      <td></td>\n",
              "      <td></td>\n",
              "      <td></td>\n",
              "      <td></td>\n",
              "      <td></td>\n",
              "      <td></td>\n",
              "      <td></td>\n",
              "    </tr>\n",
              "    <tr>\n",
              "      <th>4</th>\n",
              "      <td></td>\n",
              "      <td></td>\n",
              "      <td></td>\n",
              "      <td></td>\n",
              "      <td></td>\n",
              "      <td></td>\n",
              "      <td></td>\n",
              "      <td></td>\n",
              "      <td></td>\n",
              "      <td></td>\n",
              "      <td>...</td>\n",
              "      <td></td>\n",
              "      <td></td>\n",
              "      <td></td>\n",
              "      <td></td>\n",
              "      <td></td>\n",
              "      <td></td>\n",
              "      <td></td>\n",
              "      <td></td>\n",
              "      <td></td>\n",
              "      <td></td>\n",
              "    </tr>\n",
              "    <tr>\n",
              "      <th>5</th>\n",
              "      <td></td>\n",
              "      <td></td>\n",
              "      <td></td>\n",
              "      <td></td>\n",
              "      <td></td>\n",
              "      <td>2.0</td>\n",
              "      <td></td>\n",
              "      <td></td>\n",
              "      <td></td>\n",
              "      <td></td>\n",
              "      <td>...</td>\n",
              "      <td></td>\n",
              "      <td></td>\n",
              "      <td></td>\n",
              "      <td></td>\n",
              "      <td></td>\n",
              "      <td></td>\n",
              "      <td></td>\n",
              "      <td></td>\n",
              "      <td></td>\n",
              "      <td></td>\n",
              "    </tr>\n",
              "  </tbody>\n",
              "</table>\n",
              "<p>5 rows × 3706 columns</p>\n",
              "</div>\n",
              "      <button class=\"colab-df-convert\" onclick=\"convertToInteractive('df-ad72e17b-08d6-411e-b41b-5351acc31701')\"\n",
              "              title=\"Convert this dataframe to an interactive table.\"\n",
              "              style=\"display:none;\">\n",
              "        \n",
              "  <svg xmlns=\"http://www.w3.org/2000/svg\" height=\"24px\"viewBox=\"0 0 24 24\"\n",
              "       width=\"24px\">\n",
              "    <path d=\"M0 0h24v24H0V0z\" fill=\"none\"/>\n",
              "    <path d=\"M18.56 5.44l.94 2.06.94-2.06 2.06-.94-2.06-.94-.94-2.06-.94 2.06-2.06.94zm-11 1L8.5 8.5l.94-2.06 2.06-.94-2.06-.94L8.5 2.5l-.94 2.06-2.06.94zm10 10l.94 2.06.94-2.06 2.06-.94-2.06-.94-.94-2.06-.94 2.06-2.06.94z\"/><path d=\"M17.41 7.96l-1.37-1.37c-.4-.4-.92-.59-1.43-.59-.52 0-1.04.2-1.43.59L10.3 9.45l-7.72 7.72c-.78.78-.78 2.05 0 2.83L4 21.41c.39.39.9.59 1.41.59.51 0 1.02-.2 1.41-.59l7.78-7.78 2.81-2.81c.8-.78.8-2.07 0-2.86zM5.41 20L4 18.59l7.72-7.72 1.47 1.35L5.41 20z\"/>\n",
              "  </svg>\n",
              "      </button>\n",
              "      \n",
              "  <style>\n",
              "    .colab-df-container {\n",
              "      display:flex;\n",
              "      flex-wrap:wrap;\n",
              "      gap: 12px;\n",
              "    }\n",
              "\n",
              "    .colab-df-convert {\n",
              "      background-color: #E8F0FE;\n",
              "      border: none;\n",
              "      border-radius: 50%;\n",
              "      cursor: pointer;\n",
              "      display: none;\n",
              "      fill: #1967D2;\n",
              "      height: 32px;\n",
              "      padding: 0 0 0 0;\n",
              "      width: 32px;\n",
              "    }\n",
              "\n",
              "    .colab-df-convert:hover {\n",
              "      background-color: #E2EBFA;\n",
              "      box-shadow: 0px 1px 2px rgba(60, 64, 67, 0.3), 0px 1px 3px 1px rgba(60, 64, 67, 0.15);\n",
              "      fill: #174EA6;\n",
              "    }\n",
              "\n",
              "    [theme=dark] .colab-df-convert {\n",
              "      background-color: #3B4455;\n",
              "      fill: #D2E3FC;\n",
              "    }\n",
              "\n",
              "    [theme=dark] .colab-df-convert:hover {\n",
              "      background-color: #434B5C;\n",
              "      box-shadow: 0px 1px 3px 1px rgba(0, 0, 0, 0.15);\n",
              "      filter: drop-shadow(0px 1px 2px rgba(0, 0, 0, 0.3));\n",
              "      fill: #FFFFFF;\n",
              "    }\n",
              "  </style>\n",
              "\n",
              "      <script>\n",
              "        const buttonEl =\n",
              "          document.querySelector('#df-ad72e17b-08d6-411e-b41b-5351acc31701 button.colab-df-convert');\n",
              "        buttonEl.style.display =\n",
              "          google.colab.kernel.accessAllowed ? 'block' : 'none';\n",
              "\n",
              "        async function convertToInteractive(key) {\n",
              "          const element = document.querySelector('#df-ad72e17b-08d6-411e-b41b-5351acc31701');\n",
              "          const dataTable =\n",
              "            await google.colab.kernel.invokeFunction('convertToInteractive',\n",
              "                                                     [key], {});\n",
              "          if (!dataTable) return;\n",
              "\n",
              "          const docLinkHtml = 'Like what you see? Visit the ' +\n",
              "            '<a target=\"_blank\" href=https://colab.research.google.com/notebooks/data_table.ipynb>data table notebook</a>'\n",
              "            + ' to learn more about interactive tables.';\n",
              "          element.innerHTML = '';\n",
              "          dataTable['output_type'] = 'display_data';\n",
              "          await google.colab.output.renderOutput(dataTable, element);\n",
              "          const docLink = document.createElement('div');\n",
              "          docLink.innerHTML = docLinkHtml;\n",
              "          element.appendChild(docLink);\n",
              "        }\n",
              "      </script>\n",
              "    </div>\n",
              "  </div>\n",
              "  "
            ]
          },
          "metadata": {}
        },
        {
          "output_type": "stream",
          "name": "stdout",
          "text": [
            "CPU times: user 1.2 s, sys: 112 ms, total: 1.31 s\n",
            "Wall time: 1.21 s\n"
          ]
        }
      ]
    },
    {
      "cell_type": "code",
      "source": [
        "reviews = df_tab.count().sum()  # equal to len(df_raw)\n",
        "pairs = df_tab.size\n",
        "\n",
        "print(\"Total Reviews:\".ljust(16), reviews)\n",
        "print(\"Total Pairs:\".ljust(16), pairs)\n",
        "print(\"Event Density:\".ljust(16), round(reviews / pairs, 4))"
      ],
      "metadata": {
        "colab": {
          "base_uri": "https://localhost:8080/"
        },
        "id": "M2GPtK6N-6hz",
        "outputId": "28c265bc-9abe-40d9-da88-21674bee6edb"
      },
      "execution_count": 21,
      "outputs": [
        {
          "output_type": "stream",
          "name": "stdout",
          "text": [
            "Total Reviews:   1000209\n",
            "Total Pairs:     22384240\n",
            "Event Density:   0.0447\n"
          ]
        }
      ]
    },
    {
      "cell_type": "markdown",
      "source": [
        "#### Movies Reviewed per User"
      ],
      "metadata": {
        "id": "B5OH6NaOXgZ5"
      }
    },
    {
      "cell_type": "code",
      "source": [
        "plt.figure(figsize=(16, 4))\n",
        "_ = plt.hist(df_tab.count(axis=1), bins=200, color='r', alpha=.4)\n",
        "_ = plt.title('Movies Reviewed per User')"
      ],
      "metadata": {
        "colab": {
          "base_uri": "https://localhost:8080/",
          "height": 281
        },
        "id": "qF1DBbZuXlVu",
        "outputId": "8c38765a-45c4-4796-f260-d6aedf483be3"
      },
      "execution_count": 22,
      "outputs": [
        {
          "output_type": "display_data",
          "data": {
            "text/plain": [
              "<Figure size 1152x288 with 1 Axes>"
            ],
            "image/png": "[encoded data removed]"
          },
          "metadata": {
            "needs_background": "light"
          }
        }
      ]
    },
    {
      "cell_type": "markdown",
      "source": [
        "#### Reviewing Users per Movie"
      ],
      "metadata": {
        "id": "ZYvRFdgbXmin"
      }
    },
    {
      "cell_type": "code",
      "source": [
        "plt.figure(figsize=(16, 4))\n",
        "_ = plt.hist(df_tab.count(), bins=40, color='c', alpha=.4)\n",
        "_ = plt.title('Reviewing Users per Movie')"
      ],
      "metadata": {
        "colab": {
          "base_uri": "https://localhost:8080/",
          "height": 281
        },
        "id": "CEo2yPhnXvZ3",
        "outputId": "46baaa8f-3601-460b-9c8e-7240222113a6"
      },
      "execution_count": 23,
      "outputs": [
        {
          "output_type": "display_data",
          "data": {
            "text/plain": [
              "<Figure size 1152x288 with 1 Axes>"
            ],
            "image/png": "[encoded data removed]"
          },
          "metadata": {
            "needs_background": "light"
          }
        }
      ]
    },
    {
      "cell_type": "markdown",
      "source": [
        "#### Movies with Most Reviews\n",
        "\n",
        "Below lists top 5 movies with most reviews and their respective average review scores. Interestingly, being watched and reviewed a lot doesn't necessarily mean the movie must have a high score. "
      ],
      "metadata": {
        "id": "VyGTm_vXUDdW"
      }
    },
    {
      "cell_type": "code",
      "source": [
        "top5_reviewed = df_tab.count().sort_values(ascending=False)[:5]\n",
        "top5_reviewed = pd.DataFrame(top5_reviewed, columns=['n_reviews']).reset_index()\n",
        "top5_reviewed['avg_score'] = top5_reviewed['movieId'].apply(lambda x: df_tab[x].mean())\n",
        "top5_reviewed['title'] = top5_reviewed['movieId'].apply(lambda x: dict_movies[x])\n",
        "top5_reviewed"
      ],
      "metadata": {
        "colab": {
          "base_uri": "https://localhost:8080/",
          "height": 206
        },
        "id": "jeruFyijUGzF",
        "outputId": "70acc142-dd2a-4f78-ec45-8c61fe7dbf3f"
      },
      "execution_count": 24,
      "outputs": [
        {
          "output_type": "execute_result",
          "data": {
            "text/plain": [
              "   movieId  n_reviews  avg_score  \\\n",
              "0     2858       3428   4.317386   \n",
              "1      260       2991   4.453694   \n",
              "2     1196       2990   4.292976   \n",
              "3     1210       2883   4.022893   \n",
              "4      480       2672   3.763847   \n",
              "\n",
              "                                               title  \n",
              "0                             American Beauty (1999)  \n",
              "1          Star Wars: Episode IV - A New Hope (1977)  \n",
              "2  Star Wars: Episode V - The Empire Strikes Back...  \n",
              "3  Star Wars: Episode VI - Return of the Jedi (1983)  \n",
              "4                               Jurassic Park (1993)  "
            ],
            "text/html": [
              "\n",
              "  <div id=\"df-03c0b5d2-06d0-4f0a-ab51-73a29d3d570d\">\n",
              "    <div class=\"colab-df-container\">\n",
              "      <div>\n",
              "<style scoped>\n",
              "    .dataframe tbody tr th:only-of-type {\n",
              "        vertical-align: middle;\n",
              "    }\n",
              "\n",
              "    .dataframe tbody tr th {\n",
              "        vertical-align: top;\n",
              "    }\n",
              "\n",
              "    .dataframe thead th {\n",
              "        text-align: right;\n",
              "    }\n",
              "</style>\n",
              "<table border=\"1\" class=\"dataframe\">\n",
              "  <thead>\n",
              "    <tr style=\"text-align: right;\">\n",
              "      <th></th>\n",
              "      <th>movieId</th>\n",
              "      <th>n_reviews</th>\n",
              "      <th>avg_score</th>\n",
              "      <th>title</th>\n",
              "    </tr>\n",
              "  </thead>\n",
              "  <tbody>\n",
              "    <tr>\n",
              "      <th>0</th>\n",
              "      <td>2858</td>\n",
              "      <td>3428</td>\n",
              "      <td>4.317386</td>\n",
              "      <td>American Beauty (1999)</td>\n",
              "    </tr>\n",
              "    <tr>\n",
              "      <th>1</th>\n",
              "      <td>260</td>\n",
              "      <td>2991</td>\n",
              "      <td>4.453694</td>\n",
              "      <td>Star Wars: Episode IV - A New Hope (1977)</td>\n",
              "    </tr>\n",
              "    <tr>\n",
              "      <th>2</th>\n",
              "      <td>1196</td>\n",
              "      <td>2990</td>\n",
              "      <td>4.292976</td>\n",
              "      <td>Star Wars: Episode V - The Empire Strikes Back...</td>\n",
              "    </tr>\n",
              "    <tr>\n",
              "      <th>3</th>\n",
              "      <td>1210</td>\n",
              "      <td>2883</td>\n",
              "      <td>4.022893</td>\n",
              "      <td>Star Wars: Episode VI - Return of the Jedi (1983)</td>\n",
              "    </tr>\n",
              "    <tr>\n",
              "      <th>4</th>\n",
              "      <td>480</td>\n",
              "      <td>2672</td>\n",
              "      <td>3.763847</td>\n",
              "      <td>Jurassic Park (1993)</td>\n",
              "    </tr>\n",
              "  </tbody>\n",
              "</table>\n",
              "</div>\n",
              "      <button class=\"colab-df-convert\" onclick=\"convertToInteractive('df-03c0b5d2-06d0-4f0a-ab51-73a29d3d570d')\"\n",
              "              title=\"Convert this dataframe to an interactive table.\"\n",
              "              style=\"display:none;\">\n",
              "        \n",
              "  <svg xmlns=\"http://www.w3.org/2000/svg\" height=\"24px\"viewBox=\"0 0 24 24\"\n",
              "       width=\"24px\">\n",
              "    <path d=\"M0 0h24v24H0V0z\" fill=\"none\"/>\n",
              "    <path d=\"M18.56 5.44l.94 2.06.94-2.06 2.06-.94-2.06-.94-.94-2.06-.94 2.06-2.06.94zm-11 1L8.5 8.5l.94-2.06 2.06-.94-2.06-.94L8.5 2.5l-.94 2.06-2.06.94zm10 10l.94 2.06.94-2.06 2.06-.94-2.06-.94-.94-2.06-.94 2.06-2.06.94z\"/><path d=\"M17.41 7.96l-1.37-1.37c-.4-.4-.92-.59-1.43-.59-.52 0-1.04.2-1.43.59L10.3 9.45l-7.72 7.72c-.78.78-.78 2.05 0 2.83L4 21.41c.39.39.9.59 1.41.59.51 0 1.02-.2 1.41-.59l7.78-7.78 2.81-2.81c.8-.78.8-2.07 0-2.86zM5.41 20L4 18.59l7.72-7.72 1.47 1.35L5.41 20z\"/>\n",
              "  </svg>\n",
              "      </button>\n",
              "      \n",
              "  <style>\n",
              "    .colab-df-container {\n",
              "      display:flex;\n",
              "      flex-wrap:wrap;\n",
              "      gap: 12px;\n",
              "    }\n",
              "\n",
              "    .colab-df-convert {\n",
              "      background-color: #E8F0FE;\n",
              "      border: none;\n",
              "      border-radius: 50%;\n",
              "      cursor: pointer;\n",
              "      display: none;\n",
              "      fill: #1967D2;\n",
              "      height: 32px;\n",
              "      padding: 0 0 0 0;\n",
              "      width: 32px;\n",
              "    }\n",
              "\n",
              "    .colab-df-convert:hover {\n",
              "      background-color: #E2EBFA;\n",
              "      box-shadow: 0px 1px 2px rgba(60, 64, 67, 0.3), 0px 1px 3px 1px rgba(60, 64, 67, 0.15);\n",
              "      fill: #174EA6;\n",
              "    }\n",
              "\n",
              "    [theme=dark] .colab-df-convert {\n",
              "      background-color: #3B4455;\n",
              "      fill: #D2E3FC;\n",
              "    }\n",
              "\n",
              "    [theme=dark] .colab-df-convert:hover {\n",
              "      background-color: #434B5C;\n",
              "      box-shadow: 0px 1px 3px 1px rgba(0, 0, 0, 0.15);\n",
              "      filter: drop-shadow(0px 1px 2px rgba(0, 0, 0, 0.3));\n",
              "      fill: #FFFFFF;\n",
              "    }\n",
              "  </style>\n",
              "\n",
              "      <script>\n",
              "        const buttonEl =\n",
              "          document.querySelector('#df-03c0b5d2-06d0-4f0a-ab51-73a29d3d570d button.colab-df-convert');\n",
              "        buttonEl.style.display =\n",
              "          google.colab.kernel.accessAllowed ? 'block' : 'none';\n",
              "\n",
              "        async function convertToInteractive(key) {\n",
              "          const element = document.querySelector('#df-03c0b5d2-06d0-4f0a-ab51-73a29d3d570d');\n",
              "          const dataTable =\n",
              "            await google.colab.kernel.invokeFunction('convertToInteractive',\n",
              "                                                     [key], {});\n",
              "          if (!dataTable) return;\n",
              "\n",
              "          const docLinkHtml = 'Like what you see? Visit the ' +\n",
              "            '<a target=\"_blank\" href=https://colab.research.google.com/notebooks/data_table.ipynb>data table notebook</a>'\n",
              "            + ' to learn more about interactive tables.';\n",
              "          element.innerHTML = '';\n",
              "          dataTable['output_type'] = 'display_data';\n",
              "          await google.colab.output.renderOutput(dataTable, element);\n",
              "          const docLink = document.createElement('div');\n",
              "          docLink.innerHTML = docLinkHtml;\n",
              "          element.appendChild(docLink);\n",
              "        }\n",
              "      </script>\n",
              "    </div>\n",
              "  </div>\n",
              "  "
            ]
          },
          "metadata": {},
          "execution_count": 24
        }
      ]
    },
    {
      "cell_type": "markdown",
      "source": [
        "#### Movies with Highest Reviews\n",
        "\n",
        "Below shows several movies with the highest average score (5.0) of all movies. However, these movies only have very few viewers. It's not common for a very popular movie to make everyone perfectly happy. \n",
        "\n"
      ],
      "metadata": {
        "id": "Cw1McNWjVo5k"
      }
    },
    {
      "cell_type": "code",
      "source": [
        "top5_scores = df_tab.mean().sort_values(ascending=False)[:5]\n",
        "top5_scores = pd.DataFrame(top5_scores, columns=['avg_score']).reset_index()\n",
        "top5_scores['n_reviews'] = top5_scores['movieId'].apply(lambda x: df_tab[x].count())\n",
        "top5_scores['title'] = top5_scores['movieId'].apply(lambda x: dict_movies[x])\n",
        "top5_scores"
      ],
      "metadata": {
        "colab": {
          "base_uri": "https://localhost:8080/",
          "height": 206
        },
        "id": "TYXwd6PFT-Es",
        "outputId": "10829bd6-d3fb-402b-e33d-86ef81c5f8ca"
      },
      "execution_count": 25,
      "outputs": [
        {
          "output_type": "execute_result",
          "data": {
            "text/plain": [
              "   movieId  avg_score  n_reviews                                      title\n",
              "0      989        5.0          1  Schlafes Bruder (Brother of Sleep) (1995)\n",
              "1     3881        5.0          1                   Bittersweet Motel (2000)\n",
              "2     1830        5.0          1                    Follow the Bitch (1998)\n",
              "3     3382        5.0          1                     Song of Freedom (1936)\n",
              "4      787        5.0          3         Gate of Heavenly Peace, The (1995)"
            ],
            "text/html": [
              "\n",
              "  <div id=\"df-6da10b32-ba4e-472b-bebe-3625fa8552b8\">\n",
              "    <div class=\"colab-df-container\">\n",
              "      <div>\n",
              "<style scoped>\n",
              "    .dataframe tbody tr th:only-of-type {\n",
              "        vertical-align: middle;\n",
              "    }\n",
              "\n",
              "    .dataframe tbody tr th {\n",
              "        vertical-align: top;\n",
              "    }\n",
              "\n",
              "    .dataframe thead th {\n",
              "        text-align: right;\n",
              "    }\n",
              "</style>\n",
              "<table border=\"1\" class=\"dataframe\">\n",
              "  <thead>\n",
              "    <tr style=\"text-align: right;\">\n",
              "      <th></th>\n",
              "      <th>movieId</th>\n",
              "      <th>avg_score</th>\n",
              "      <th>n_reviews</th>\n",
              "      <th>title</th>\n",
              "    </tr>\n",
              "  </thead>\n",
              "  <tbody>\n",
              "    <tr>\n",
              "      <th>0</th>\n",
              "      <td>989</td>\n",
              "      <td>5.0</td>\n",
              "      <td>1</td>\n",
              "      <td>Schlafes Bruder (Brother of Sleep) (1995)</td>\n",
              "    </tr>\n",
              "    <tr>\n",
              "      <th>1</th>\n",
              "      <td>3881</td>\n",
              "      <td>5.0</td>\n",
              "      <td>1</td>\n",
              "      <td>Bittersweet Motel (2000)</td>\n",
              "    </tr>\n",
              "    <tr>\n",
              "      <th>2</th>\n",
              "      <td>1830</td>\n",
              "      <td>5.0</td>\n",
              "      <td>1</td>\n",
              "      <td>Follow the Bitch (1998)</td>\n",
              "    </tr>\n",
              "    <tr>\n",
              "      <th>3</th>\n",
              "      <td>3382</td>\n",
              "      <td>5.0</td>\n",
              "      <td>1</td>\n",
              "      <td>Song of Freedom (1936)</td>\n",
              "    </tr>\n",
              "    <tr>\n",
              "      <th>4</th>\n",
              "      <td>787</td>\n",
              "      <td>5.0</td>\n",
              "      <td>3</td>\n",
              "      <td>Gate of Heavenly Peace, The (1995)</td>\n",
              "    </tr>\n",
              "  </tbody>\n",
              "</table>\n",
              "</div>\n",
              "      <button class=\"colab-df-convert\" onclick=\"convertToInteractive('df-6da10b32-ba4e-472b-bebe-3625fa8552b8')\"\n",
              "              title=\"Convert this dataframe to an interactive table.\"\n",
              "              style=\"display:none;\">\n",
              "        \n",
              "  <svg xmlns=\"http://www.w3.org/2000/svg\" height=\"24px\"viewBox=\"0 0 24 24\"\n",
              "       width=\"24px\">\n",
              "    <path d=\"M0 0h24v24H0V0z\" fill=\"none\"/>\n",
              "    <path d=\"M18.56 5.44l.94 2.06.94-2.06 2.06-.94-2.06-.94-.94-2.06-.94 2.06-2.06.94zm-11 1L8.5 8.5l.94-2.06 2.06-.94-2.06-.94L8.5 2.5l-.94 2.06-2.06.94zm10 10l.94 2.06.94-2.06 2.06-.94-2.06-.94-.94-2.06-.94 2.06-2.06.94z\"/><path d=\"M17.41 7.96l-1.37-1.37c-.4-.4-.92-.59-1.43-.59-.52 0-1.04.2-1.43.59L10.3 9.45l-7.72 7.72c-.78.78-.78 2.05 0 2.83L4 21.41c.39.39.9.59 1.41.59.51 0 1.02-.2 1.41-.59l7.78-7.78 2.81-2.81c.8-.78.8-2.07 0-2.86zM5.41 20L4 18.59l7.72-7.72 1.47 1.35L5.41 20z\"/>\n",
              "  </svg>\n",
              "      </button>\n",
              "      \n",
              "  <style>\n",
              "    .colab-df-container {\n",
              "      display:flex;\n",
              "      flex-wrap:wrap;\n",
              "      gap: 12px;\n",
              "    }\n",
              "\n",
              "    .colab-df-convert {\n",
              "      background-color: #E8F0FE;\n",
              "      border: none;\n",
              "      border-radius: 50%;\n",
              "      cursor: pointer;\n",
              "      display: none;\n",
              "      fill: #1967D2;\n",
              "      height: 32px;\n",
              "      padding: 0 0 0 0;\n",
              "      width: 32px;\n",
              "    }\n",
              "\n",
              "    .colab-df-convert:hover {\n",
              "      background-color: #E2EBFA;\n",
              "      box-shadow: 0px 1px 2px rgba(60, 64, 67, 0.3), 0px 1px 3px 1px rgba(60, 64, 67, 0.15);\n",
              "      fill: #174EA6;\n",
              "    }\n",
              "\n",
              "    [theme=dark] .colab-df-convert {\n",
              "      background-color: #3B4455;\n",
              "      fill: #D2E3FC;\n",
              "    }\n",
              "\n",
              "    [theme=dark] .colab-df-convert:hover {\n",
              "      background-color: #434B5C;\n",
              "      box-shadow: 0px 1px 3px 1px rgba(0, 0, 0, 0.15);\n",
              "      filter: drop-shadow(0px 1px 2px rgba(0, 0, 0, 0.3));\n",
              "      fill: #FFFFFF;\n",
              "    }\n",
              "  </style>\n",
              "\n",
              "      <script>\n",
              "        const buttonEl =\n",
              "          document.querySelector('#df-6da10b32-ba4e-472b-bebe-3625fa8552b8 button.colab-df-convert');\n",
              "        buttonEl.style.display =\n",
              "          google.colab.kernel.accessAllowed ? 'block' : 'none';\n",
              "\n",
              "        async function convertToInteractive(key) {\n",
              "          const element = document.querySelector('#df-6da10b32-ba4e-472b-bebe-3625fa8552b8');\n",
              "          const dataTable =\n",
              "            await google.colab.kernel.invokeFunction('convertToInteractive',\n",
              "                                                     [key], {});\n",
              "          if (!dataTable) return;\n",
              "\n",
              "          const docLinkHtml = 'Like what you see? Visit the ' +\n",
              "            '<a target=\"_blank\" href=https://colab.research.google.com/notebooks/data_table.ipynb>data table notebook</a>'\n",
              "            + ' to learn more about interactive tables.';\n",
              "          element.innerHTML = '';\n",
              "          dataTable['output_type'] = 'display_data';\n",
              "          await google.colab.output.renderOutput(dataTable, element);\n",
              "          const docLink = document.createElement('div');\n",
              "          docLink.innerHTML = docLinkHtml;\n",
              "          element.appendChild(docLink);\n",
              "        }\n",
              "      </script>\n",
              "    </div>\n",
              "  </div>\n",
              "  "
            ]
          },
          "metadata": {},
          "execution_count": 25
        }
      ]
    },
    {
      "cell_type": "markdown",
      "source": [
        "---\n",
        "## Preprocessing"
      ],
      "metadata": {
        "id": "EATCTv6YSgga"
      }
    },
    {
      "cell_type": "markdown",
      "source": [
        "#### Filter by Frequency\n",
        "\n",
        "We only need to keep movies with at least 5 reviews for information. The final unique count of users and movies are as below. This operation did not change the sparsity level very much. "
      ],
      "metadata": {
        "id": "BKDULbdDZsX-"
      }
    },
    {
      "cell_type": "code",
      "source": [
        "REVIEW_THRESH = 5\n",
        "idx_movies = df_tab.count() >= REVIEW_THRESH\n",
        "\n",
        "df_new = df_tab.loc[:, idx_movies]\n",
        "df_new.shape"
      ],
      "metadata": {
        "colab": {
          "base_uri": "https://localhost:8080/"
        },
        "id": "SxU7QQWJ9LAD",
        "outputId": "ff8c7b0e-3286-4a4d-b23f-e171488d7416"
      },
      "execution_count": 26,
      "outputs": [
        {
          "output_type": "execute_result",
          "data": {
            "text/plain": [
              "(6040, 3416)"
            ]
          },
          "metadata": {},
          "execution_count": 26
        }
      ]
    },
    {
      "cell_type": "code",
      "source": [
        "N_USERS, N_MOVIES = df_new.shape"
      ],
      "metadata": {
        "id": "eqs7z2DQ-EYt"
      },
      "execution_count": 27,
      "outputs": []
    },
    {
      "cell_type": "code",
      "source": [
        "reviews = df_new.count().sum()\n",
        "pairs = df_new.size\n",
        "print(\"Filtered Reviews:\".ljust(16), reviews)\n",
        "print(\"Filterd Pairs:\".ljust(16), pairs)\n",
        "print(\"Filtered Density:\".ljust(16), round(reviews / pairs, 4))"
      ],
      "metadata": {
        "colab": {
          "base_uri": "https://localhost:8080/"
        },
        "id": "L5xNmKvZ8mPe",
        "outputId": "d6154c7c-fc0e-4eaa-8a6e-7fd4ecf00208"
      },
      "execution_count": 28,
      "outputs": [
        {
          "output_type": "stream",
          "name": "stdout",
          "text": [
            "Filtered Reviews: 999611\n",
            "Filterd Pairs:   20632640\n",
            "Filtered Density: 0.0484\n"
          ]
        }
      ]
    },
    {
      "cell_type": "markdown",
      "source": [
        "#### Split for Train-Validation-Test\n",
        "\n",
        "In our data, each row represents the watch history of a user, and each column represents a movie. Here we slice out 4000 rows for training, 1000 rows for validation, and keep the rest for evaluation. "
      ],
      "metadata": {
        "id": "g3MSm0xHaLoE"
      }
    },
    {
      "cell_type": "code",
      "source": [
        "df_new.shape"
      ],
      "metadata": {
        "colab": {
          "base_uri": "https://localhost:8080/"
        },
        "id": "a4tSSTSfrEsQ",
        "outputId": "0d89b5c8-be68-48c7-b947-614d0bb39eb8"
      },
      "execution_count": 29,
      "outputs": [
        {
          "output_type": "execute_result",
          "data": {
            "text/plain": [
              "(6040, 3416)"
            ]
          },
          "metadata": {},
          "execution_count": 29
        }
      ]
    },
    {
      "cell_type": "code",
      "source": [
        "df_train = df_new[:4000]\n",
        "df_valid = df_new[4000:5000]\n",
        "df_score = df_new[5000:]\n",
        "\n",
        "df_train.shape, df_valid.shape, df_score.shape"
      ],
      "metadata": {
        "colab": {
          "base_uri": "https://localhost:8080/"
        },
        "id": "hlN_QHtSrHze",
        "outputId": "dca9bc5b-233c-462e-8319-52235cebc2a5"
      },
      "execution_count": 30,
      "outputs": [
        {
          "output_type": "execute_result",
          "data": {
            "text/plain": [
              "((4000, 3416), (1000, 3416), (1040, 3416))"
            ]
          },
          "metadata": {},
          "execution_count": 30
        }
      ]
    },
    {
      "cell_type": "markdown",
      "source": [
        "#### Reserve Prediction Part\n",
        "\n",
        "For training, we use the complete user watch history for reconstruction. For metrics calculation on both validation and evaluation subsets, we mask out 20% of the watch history for each user and use the other movies as \"already watched movies\" as inputs to make top-k predictions. The top-k predictions can then be compared to the masked out movies to evaluate the recommendation quality. For this model, binary values are used to represent the \"click history\". "
      ],
      "metadata": {
        "id": "Cd5_cysRA6zI"
      }
    },
    {
      "cell_type": "code",
      "source": [
        "def split_row(row, mask_ratio=.2):  # takes pd.Series\n",
        "    idx = pd.notnull(row)               # convert to binary values\n",
        "    hist = df_new.columns[idx]          # select watch history movie ids\n",
        "    n = int(len(hist) * mask_ratio)     # sample size to mask per user\n",
        "    samp = np.random.choice(hist, n, replace=False)\n",
        "    keep = idx.copy()\n",
        "    keep[samp] = False                  # movies to keep and use as information\n",
        "    mask = idx.copy()\n",
        "    mask[keep] = False                  # movies to mask and use for evaluation\n",
        "    return keep, mask\n",
        "\n",
        "row = df_new.iloc[0]\n",
        "a, b = split_row(row)\n",
        "\n",
        "hist = df_new.columns[pd.notna(row)]\n",
        "keep = df_new.columns[a==True]\n",
        "mask = df_new.columns[b==True]\n",
        "\n",
        "print(hist)\n",
        "print(keep)\n",
        "print(mask)\n",
        "\n",
        "assert set(hist) == set(keep.tolist() + mask.tolist())"
      ],
      "metadata": {
        "colab": {
          "base_uri": "https://localhost:8080/"
        },
        "id": "yXDjHLnL4Pez",
        "outputId": "eb97dafb-6d49-4a95-9373-29f58e4f9b3d"
      },
      "execution_count": 31,
      "outputs": [
        {
          "output_type": "stream",
          "name": "stdout",
          "text": [
            "Int64Index([   1,   48,  150,  260,  527,  531,  588,  594,  595,  608,  661,\n",
            "             720,  745,  783,  914,  919,  938, 1022, 1028, 1029, 1035, 1097,\n",
            "            1193, 1197, 1207, 1246, 1270, 1287, 1545, 1566, 1721, 1836, 1907,\n",
            "            1961, 1962, 2018, 2028, 2294, 2321, 2340, 2355, 2398, 2687, 2692,\n",
            "            2762, 2791, 2797, 2804, 2918, 3105, 3114, 3186, 3408],\n",
            "           dtype='int64', name='movieId')\n",
            "Int64Index([  48,  150,  260,  527,  588,  594,  595,  608,  661,  720,  745,\n",
            "             783,  914,  919,  938, 1022, 1028, 1035, 1097, 1193, 1197, 1207,\n",
            "            1246, 1287, 1545, 1721, 1907, 1961, 1962, 2018, 2028, 2294, 2321,\n",
            "            2340, 2398, 2762, 2791, 2797, 2804, 2918, 3105, 3114, 3408],\n",
            "           dtype='int64', name='movieId')\n",
            "Int64Index([1, 531, 1029, 1270, 1566, 1836, 2355, 2687, 2692, 3186], dtype='int64', name='movieId')\n"
          ]
        }
      ]
    },
    {
      "cell_type": "code",
      "source": [
        "from tqdm import trange\n",
        "\n",
        "def reserve_split(df):\n",
        "    df_keep = pd.DataFrame()\n",
        "    df_mask = pd.DataFrame()\n",
        "    for i in trange(len(df)):\n",
        "        row = df.iloc[i]\n",
        "        row_keep, row_mask = split_row(row)\n",
        "        df_keep = pd.concat([df_keep, row_keep], axis=1)\n",
        "        df_mask = pd.concat([df_mask, row_mask], axis=1)\n",
        "    return df_keep.T, df_mask.T\n",
        "\n",
        "if os.path.exists('df_valid_keep.csv'):\n",
        "    print(\"reading dataframes from csv files ...\")\n",
        "    df_valid_keep = pd.read_csv('df_valid_keep.csv', index_col=0)\n",
        "    df_valid_mask = pd.read_csv('df_valid_mask.csv', index_col=0)\n",
        "    df_score_keep = pd.read_csv('df_score_keep.csv', index_col=0)\n",
        "    df_score_mask = pd.read_csv('df_score_mask.csv', index_col=0)\n",
        "else:\n",
        "    df_valid_keep, df_valid_mask = reserve_split(df_valid)\n",
        "    df_score_keep, df_score_mask = reserve_split(df_score)\n",
        "    print(\"saving dataframes to csv files ...\")\n",
        "    df_valid_keep.to_csv('df_valid_keep.csv')\n",
        "    df_valid_mask.to_csv('df_valid_mask.csv')\n",
        "    df_score_keep.to_csv('df_score_keep.csv')\n",
        "    df_score_mask.to_csv('df_score_mask.csv')\n",
        "\n",
        "print(df_valid_keep.shape, df_valid_mask.shape, df_score_keep.shape, df_score_mask.shape)"
      ],
      "metadata": {
        "colab": {
          "base_uri": "https://localhost:8080/"
        },
        "id": "MCmFHWY9BA49",
        "outputId": "d706dd5c-165e-4aa4-a7a9-bb07fbff7769"
      },
      "execution_count": 32,
      "outputs": [
        {
          "output_type": "stream",
          "name": "stdout",
          "text": [
            "reading dataframes from csv files ...\n",
            "(1000, 3416) (1000, 3416) (1040, 3416) (1040, 3416)\n"
          ]
        }
      ]
    },
    {
      "cell_type": "code",
      "source": [
        "df_valid_keep.head()"
      ],
      "metadata": {
        "colab": {
          "base_uri": "https://localhost:8080/",
          "height": 236
        },
        "id": "27vcJjYXkNuz",
        "outputId": "9a60bc5b-79e6-47cf-acca-1d8a20e636b1"
      },
      "execution_count": 33,
      "outputs": [
        {
          "output_type": "execute_result",
          "data": {
            "text/plain": [
              "          1      2      3      4      5      6      7      8      9     10  \\\n",
              "4001   True  False   True  False   True  False  False  False  False  False   \n",
              "4002  False  False  False  False  False  False  False  False  False  False   \n",
              "4003  False  False  False  False  False  False  False  False  False  False   \n",
              "4004  False  False  False  False  False   True  False  False  False   True   \n",
              "4005   True  False  False  False  False   True  False  False  False  False   \n",
              "\n",
              "      ...   3943   3944   3945   3946   3947   3948   3949   3950   3951  \\\n",
              "4001  ...  False  False  False  False  False  False  False  False  False   \n",
              "4002  ...  False  False  False  False  False  False  False  False  False   \n",
              "4003  ...  False  False  False  False  False  False  False  False  False   \n",
              "4004  ...  False  False  False  False  False  False  False  False  False   \n",
              "4005  ...  False  False  False  False  False   True  False  False  False   \n",
              "\n",
              "       3952  \n",
              "4001  False  \n",
              "4002  False  \n",
              "4003  False  \n",
              "4004  False  \n",
              "4005  False  \n",
              "\n",
              "[5 rows x 3416 columns]"
            ],
            "text/html": [
              "\n",
              "  <div id=\"df-abbadc62-36d1-4bf5-bccc-811ea81255e0\">\n",
              "    <div class=\"colab-df-container\">\n",
              "      <div>\n",
              "<style scoped>\n",
              "    .dataframe tbody tr th:only-of-type {\n",
              "        vertical-align: middle;\n",
              "    }\n",
              "\n",
              "    .dataframe tbody tr th {\n",
              "        vertical-align: top;\n",
              "    }\n",
              "\n",
              "    .dataframe thead th {\n",
              "        text-align: right;\n",
              "    }\n",
              "</style>\n",
              "<table border=\"1\" class=\"dataframe\">\n",
              "  <thead>\n",
              "    <tr style=\"text-align: right;\">\n",
              "      <th></th>\n",
              "      <th>1</th>\n",
              "      <th>2</th>\n",
              "      <th>3</th>\n",
              "      <th>4</th>\n",
              "      <th>5</th>\n",
              "      <th>6</th>\n",
              "      <th>7</th>\n",
              "      <th>8</th>\n",
              "      <th>9</th>\n",
              "      <th>10</th>\n",
              "      <th>...</th>\n",
              "      <th>3943</th>\n",
              "      <th>3944</th>\n",
              "      <th>3945</th>\n",
              "      <th>3946</th>\n",
              "      <th>3947</th>\n",
              "      <th>3948</th>\n",
              "      <th>3949</th>\n",
              "      <th>3950</th>\n",
              "      <th>3951</th>\n",
              "      <th>3952</th>\n",
              "    </tr>\n",
              "  </thead>\n",
              "  <tbody>\n",
              "    <tr>\n",
              "      <th>4001</th>\n",
              "      <td>True</td>\n",
              "      <td>False</td>\n",
              "      <td>True</td>\n",
              "      <td>False</td>\n",
              "      <td>True</td>\n",
              "      <td>False</td>\n",
              "      <td>False</td>\n",
              "      <td>False</td>\n",
              "      <td>False</td>\n",
              "      <td>False</td>\n",
              "      <td>...</td>\n",
              "      <td>False</td>\n",
              "      <td>False</td>\n",
              "      <td>False</td>\n",
              "      <td>False</td>\n",
              "      <td>False</td>\n",
              "      <td>False</td>\n",
              "      <td>False</td>\n",
              "      <td>False</td>\n",
              "      <td>False</td>\n",
              "      <td>False</td>\n",
              "    </tr>\n",
              "    <tr>\n",
              "      <th>4002</th>\n",
              "      <td>False</td>\n",
              "      <td>False</td>\n",
              "      <td>False</td>\n",
              "      <td>False</td>\n",
              "      <td>False</td>\n",
              "      <td>False</td>\n",
              "      <td>False</td>\n",
              "      <td>False</td>\n",
              "      <td>False</td>\n",
              "      <td>False</td>\n",
              "      <td>...</td>\n",
              "      <td>False</td>\n",
              "      <td>False</td>\n",
              "      <td>False</td>\n",
              "      <td>False</td>\n",
              "      <td>False</td>\n",
              "      <td>False</td>\n",
              "      <td>False</td>\n",
              "      <td>False</td>\n",
              "      <td>False</td>\n",
              "      <td>False</td>\n",
              "    </tr>\n",
              "    <tr>\n",
              "      <th>4003</th>\n",
              "      <td>False</td>\n",
              "      <td>False</td>\n",
              "      <td>False</td>\n",
              "      <td>False</td>\n",
              "      <td>False</td>\n",
              "      <td>False</td>\n",
              "      <td>False</td>\n",
              "      <td>False</td>\n",
              "      <td>False</td>\n",
              "      <td>False</td>\n",
              "      <td>...</td>\n",
              "      <td>False</td>\n",
              "      <td>False</td>\n",
              "      <td>False</td>\n",
              "      <td>False</td>\n",
              "      <td>False</td>\n",
              "      <td>False</td>\n",
              "      <td>False</td>\n",
              "      <td>False</td>\n",
              "      <td>False</td>\n",
              "      <td>False</td>\n",
              "    </tr>\n",
              "    <tr>\n",
              "      <th>4004</th>\n",
              "      <td>False</td>\n",
              "      <td>False</td>\n",
              "      <td>False</td>\n",
              "      <td>False</td>\n",
              "      <td>False</td>\n",
              "      <td>True</td>\n",
              "      <td>False</td>\n",
              "      <td>False</td>\n",
              "      <td>False</td>\n",
              "      <td>True</td>\n",
              "      <td>...</td>\n",
              "      <td>False</td>\n",
              "      <td>False</td>\n",
              "      <td>False</td>\n",
              "      <td>False</td>\n",
              "      <td>False</td>\n",
              "      <td>False</td>\n",
              "      <td>False</td>\n",
              "      <td>False</td>\n",
              "      <td>False</td>\n",
              "      <td>False</td>\n",
              "    </tr>\n",
              "    <tr>\n",
              "      <th>4005</th>\n",
              "      <td>True</td>\n",
              "      <td>False</td>\n",
              "      <td>False</td>\n",
              "      <td>False</td>\n",
              "      <td>False</td>\n",
              "      <td>True</td>\n",
              "      <td>False</td>\n",
              "      <td>False</td>\n",
              "      <td>False</td>\n",
              "      <td>False</td>\n",
              "      <td>...</td>\n",
              "      <td>False</td>\n",
              "      <td>False</td>\n",
              "      <td>False</td>\n",
              "      <td>False</td>\n",
              "      <td>False</td>\n",
              "      <td>True</td>\n",
              "      <td>False</td>\n",
              "      <td>False</td>\n",
              "      <td>False</td>\n",
              "      <td>False</td>\n",
              "    </tr>\n",
              "  </tbody>\n",
              "</table>\n",
              "<p>5 rows × 3416 columns</p>\n",
              "</div>\n",
              "      <button class=\"colab-df-convert\" onclick=\"convertToInteractive('df-abbadc62-36d1-4bf5-bccc-811ea81255e0')\"\n",
              "              title=\"Convert this dataframe to an interactive table.\"\n",
              "              style=\"display:none;\">\n",
              "        \n",
              "  <svg xmlns=\"http://www.w3.org/2000/svg\" height=\"24px\"viewBox=\"0 0 24 24\"\n",
              "       width=\"24px\">\n",
              "    <path d=\"M0 0h24v24H0V0z\" fill=\"none\"/>\n",
              "    <path d=\"M18.56 5.44l.94 2.06.94-2.06 2.06-.94-2.06-.94-.94-2.06-.94 2.06-2.06.94zm-11 1L8.5 8.5l.94-2.06 2.06-.94-2.06-.94L8.5 2.5l-.94 2.06-2.06.94zm10 10l.94 2.06.94-2.06 2.06-.94-2.06-.94-.94-2.06-.94 2.06-2.06.94z\"/><path d=\"M17.41 7.96l-1.37-1.37c-.4-.4-.92-.59-1.43-.59-.52 0-1.04.2-1.43.59L10.3 9.45l-7.72 7.72c-.78.78-.78 2.05 0 2.83L4 21.41c.39.39.9.59 1.41.59.51 0 1.02-.2 1.41-.59l7.78-7.78 2.81-2.81c.8-.78.8-2.07 0-2.86zM5.41 20L4 18.59l7.72-7.72 1.47 1.35L5.41 20z\"/>\n",
              "  </svg>\n",
              "      </button>\n",
              "      \n",
              "  <style>\n",
              "    .colab-df-container {\n",
              "      display:flex;\n",
              "      flex-wrap:wrap;\n",
              "      gap: 12px;\n",
              "    }\n",
              "\n",
              "    .colab-df-convert {\n",
              "      background-color: #E8F0FE;\n",
              "      border: none;\n",
              "      border-radius: 50%;\n",
              "      cursor: pointer;\n",
              "      display: none;\n",
              "      fill: #1967D2;\n",
              "      height: 32px;\n",
              "      padding: 0 0 0 0;\n",
              "      width: 32px;\n",
              "    }\n",
              "\n",
              "    .colab-df-convert:hover {\n",
              "      background-color: #E2EBFA;\n",
              "      box-shadow: 0px 1px 2px rgba(60, 64, 67, 0.3), 0px 1px 3px 1px rgba(60, 64, 67, 0.15);\n",
              "      fill: #174EA6;\n",
              "    }\n",
              "\n",
              "    [theme=dark] .colab-df-convert {\n",
              "      background-color: #3B4455;\n",
              "      fill: #D2E3FC;\n",
              "    }\n",
              "\n",
              "    [theme=dark] .colab-df-convert:hover {\n",
              "      background-color: #434B5C;\n",
              "      box-shadow: 0px 1px 3px 1px rgba(0, 0, 0, 0.15);\n",
              "      filter: drop-shadow(0px 1px 2px rgba(0, 0, 0, 0.3));\n",
              "      fill: #FFFFFF;\n",
              "    }\n",
              "  </style>\n",
              "\n",
              "      <script>\n",
              "        const buttonEl =\n",
              "          document.querySelector('#df-abbadc62-36d1-4bf5-bccc-811ea81255e0 button.colab-df-convert');\n",
              "        buttonEl.style.display =\n",
              "          google.colab.kernel.accessAllowed ? 'block' : 'none';\n",
              "\n",
              "        async function convertToInteractive(key) {\n",
              "          const element = document.querySelector('#df-abbadc62-36d1-4bf5-bccc-811ea81255e0');\n",
              "          const dataTable =\n",
              "            await google.colab.kernel.invokeFunction('convertToInteractive',\n",
              "                                                     [key], {});\n",
              "          if (!dataTable) return;\n",
              "\n",
              "          const docLinkHtml = 'Like what you see? Visit the ' +\n",
              "            '<a target=\"_blank\" href=https://colab.research.google.com/notebooks/data_table.ipynb>data table notebook</a>'\n",
              "            + ' to learn more about interactive tables.';\n",
              "          element.innerHTML = '';\n",
              "          dataTable['output_type'] = 'display_data';\n",
              "          await google.colab.output.renderOutput(dataTable, element);\n",
              "          const docLink = document.createElement('div');\n",
              "          docLink.innerHTML = docLinkHtml;\n",
              "          element.appendChild(docLink);\n",
              "        }\n",
              "      </script>\n",
              "    </div>\n",
              "  </div>\n",
              "  "
            ]
          },
          "metadata": {},
          "execution_count": 33
        }
      ]
    },
    {
      "cell_type": "markdown",
      "source": [
        "#### Convert to Tensorflow Batched Dataset\n",
        "\n",
        "As explained earlier, the train subset takes the entire watch history for selected users all together, whereas the validation and evaluation subsets takes paired data, repsectively used as history and ground truth. "
      ],
      "metadata": {
        "id": "osidqS0Lre_E"
      }
    },
    {
      "cell_type": "code",
      "source": [
        "BATCH_SIZE = 64"
      ],
      "metadata": {
        "id": "y99piUSYsGcD"
      },
      "execution_count": 34,
      "outputs": []
    },
    {
      "cell_type": "code",
      "source": [
        "def to_tensor(df):\n",
        "    df_bin = df.astype('float32').to_numpy()\n",
        "    return tf.data.Dataset.from_tensor_slices(df_bin)\n",
        "\n",
        "x_train = to_tensor(pd.notna(df_train)).batch(BATCH_SIZE)\n",
        "\n",
        "x_valid = tf.data.Dataset.zip((to_tensor(df_valid_keep), to_tensor(df_valid_mask))).batch(BATCH_SIZE)\n",
        "x_score = tf.data.Dataset.zip((to_tensor(df_score_keep), to_tensor(df_score_mask))).batch(BATCH_SIZE)\n",
        "\n",
        "for a, (b, c), (d, e) in zip(x_train.take(1), x_valid.take(1), x_score.take(1)):\n",
        "    print(a.shape, b.shape, c.shape, d.shape, e.shape)"
      ],
      "metadata": {
        "colab": {
          "base_uri": "https://localhost:8080/"
        },
        "id": "aNICciMFq8E5",
        "outputId": "2d9d3f18-535b-40bc-900f-6d230e9ec8ad"
      },
      "execution_count": 35,
      "outputs": [
        {
          "output_type": "stream",
          "name": "stdout",
          "text": [
            "(64, 3416) (64, 3416) (64, 3416) (64, 3416) (64, 3416)\n"
          ]
        }
      ]
    },
    {
      "cell_type": "markdown",
      "source": [
        "---\n",
        "## Model Implementation\n",
        "\n",
        "The encoder and decoder parts of the model are mostly simple MLPs, built as below. The `Lambda` layer allows us to define customized layer based on mathematical operations, such as the implementation of the variational encoder sampling process. "
      ],
      "metadata": {
        "id": "Lyeg5GgpSxD3"
      }
    },
    {
      "cell_type": "code",
      "source": [
        "HIDDEN_DIM = 200\n",
        "LATENT_DIM = 100"
      ],
      "metadata": {
        "id": "5dkTVRBRXqiO"
      },
      "execution_count": 36,
      "outputs": []
    },
    {
      "cell_type": "code",
      "source": [
        "from tensorflow.keras import backend as K"
      ],
      "metadata": {
        "id": "vUcMb9UfXgil"
      },
      "execution_count": 37,
      "outputs": []
    },
    {
      "cell_type": "code",
      "source": [
        "from tensorflow.keras.models import Model\n",
        "from tensorflow.keras.layers import Input\n",
        "from tensorflow.keras.layers import Lambda\n",
        "from tensorflow.keras.layers import Dropout\n",
        "from tensorflow.keras.layers import Flatten\n",
        "from tensorflow.keras.layers import Dense"
      ],
      "metadata": {
        "id": "kSuA25gFWclw"
      },
      "execution_count": 38,
      "outputs": []
    },
    {
      "cell_type": "code",
      "source": [
        "def Encoder(input_dim=N_MOVIES,  hidden_dim=HIDDEN_DIM, latent_dim=LATENT_DIM,summary=False):\n",
        "    \"\"\"\n",
        "    produce latent space distribution (mu and sigma) and latent vector (z)\n",
        "    \"\"\"\n",
        "\n",
        "    x = Input(shape=input_dim, name='encoder_input')\n",
        "    z = Lambda(lambda a: tf.math.l2_normalize(a, axis=1), name='encoder_normalize')(x)\n",
        "    z = Dropout(rate=0.5, name='encoder_dropout')(z)\n",
        "    z = Dense(units=hidden_dim, activation='tanh', name='encoder_perceptron')(z)\n",
        "\n",
        "    # generate distributions\n",
        "    m = Dense(units=latent_dim, name='mean')(z)  # mean\n",
        "    v = Dense(units=latent_dim, name='logvar')(z)  # log variance\n",
        "\n",
        "    # generate latent vector\n",
        "    def _sample(args):\n",
        "        mu, logvar = args\n",
        "        # reparameterization\n",
        "        epsilon = tf.random.normal(\n",
        "            mean=0., stddev=1.,\n",
        "            shape=(K.shape(mu)[0], latent_dim)\n",
        "        )\n",
        "        std = K.exp(logvar / 2)\n",
        "        return epsilon * std + mu\n",
        "\n",
        "    z = Lambda(_sample, name='sample')([m, v])\n",
        "\n",
        "    model = Model(inputs=x, outputs=[m, v, z], name='Encoder')\n",
        "    \n",
        "    if summary:\n",
        "        display(model.summary())\n",
        "    \n",
        "    return model\n",
        "\n",
        "_ = Encoder(summary=True)"
      ],
      "metadata": {
        "colab": {
          "base_uri": "https://localhost:8080/",
          "height": 451
        },
        "id": "e7mwAEhbWc4D",
        "outputId": "edbfac49-e69b-4721-a94c-abb94ef992c7"
      },
      "execution_count": 39,
      "outputs": [
        {
          "output_type": "stream",
          "name": "stdout",
          "text": [
            "Model: \"Encoder\"\n",
            "__________________________________________________________________________________________________\n",
            " Layer (type)                   Output Shape         Param #     Connected to                     \n",
            "==================================================================================================\n",
            " encoder_input (InputLayer)     [(None, 3416)]       0           []                               \n",
            "                                                                                                  \n",
            " encoder_normalize (Lambda)     (None, 3416)         0           ['encoder_input[0][0]']          \n",
            "                                                                                                  \n",
            " encoder_dropout (Dropout)      (None, 3416)         0           ['encoder_normalize[0][0]']      \n",
            "                                                                                                  \n",
            " encoder_perceptron (Dense)     (None, 200)          683400      ['encoder_dropout[0][0]']        \n",
            "                                                                                                  \n",
            " mean (Dense)                   (None, 100)          20100       ['encoder_perceptron[0][0]']     \n",
            "                                                                                                  \n",
            " logvar (Dense)                 (None, 100)          20100       ['encoder_perceptron[0][0]']     \n",
            "                                                                                                  \n",
            " sample (Lambda)                (None, 100)          0           ['mean[0][0]',                   \n",
            "                                                                  'logvar[0][0]']                 \n",
            "                                                                                                  \n",
            "==================================================================================================\n",
            "Total params: 723,600\n",
            "Trainable params: 723,600\n",
            "Non-trainable params: 0\n",
            "__________________________________________________________________________________________________\n"
          ]
        },
        {
          "output_type": "display_data",
          "data": {
            "text/plain": [
              "None"
            ]
          },
          "metadata": {}
        }
      ]
    },
    {
      "cell_type": "code",
      "source": [
        "def Decoder(output_dim=N_MOVIES, hidden_dim=HIDDEN_DIM, latent_dim=LATENT_DIM, summary=False):\n",
        "    \"\"\"\n",
        "    reconstruct input vector from latent vector (z)\n",
        "    \"\"\"\n",
        "\n",
        "    x = Input(shape=latent_dim, name='decoder_input')\n",
        "    z = Dense(units=hidden_dim, activation='tanh', name='decoder_perceptron')(x)\n",
        "    z = Dense(output_dim, name='reconstruct')(z)\n",
        "    z = Dropout(rate=0.5, name='decoder_dropout')(z)\n",
        "\n",
        "    model = Model(inputs=x, outputs=z, name='Decoder')\n",
        "    \n",
        "    if summary:\n",
        "        display(model.summary())\n",
        "    \n",
        "    return model\n",
        "\n",
        "_ = Decoder(summary=True)"
      ],
      "metadata": {
        "colab": {
          "base_uri": "https://localhost:8080/",
          "height": 329
        },
        "id": "XYhXdtMCeI3r",
        "outputId": "55ef1769-8be7-404b-c69f-a3729e6c430e"
      },
      "execution_count": 40,
      "outputs": [
        {
          "output_type": "stream",
          "name": "stdout",
          "text": [
            "Model: \"Decoder\"\n",
            "_________________________________________________________________\n",
            " Layer (type)                Output Shape              Param #   \n",
            "=================================================================\n",
            " decoder_input (InputLayer)  [(None, 100)]             0         \n",
            "                                                                 \n",
            " decoder_perceptron (Dense)  (None, 200)               20200     \n",
            "                                                                 \n",
            " reconstruct (Dense)         (None, 3416)              686616    \n",
            "                                                                 \n",
            " decoder_dropout (Dropout)   (None, 3416)              0         \n",
            "                                                                 \n",
            "=================================================================\n",
            "Total params: 706,816\n",
            "Trainable params: 706,816\n",
            "Non-trainable params: 0\n",
            "_________________________________________________________________\n"
          ]
        },
        {
          "output_type": "display_data",
          "data": {
            "text/plain": [
              "None"
            ]
          },
          "metadata": {}
        }
      ]
    },
    {
      "cell_type": "markdown",
      "source": [
        "#### Evaluation Metrics: Normalized Discounted Cmulative Gain (NDCG@k) and Recall@k\n",
        "\n",
        "Two metrics are calculated for the top-k recommended items in reference with their actual watch history, NDCG and Recall. The actual history is retrieved from the masked portion using indices. NDCG is a metric that evaluates the ranking quality of the recommendations. In the watch history, 1 means relevance and 0 means no relevance. Recall measures the fraction of relevant items retrieved compared to the ground truth. \n",
        "\n",
        "* https://en.wikipedia.org/wiki/Discounted_cumulative_gain\n",
        "* https://en.wikipedia.org/wiki/Precision_and_recall\n",
        "* https://www.tensorflow.org/ranking/api_docs/python/tfr/keras/metrics/NDCGMetric\n",
        "* https://www.tensorflow.org/api_docs/python/tf/keras/metrics/Recall"
      ],
      "metadata": {
        "id": "paStU6V6i7_O"
      }
    },
    {
      "cell_type": "code",
      "source": [
        "!pip install tensorflow_ranking==0.5.0 --no-deps\n",
        "!pip install tensorflow-serving-api==2.8.0 --no-deps\n",
        "!pip install tf-estimator-nightly==2.8.0.dev2021122109 --no-deps"
      ],
      "metadata": {
        "colab": {
          "base_uri": "https://localhost:8080/"
        },
        "id": "84nnd5P5NdAX",
        "outputId": "5c356ffa-a434-4999-9131-e1151fd3c834"
      },
      "execution_count": 41,
      "outputs": [
        {
          "output_type": "stream",
          "name": "stdout",
          "text": [
            "Requirement already satisfied: tensorflow_ranking==0.5.0 in /usr/local/lib/python3.7/dist-packages (0.5.0)\n",
            "Requirement already satisfied: tensorflow-serving-api==2.8.0 in /usr/local/lib/python3.7/dist-packages (2.8.0)\n",
            "Requirement already satisfied: tf-estimator-nightly==2.8.0.dev2021122109 in /usr/local/lib/python3.7/dist-packages (2.8.0.dev2021122109)\n"
          ]
        }
      ]
    },
    {
      "cell_type": "code",
      "source": [
        "import tensorflow_ranking as tfr"
      ],
      "metadata": {
        "id": "7smrqSXwLKgm"
      },
      "execution_count": 42,
      "outputs": []
    },
    {
      "cell_type": "code",
      "source": [
        "tf.config.run_functions_eagerly(True)\n",
        "tf.data.experimental.enable_debug_mode()"
      ],
      "metadata": {
        "id": "rD6rEQQzMDaC"
      },
      "execution_count": 43,
      "outputs": []
    },
    {
      "cell_type": "code",
      "source": [
        "def get_topk_values(scores, values, top_k=20):\n",
        "    \"\"\" get the top k values in tensor format \"\"\"\n",
        " \n",
        "    ranks = tf.argsort(scores, direction='DESCENDING')                           # => (B, N_MOVIES)\n",
        "    B = K.shape(scores)[0].numpy()\n",
        "    row = np.arange(B).reshape(-1, 1)\n",
        "    topk_val = tf.zeros([B, 0], dtype='float32')                                 # => (B, 0) for saving values\n",
        "\n",
        "    for k in range(top_k):\n",
        "        idx = tf.slice(ranks, begin=[0, k], size=[-1, 1])                        # => (B, 1)\n",
        "        idx = tf.concat([row, idx], axis=-1)                                     # => (B, 2)\n",
        "        val = tf.expand_dims(tf.gather_nd(values, indices=idx), axis=-1)         # => (B, 1)\n",
        "        topk_val = tf.concat([topk_val, val], axis=-1)\n",
        "\n",
        "    return topk_val                                                              # => (B, top_k)\n",
        "\n",
        "def get_topk_indice(scores, top_k=20):\n",
        "    \"\"\" get the top k indice in tensor format \"\"\"\n",
        "    ranks = tf.argsort(scores, direction='DESCENDING')                           # => (B, N_MOVIES)\n",
        "\n",
        "    B = K.shape(scores)[0].numpy()\n",
        "    topk_idx = tf.zeros([B, 0], dtype='int32')                                   # => (B, 0) for saving indices\n",
        "\n",
        "    for k in range(top_k):\n",
        "        idx = tf.slice(ranks, begin=[0, k], size=[-1, 1])                        # => (B, 1)\n",
        "        topk_idx = tf.concat([topk_idx, idx], axis=-1)\n",
        "\n",
        "    return topk_idx"
      ],
      "metadata": {
        "id": "B7P1Dy4AtcV8"
      },
      "execution_count": 44,
      "outputs": []
    },
    {
      "cell_type": "code",
      "source": [
        "def ndcg_at_k(x_pred, x_true, top_k=20):\n",
        "  \n",
        "    k_pred = get_topk_values(x_pred, x_pred, top_k=top_k)                        # model ranking\n",
        "    k_true = get_topk_values(x_pred, x_true, top_k=top_k)                        # actual revelance (1/0)\n",
        "\n",
        "    return tfr.keras.metrics.NDCGMetric()(k_true, k_pred)\n",
        "\n",
        "def recall_at_k(x_pred, x_true, top_k=20):\n",
        "\n",
        "    k_pred = get_topk_indice(x_pred)\n",
        "    k_pred = tf.ones_like(k_pred, dtype='float32')\n",
        "    k_true = get_topk_values(x_pred, x_true)\n",
        "\n",
        "    return tf.keras.metrics.Recall()(k_pred, k_true)"
      ],
      "metadata": {
        "id": "zw6k0RTicSpN"
      },
      "execution_count": 45,
      "outputs": []
    },
    {
      "cell_type": "markdown",
      "source": [
        "#### Remove Watched Items from Recommendation\n",
        "\n",
        "At inference time, the already watched items need to be removed from the recommendations. This can be done by simply using the negation of the history binary values as a mask to set the prediction scores on already watched items to 0 while the scores at other entries will be kept. "
      ],
      "metadata": {
        "id": "OfayKDzukEK5"
      }
    },
    {
      "cell_type": "code",
      "source": [
        "def remove_watched(x_pred, x_hist):\n",
        "    \"\"\" if value in x_hist is 1, set value in x_pred to 0 \"\"\"\n",
        "    mask = tf.cast(tf.logical_not(tf.cast(x_hist, dtype='bool')), dtype='float32')  # only unwatched items are 1\n",
        "    return tf.multiply(x_pred, mask)"
      ],
      "metadata": {
        "id": "I4p1hNTUkGXI"
      },
      "execution_count": 46,
      "outputs": []
    },
    {
      "cell_type": "markdown",
      "source": [
        "#### Training Loop\n",
        "\n",
        "The VAE loss is implemented below, combining negative log likelihood and weighted KL divergence. "
      ],
      "metadata": {
        "id": "p7Us-ucSpCIk"
      }
    },
    {
      "cell_type": "code",
      "source": [
        "from tensorflow.keras.losses import BinaryCrossentropy\n",
        "from tensorflow.keras.losses import KLDivergence\n",
        "from tensorflow.keras.optimizers import Adam"
      ],
      "metadata": {
        "id": "EQfb2fCJU1kG"
      },
      "execution_count": 47,
      "outputs": []
    },
    {
      "cell_type": "code",
      "source": [
        "class MultiVAE(tf.keras.Model):\n",
        "\n",
        "    def __init__(self, beta=0.2):\n",
        "        super().__init__()\n",
        "        self.n_items=N_MOVIES\n",
        "        self.encoder=Encoder(input_dim=self.n_items)\n",
        "        self.decoder=Decoder(output_dim=self.n_items)\n",
        "        self.beta=beta\n",
        "        self.top_k=20\n",
        "\n",
        "    def compile(self):\n",
        "        super().compile(optimizer=Adam(learning_rate=0.001))\n",
        "\n",
        "    def forward(self, x_true):\n",
        "        \"\"\"forward pass\"\"\"\n",
        "        mean, logvar, latent_vec = self.encoder(x_true, training=True)\n",
        "        x_pred = self.decoder(latent_vec, training=True)\n",
        "        x_pred = tf.nn.softmax(x_pred)\n",
        "        return mean, logvar, x_pred\n",
        "\n",
        "    def compute_loss(self, x_true, x_pred, mean, logvar):\n",
        "        \"\"\"VAE loss\"\"\"\n",
        "        nll_loss = BinaryCrossentropy(from_logits=True)(x_true, x_pred)\n",
        "\n",
        "        kld_loss = tf.reduce_mean( \n",
        "            0.5 * tf.reduce_sum(\n",
        "                - logvar + tf.square(mean) + tf.exp(logvar) - 1, axis=-1,\n",
        "            )\n",
        "        )\n",
        "        tot_loss = nll_loss + self.beta * kld_loss\n",
        "        return nll_loss, kld_loss, tot_loss\n",
        "\n",
        "    @tf.function\n",
        "    def train_step(self, x_true):\n",
        "\n",
        "        with tf.GradientTape() as tape:\n",
        "            mean, logvar, x_pred = self.forward(x_true)\n",
        "            losses = self.compute_loss(x_true, x_pred, mean, logvar)\n",
        "            nll_loss, kld_loss, loss = losses\n",
        "\n",
        "            vars = self.encoder.trainable_variables \\\n",
        "                 + self.decoder.trainable_variables\n",
        "            grad = tape.gradient(loss, vars)\n",
        "            self.optimizer.apply_gradients(zip(grad, vars))\n",
        "\n",
        "        results = {m.name: m.result() for m in self.metrics}\n",
        "        results.update(dict(loss=loss, NLL=nll_loss, KLD=kld_loss))\n",
        "\n",
        "        return results\n",
        "\n",
        "    @tf.function\n",
        "    def test_step(self, data):\n",
        "        \n",
        "        x_hist, x_true = data\n",
        "        mean, logvar, x_pred = self.forward(x_hist)      # training=True for dropout\n",
        "        _, _, loss = self.compute_loss(x_hist, x_pred, mean, logvar)\n",
        "\n",
        "        x_pred = remove_watched(x_pred, x_hist)\n",
        "        ndcg = ndcg_at_k(x_pred, x_true, top_k=self.top_k)\n",
        "        recall = recall_at_k(x_pred, x_true, top_k=self.top_k)\n",
        "\n",
        "        results = {m.name: m.result() for m in self.metrics}\n",
        "        results.update(dict(loss=loss, ndcg=ndcg, recall=recall))\n",
        "\n",
        "        return results\n",
        "\n",
        "    def __call__(self, x_hist, training=False):\n",
        "\n",
        "        _, _, x_pred = self.forward(x_hist)                                      # => (B, N_MOVIES)       \n",
        "        x_pred = remove_watched(x_pred, x_hist)\n",
        "\n",
        "        return get_topk_indice(x_pred)\n",
        "\n",
        "model = MultiVAE()\n",
        "model.compile()"
      ],
      "metadata": {
        "id": "vsSsqh8AS1Zn"
      },
      "execution_count": 48,
      "outputs": []
    },
    {
      "cell_type": "markdown",
      "source": [
        "---\n",
        "## Training\n",
        "\n",
        "The training process is set to run 10 epochs each time, with the weights and training performance saved and loaded for later use.\n",
        "\n"
      ],
      "metadata": {
        "id": "gteobW4sS05P"
      }
    },
    {
      "cell_type": "code",
      "source": [
        "import os\n",
        "import pickle\n",
        "\n",
        "model_name = \"VAE-CF\"\n",
        "model_file = f\"./models/{model_name}.tf\"\n",
        "hist_file = \"./models/model_history.pkl\"\n",
        "\n",
        "if not os.path.exists('./models'):\n",
        "    os.mkdir('./models')\n",
        "\n",
        "current_epoch = 0\n",
        "# load pre-trained model and history if available\n",
        "if os.path.exists(f\"{model_file}.index\") and os.path.exists(hist_file):\n",
        "    print(f\"\\nLoading model weights for {model_name}...\")\n",
        "    model.load_weights(model_file)\n",
        "    print(f\"\\nLoading model history for {model_name}...\")\n",
        "    with open(hist_file, 'rb') as pickle_file:\n",
        "        model_history = pickle.load(pickle_file)\n",
        "\n",
        "    current_epoch = len(model_history['loss'])\n"
      ],
      "metadata": {
        "colab": {
          "base_uri": "https://localhost:8080/"
        },
        "id": "htGoqnDm4J5w",
        "outputId": "38647897-a7a9-4c46-baa9-52ef7543e31e"
      },
      "execution_count": 49,
      "outputs": [
        {
          "output_type": "stream",
          "name": "stdout",
          "text": [
            "\n",
            "Loading model weights for VAE-CF...\n",
            "\n",
            "Loading model history for VAE-CF...\n"
          ]
        }
      ]
    },
    {
      "cell_type": "code",
      "source": [
        "N_EPOCHS = 10\n",
        "N_WORKERS = 100\n",
        "BATCH_SIZE=64\n",
        "\n",
        "fit_dict = dict(\n",
        "    shuffle=True,\n",
        "    batch_size=BATCH_SIZE, \n",
        "    epochs=N_EPOCHS, \n",
        "    verbose=1,\n",
        "    workers=N_WORKERS, \n",
        "    use_multiprocessing=True\n",
        ")\n",
        "\n",
        "print(f\"\\nTraining model {model_name}...\")\n",
        "history = model.fit(x_train, validation_data=x_valid, **fit_dict)\n",
        "\n",
        "if current_epoch != 0:\n",
        "    for (loss, old_values), new_values in zip(model_history.items(), history.history.values()):\n",
        "        model_history[loss].extend(history.history[loss])\n",
        "else:\n",
        "    model_history = history.history\n",
        "\n",
        "print(f\"\\nSaving model history for {model_name}...\")\n",
        "with open('./models/model_history.pkl', 'wb') as pickle_file:\n",
        "    pickle.dump(model_history, pickle_file)\n",
        "\n",
        "current_epoch += N_EPOCHS\n",
        "print(f\"\\nSaving model weights for {model_name} epoch {current_epoch}...\")\n",
        "model.save_weights(model_file)"
      ],
      "metadata": {
        "colab": {
          "base_uri": "https://localhost:8080/"
        },
        "id": "0FSi1paIPAUn",
        "outputId": "9a0ede27-7b3e-45bc-ec30-450dc1815c67"
      },
      "execution_count": 50,
      "outputs": [
        {
          "output_type": "stream",
          "name": "stdout",
          "text": [
            "\n",
            "Training model VAE-CF...\n",
            "Epoch 1/10\n",
            "63/63 [==============================] - 4s 52ms/step - loss: 0.6932 - NLL: 0.6932 - KLD: 2.0000e-05 - val_loss: 0.6932 - val_ndcg: 0.3437 - val_recall: 0.0725\n",
            "Epoch 2/10\n",
            "63/63 [==============================] - 2s 40ms/step - loss: 0.6932 - NLL: 0.6932 - KLD: 1.9439e-05 - val_loss: 0.6932 - val_ndcg: 0.3909 - val_recall: 0.0850\n",
            "Epoch 3/10\n",
            "63/63 [==============================] - 3s 41ms/step - loss: 0.6932 - NLL: 0.6932 - KLD: 1.7233e-05 - val_loss: 0.6932 - val_ndcg: 0.3945 - val_recall: 0.0812\n",
            "Epoch 4/10\n",
            "63/63 [==============================] - 2s 39ms/step - loss: 0.6932 - NLL: 0.6932 - KLD: 1.5212e-05 - val_loss: 0.6932 - val_ndcg: 0.4395 - val_recall: 0.0850\n",
            "Epoch 5/10\n",
            "63/63 [==============================] - 3s 40ms/step - loss: 0.6932 - NLL: 0.6932 - KLD: 1.3781e-05 - val_loss: 0.6932 - val_ndcg: 0.3417 - val_recall: 0.0725\n",
            "Epoch 6/10\n",
            "63/63 [==============================] - 2s 40ms/step - loss: 0.6932 - NLL: 0.6932 - KLD: 1.3688e-05 - val_loss: 0.6932 - val_ndcg: 0.3971 - val_recall: 0.0875\n",
            "Epoch 7/10\n",
            "63/63 [==============================] - 2s 39ms/step - loss: 0.6932 - NLL: 0.6932 - KLD: 1.2614e-05 - val_loss: 0.6932 - val_ndcg: 0.3547 - val_recall: 0.0787\n",
            "Epoch 8/10\n",
            "63/63 [==============================] - 2s 38ms/step - loss: 0.6932 - NLL: 0.6932 - KLD: 1.2312e-05 - val_loss: 0.6932 - val_ndcg: 0.3835 - val_recall: 0.0775\n",
            "Epoch 9/10\n",
            "63/63 [==============================] - 2s 39ms/step - loss: 0.6932 - NLL: 0.6932 - KLD: 1.1187e-05 - val_loss: 0.6932 - val_ndcg: 0.3531 - val_recall: 0.0862\n",
            "Epoch 10/10\n",
            "63/63 [==============================] - 2s 38ms/step - loss: 0.6932 - NLL: 0.6932 - KLD: 1.1074e-05 - val_loss: 0.6932 - val_ndcg: 0.4159 - val_recall: 0.1000\n",
            "\n",
            "Saving model history for VAE-CF...\n",
            "\n",
            "Saving model weights for VAE-CF epoch 60...\n"
          ]
        }
      ]
    },
    {
      "cell_type": "markdown",
      "source": [
        "#### Training Performance"
      ],
      "metadata": {
        "id": "2CRj9x225Rou"
      }
    },
    {
      "cell_type": "code",
      "source": [
        "fig, axes = plt.subplots(1, 3, figsize=(18, 4))\n",
        "\n",
        "axes[0].plot(model_history['loss'], color='b', label='training loss')\n",
        "axes[0].plot(model_history['val_loss'], color='orange', linestyle='dashed', label='validation loss')\n",
        "axes[0].set(title='Training vs Validation Loss', xlabel='epoch')\n",
        "axes[0].legend()\n",
        "\n",
        "axes[1].plot(model_history['val_ndcg'], color='r')\n",
        "axes[1].set(title='NDCG (@k=20)', xlabel='epoch')\n",
        "\n",
        "axes[2].plot(model_history['val_recall'], color='c')\n",
        "axes[2].set(title='Recall (@k=20)', xlabel='epoch')\n",
        "\n",
        "plt.show()"
      ],
      "metadata": {
        "colab": {
          "base_uri": "https://localhost:8080/",
          "height": 295
        },
        "id": "qQrSIUX_5SwH",
        "outputId": "af3c91b5-3644-4ce0-b1b8-04616ddafbc1"
      },
      "execution_count": 51,
      "outputs": [
        {
          "output_type": "display_data",
          "data": {
            "text/plain": [
              "<Figure size 1296x288 with 3 Axes>"
            ],
            "image/png": "[encoded data removed]"
          },
          "metadata": {
            "needs_background": "light"
          }
        }
      ]
    },
    {
      "cell_type": "markdown",
      "source": [
        "---\n",
        "## Evaluation"
      ],
      "metadata": {
        "id": "qtvALPxfPA8T"
      }
    },
    {
      "cell_type": "code",
      "source": [
        "model.evaluate(x_score)"
      ],
      "metadata": {
        "id": "O6rIZj1vS273",
        "colab": {
          "base_uri": "https://localhost:8080/"
        },
        "outputId": "f6eaf2f5-450b-40ae-928f-32e1370a768d"
      },
      "execution_count": 52,
      "outputs": [
        {
          "output_type": "stream",
          "name": "stdout",
          "text": [
            "17/17 [==============================] - 1s 78ms/step - loss: 0.6932 - ndcg: 0.4049 - recall: 0.1022\n"
          ]
        },
        {
          "output_type": "execute_result",
          "data": {
            "text/plain": [
              "[0.6932477355003357, 0.4140898287296295, 0.11562500149011612]"
            ]
          },
          "metadata": {},
          "execution_count": 52
        }
      ]
    },
    {
      "cell_type": "code",
      "source": [
        "pred_all = model.predict(x_score)\n",
        "pred_all.shape"
      ],
      "metadata": {
        "colab": {
          "base_uri": "https://localhost:8080/"
        },
        "id": "-4HfIQJHVHUx",
        "outputId": "d7fb036e-892d-4de3-f736-bacf74894785"
      },
      "execution_count": 53,
      "outputs": [
        {
          "output_type": "execute_result",
          "data": {
            "text/plain": [
              "(1040, 20)"
            ]
          },
          "metadata": {},
          "execution_count": 53
        }
      ]
    },
    {
      "cell_type": "markdown",
      "source": [
        "#### Predict One Example\n",
        "\n",
        "The results returned by the model are absolute indices of the array made of movie IDs, which can be retrieved from the original dataframe column name array. Further, we can lookup for the movie titles respectively for user history (as model input), recommendations (model output) and masked history (ground truth), and check how much they overlap. "
      ],
      "metadata": {
        "id": "cNS3QZqU-PlX"
      }
    },
    {
      "cell_type": "code",
      "source": [
        "def predict_one(uid, print_movies=False):\n",
        "\n",
        "    global df_score_keep, df_score_mask, dict_movies, pred_all\n",
        "\n",
        "    mask_idx = df_score_mask.iloc[uid]\n",
        "    mask_mov = df_score_mask.columns[mask_idx].astype('int').tolist()\n",
        "    pred_idx = pred_all[uid]\n",
        "    pred_mov = sorted(df_score_keep.columns.astype('int').to_numpy()[pred_idx])\n",
        "    good_mov = list(set(mask_mov).intersection(set(pred_mov)))\n",
        "\n",
        "    if print_movies:\n",
        "        print(f\"Below movies reviewed by user {uid} were masked out:\\n\")\n",
        "        for mov in mask_mov:\n",
        "            print(str(mov).ljust(4), dict_movies[mov])\n",
        "    \n",
        "        print(\"-\"*100 + \"\\nThese movies were recommened:\\n\")\n",
        "        for mov in pred_mov:\n",
        "            print(str(mov).ljust(4), dict_movies.get(mov, None))\n",
        "\n",
        "        print(\"-\"*100 + \"\\nOverlapping ones:\\n\")\n",
        "        for mov in good_mov:\n",
        "            print(str(mov).ljust(4), dict_movies.get(mov, None))        \n",
        "\n",
        "    return len(good_mov)\n",
        "\n",
        "_ = predict_one(53, print_movies=True)"
      ],
      "metadata": {
        "colab": {
          "base_uri": "https://localhost:8080/"
        },
        "id": "l9Uvwxgj-Ry1",
        "outputId": "cdcf674b-225f-40d2-fad8-ecee2af443a2"
      },
      "execution_count": 54,
      "outputs": [
        {
          "output_type": "stream",
          "name": "stdout",
          "text": [
            "Below movies reviewed by user 53 were masked out:\n",
            "\n",
            "2    Jumanji (1995)\n",
            "7    Sabrina (1995)\n",
            "11   American President, The (1995)\n",
            "110  Braveheart (1995)\n",
            "141  Birdcage, The (1996)\n",
            "203  To Wong Foo, Thanks for Everything! Julie Newmar (1995)\n",
            "232  Eat Drink Man Woman (1994)\n",
            "260  Star Wars: Episode IV - A New Hope (1977)\n",
            "281  Nobody's Fool (1994)\n",
            "292  Outbreak (1995)\n",
            "314  Secret of Roan Inish, The (1994)\n",
            "316  Stargate (1994)\n",
            "318  Shawshank Redemption, The (1994)\n",
            "368  Maverick (1994)\n",
            "371  Paper, The (1994)\n",
            "385  Man of No Importance, A (1994)\n",
            "412  Age of Innocence, The (1993)\n",
            "457  Fugitive, The (1993)\n",
            "506  Orlando (1993)\n",
            "532  Serial Mom (1994)\n",
            "538  Six Degrees of Separation (1993)\n",
            "590  Dances with Wolves (1990)\n",
            "592  Batman (1989)\n",
            "596  Pinocchio (1940)\n",
            "597  Pretty Woman (1990)\n",
            "780  Independence Day (ID4) (1996)\n",
            "858  Godfather, The (1972)\n",
            "898  Philadelphia Story, The (1940)\n",
            "902  Breakfast at Tiffany's (1961)\n",
            "904  Rear Window (1954)\n",
            "916  Roman Holiday (1953)\n",
            "921  My Favorite Year (1982)\n",
            "924  2001: A Space Odyssey (1968)\n",
            "946  To Be or Not to Be (1942)\n",
            "954  Mr. Smith Goes to Washington (1939)\n",
            "1029 Dumbo (1941)\n",
            "1031 Bedknobs and Broomsticks (1971)\n",
            "1035 Sound of Music, The (1965)\n",
            "1068 Crossfire (1947)\n",
            "1096 Sophie's Choice (1982)\n",
            "1124 On Golden Pond (1981)\n",
            "1127 Abyss, The (1989)\n",
            "1178 Paths of Glory (1957)\n",
            "1196 Star Wars: Episode V - The Empire Strikes Back (1980)\n",
            "1197 Princess Bride, The (1987)\n",
            "1198 Raiders of the Lost Ark (1981)\n",
            "1199 Brazil (1985)\n",
            "1210 Star Wars: Episode VI - Return of the Jedi (1983)\n",
            "1217 Ran (1985)\n",
            "1225 Amadeus (1984)\n",
            "1242 Glory (1989)\n",
            "1245 Miller's Crossing (1990)\n",
            "1258 Shining, The (1980)\n",
            "1278 Young Frankenstein (1974)\n",
            "1283 High Noon (1952)\n",
            "1291 Indiana Jones and the Last Crusade (1989)\n",
            "1293 Gandhi (1982)\n",
            "1307 When Harry Met Sally... (1989)\n",
            "1343 Cape Fear (1991)\n",
            "1374 Star Trek: The Wrath of Khan (1982)\n",
            "1376 Star Trek IV: The Voyage Home (1986)\n",
            "1527 Fifth Element, The (1997)\n",
            "1573 Face/Off (1997)\n",
            "1617 L.A. Confidential (1997)\n",
            "1620 Kiss the Girls (1997)\n",
            "1643 Mrs. Brown (Her Majesty, Mrs. Brown) (1997)\n",
            "1672 Rainmaker, The (1997)\n",
            "1688 Anastasia (1997)\n",
            "1734 My Life in Pink (Ma vie en rose) (1997)\n",
            "1748 Dark City (1998)\n",
            "1883 Bulworth (1998)\n",
            "1907 Mulan (1998)\n",
            "1939 Best Years of Our Lives, The (1946)\n",
            "1945 On the Waterfront (1954)\n",
            "1961 Rain Man (1988)\n",
            "1977 Friday the 13th: The Final Chapter (1984)\n",
            "1986 Halloween 5: The Revenge of Michael Myers (1989)\n",
            "1997 Exorcist, The (1973)\n",
            "2001 Lethal Weapon 2 (1989)\n",
            "2012 Back to the Future Part III (1990)\n",
            "2029 Billy's Hollywood Screen Kiss (1997)\n",
            "2066 Out of the Past (1947)\n",
            "2068 Fanny and Alexander (1982)\n",
            "2078 Jungle Book, The (1967)\n",
            "2112 Grand Canyon (1991)\n",
            "2125 Ever After: A Cinderella Story (1998)\n",
            "2130 Atlantic City (1980)\n",
            "2135 Doctor Dolittle (1967)\n",
            "2150 Gods Must Be Crazy, The (1980)\n",
            "2176 Rope (1948)\n",
            "2182 Wrong Man, The (1956)\n",
            "2240 My Bodyguard (1980)\n",
            "2291 Edward Scissorhands (1990)\n",
            "2303 Nashville (1975)\n",
            "2321 Pleasantville (1998)\n",
            "2336 Elizabeth (1998)\n",
            "2355 Bug's Life, A (1998)\n",
            "2361 Pink Flamingos (1972)\n",
            "2391 Simple Plan, A (1998)\n",
            "2535 Earthquake (1974)\n",
            "2616 Dick Tracy (1990)\n",
            "2626 Edge of Seventeen (1998)\n",
            "2639 Mommie Dearest (1981)\n",
            "2699 Arachnophobia (1990)\n",
            "2731 400 Blows, The (Les Quatre cents coups) (1959)\n",
            "2770 Bowfinger (1999)\n",
            "2784 Masque of the Red Death, The (1964)\n",
            "2851 Saturn 3 (1979)\n",
            "2871 Deliverance (1972)\n",
            "2940 Gilda (1946)\n",
            "2959 Fight Club (1999)\n",
            "3044 Dead Again (1991)\n",
            "3089 Bicycle Thief, The (Ladri di biciclette) (1948)\n",
            "3094 Maurice (1987)\n",
            "3114 Toy Story 2 (1999)\n",
            "3147 Green Mile, The (1999)\n",
            "3159 Fantasia 2000 (1999)\n",
            "3175 Galaxy Quest (1999)\n",
            "3210 Fast Times at Ridgemont High (1982)\n",
            "3341 Born Yesterday (1950)\n",
            "3359 Breaking Away (1979)\n",
            "3408 Erin Brockovich (2000)\n",
            "3424 Do the Right Thing (1989)\n",
            "3447 Good Earth, The (1937)\n",
            "3461 Lord of the Flies (1963)\n",
            "3475 Place in the Sun, A (1951)\n",
            "3499 Misery (1990)\n",
            "3510 Frequency (2000)\n",
            "3528 Prince of Tides, The (1991)\n",
            "3543 Diner (1982)\n",
            "3546 What Ever Happened to Baby Jane? (1962)\n",
            "3547 Prick Up Your Ears (1987)\n",
            "3578 Gladiator (2000)\n",
            "3608 Pee-wee's Big Adventure (1985)\n",
            "3675 White Christmas (1954)\n",
            "3683 Blood Simple (1984)\n",
            "3727 Near Dark (1987)\n",
            "3738 Sugarland Express, The (1974)\n",
            "3751 Chicken Run (2000)\n",
            "3808 Two Women (La Ciociara) (1961)\n",
            "3872 Suddenly, Last Summer (1959)\n",
            "3903 Urbania (2000)\n",
            "3948 Meet the Parents (2000)\n",
            "----------------------------------------------------------------------------------------------------\n",
            "These movies were recommened:\n",
            "\n",
            "6    Heat (1995)\n",
            "21   Get Shorty (1995)\n",
            "110  Braveheart (1995)\n",
            "303  Quick and the Dead, The (1995)\n",
            "318  Shawshank Redemption, The (1994)\n",
            "1198 Raiders of the Lost Ark (1981)\n",
            "1291 Indiana Jones and the Last Crusade (1989)\n",
            "1370 Die Hard 2 (1990)\n",
            "1617 L.A. Confidential (1997)\n",
            "2145 Pretty in Pink (1986)\n",
            "2167 Blade (1998)\n",
            "2291 Edward Scissorhands (1990)\n",
            "2687 Tarzan (1999)\n",
            "3147 Green Mile, The (1999)\n",
            "3424 Do the Right Thing (1989)\n",
            "3481 High Fidelity (2000)\n",
            "3578 Gladiator (2000)\n",
            "3793 X-Men (2000)\n",
            "3863 Cell, The (2000)\n",
            "3952 Contender, The (2000)\n",
            "----------------------------------------------------------------------------------------------------\n",
            "Overlapping ones:\n",
            "\n",
            "3424 Do the Right Thing (1989)\n",
            "3147 Green Mile, The (1999)\n",
            "1291 Indiana Jones and the Last Crusade (1989)\n",
            "1198 Raiders of the Lost Ark (1981)\n",
            "110  Braveheart (1995)\n",
            "1617 L.A. Confidential (1997)\n",
            "2291 Edward Scissorhands (1990)\n",
            "3578 Gladiator (2000)\n",
            "318  Shawshank Redemption, The (1994)\n"
          ]
        }
      ]
    },
    {
      "cell_type": "code",
      "source": [
        "results = []\n",
        "\n",
        "for i in range(len(df_score)):\n",
        "    n_overlap = predict_one(i)\n",
        "    results.append(n_overlap)"
      ],
      "metadata": {
        "id": "sQ1ehxp4BitV"
      },
      "execution_count": 55,
      "outputs": []
    },
    {
      "cell_type": "code",
      "source": [
        "best_id = np.argmax(results)\n",
        "_ = predict_one(best_id, print_movies=True)"
      ],
      "metadata": {
        "colab": {
          "base_uri": "https://localhost:8080/"
        },
        "id": "fTRG2ytfJAE3",
        "outputId": "afb893b7-1a97-4d1c-f5cf-88d1f533c60a"
      },
      "execution_count": 56,
      "outputs": [
        {
          "output_type": "stream",
          "name": "stdout",
          "text": [
            "Below movies reviewed by user 635 were masked out:\n",
            "\n",
            "6    Heat (1995)\n",
            "10   GoldenEye (1995)\n",
            "16   Casino (1995)\n",
            "58   Postino, Il (The Postman) (1994)\n",
            "110  Braveheart (1995)\n",
            "111  Taxi Driver (1976)\n",
            "150  Apollo 13 (1995)\n",
            "161  Crimson Tide (1995)\n",
            "172  Johnny Mnemonic (1995)\n",
            "318  Shawshank Redemption, The (1994)\n",
            "329  Star Trek: Generations (1994)\n",
            "333  Tommy Boy (1995)\n",
            "357  Four Weddings and a Funeral (1994)\n",
            "381  When a Man Loves a Woman (1994)\n",
            "383  Wyatt Earp (1994)\n",
            "431  Carlito's Way (1993)\n",
            "444  Even Cowgirls Get the Blues (1993)\n",
            "475  In the Name of the Father (1993)\n",
            "480  Jurassic Park (1993)\n",
            "482  Killing Zoe (1994)\n",
            "527  Schindler's List (1993)\n",
            "532  Serial Mom (1994)\n",
            "541  Blade Runner (1982)\n",
            "573  Ciao, Professore! (Io speriamo che me la cavo ) (1993)\n",
            "583  Dear Diary (Caro Diario) (1994)\n",
            "597  Pretty Woman (1990)\n",
            "608  Fargo (1996)\n",
            "861  Supercop (1992)\n",
            "910  Some Like It Hot (1959)\n",
            "924  2001: A Space Odyssey (1968)\n",
            "948  Giant (1956)\n",
            "1097 E.T. the Extra-Terrestrial (1982)\n",
            "1148 Wrong Trousers, The (1993)\n",
            "1162 Ruling Class, The (1972)\n",
            "1185 My Left Foot (1989)\n",
            "1186 Sex, Lies, and Videotape (1989)\n",
            "1197 Princess Bride, The (1987)\n",
            "1214 Alien (1979)\n",
            "1218 Killer, The (Die xue shuang xiong) (1989)\n",
            "1220 Blues Brothers, The (1980)\n",
            "1222 Full Metal Jacket (1987)\n",
            "1230 Annie Hall (1977)\n",
            "1233 Boat, The (Das Boot) (1981)\n",
            "1256 Duck Soup (1933)\n",
            "1259 Stand by Me (1986)\n",
            "1262 Great Escape, The (1963)\n",
            "1266 Unforgiven (1992)\n",
            "1272 Patton (1970)\n",
            "1277 Cyrano de Bergerac (1990)\n",
            "1279 Night on Earth (1991)\n",
            "1297 Real Genius (1985)\n",
            "1330 April Fool's Day (1986)\n",
            "1333 Birds, The (1963)\n",
            "1350 Omen, The (1976)\n",
            "1355 Nightwatch (1997)\n",
            "1376 Star Trek IV: The Voyage Home (1986)\n",
            "1377 Batman Returns (1992)\n",
            "1378 Young Guns (1988)\n",
            "1393 Jerry Maguire (1996)\n",
            "1394 Raising Arizona (1987)\n",
            "1429 Jackie Chan's First Strike (1996)\n",
            "1479 Saint, The (1997)\n",
            "1483 Crash (1996)\n",
            "1544 Lost World: Jurassic Park, The (1997)\n",
            "1572 Contempt (Le Mépris) (1963)\n",
            "1584 Contact (1997)\n",
            "1633 Ulee's Gold (1997)\n",
            "1649 Fast, Cheap & Out of Control (1997)\n",
            "1663 Stripes (1981)\n",
            "1665 Bean (1997)\n",
            "1672 Rainmaker, The (1997)\n",
            "1673 Boogie Nights (1997)\n",
            "1694 Apostle, The (1997)\n",
            "1732 Big Lebowski, The (1998)\n",
            "1785 King of New York (1990)\n",
            "1810 Primary Colors (1998)\n",
            "1834 Spanish Prisoner, The (1997)\n",
            "1836 Last Days of Disco, The (1998)\n",
            "1845 Zero Effect (1998)\n",
            "1883 Bulworth (1998)\n",
            "1909 X-Files: Fight the Future, The (1998)\n",
            "1918 Lethal Weapon 4 (1998)\n",
            "1952 Midnight Cowboy (1969)\n",
            "1964 Klute (1971)\n",
            "1991 Child's Play (1988)\n",
            "2001 Lethal Weapon 2 (1989)\n",
            "2006 Mask of Zorro, The (1998)\n",
            "2012 Back to the Future Part III (1990)\n",
            "2020 Dangerous Liaisons (1988)\n",
            "2027 Mafia! (1998)\n",
            "2041 Condorman (1981)\n",
            "2065 Purple Rose of Cairo, The (1985)\n",
            "2072 'burbs, The (1989)\n",
            "2078 Jungle Book, The (1967)\n",
            "2080 Lady and the Tramp (1955)\n",
            "2108 L.A. Story (1991)\n",
            "2119 Maximum Overdrive (1986)\n",
            "2126 Snake Eyes (1998)\n",
            "2133 Adventures in Babysitting (1987)\n",
            "2144 Sixteen Candles (1984)\n",
            "2146 St. Elmo's Fire (1985)\n",
            "2167 Blade (1998)\n",
            "2191 Merry War, A (1997)\n",
            "2231 Rounders (1998)\n",
            "2247 Married to the Mob (1988)\n",
            "2248 Say Anything... (1989)\n",
            "2262 About Last Night... (1986)\n",
            "2266 Butcher's Wife, The (1991)\n",
            "2291 Edward Scissorhands (1990)\n",
            "2348 Sid and Nancy (1986)\n",
            "2359 Waking Ned Devine (1998)\n",
            "2372 Fletch Lives (1989)\n",
            "2378 Police Academy (1984)\n",
            "2380 Police Academy 3: Back in Training (1986)\n",
            "2383 Police Academy 6: City Under Siege (1989)\n",
            "2394 Prince of Egypt, The (1998)\n",
            "2433 Civil Action, A (1998)\n",
            "2435 Hurlyburly (1998)\n",
            "2470 Crocodile Dundee (1986)\n",
            "2472 Tough Guys (1986)\n",
            "2478 Three Amigos! (1986)\n",
            "2490 Payback (1999)\n",
            "2502 Office Space (1999)\n",
            "2511 Long Goodbye, The (1973)\n",
            "2528 Logan's Run (1976)\n",
            "2599 Election (1999)\n",
            "2696 Dinner Game, The (Le Dîner de cons) (1998)\n",
            "2699 Arachnophobia (1990)\n",
            "2712 Eyes Wide Shut (1999)\n",
            "2840 Stigmata (1999)\n",
            "2858 American Beauty (1999)\n",
            "2870 Barefoot in the Park (1967)\n",
            "2891 Happy, Texas (1999)\n",
            "2920 Children of Paradise (Les enfants du paradis) (1945)\n",
            "2948 From Russia with Love (1963)\n",
            "2949 Dr. No (1962)\n",
            "2952 Hard 8 (a.k.a. Sydney, a.k.a. Hard Eight) (1996)\n",
            "2973 Crimes and Misdemeanors (1989)\n",
            "3032 Omega Man, The (1971)\n",
            "3035 Mister Roberts (1955)\n",
            "3042 Meatballs III (1987)\n",
            "3067 Women on the Verge of a Nervous Breakdown (1988)\n",
            "3072 Moonstruck (1987)\n",
            "3083 All About My Mother (Todo Sobre Mi Madre) (1999)\n",
            "3099 Shampoo (1975)\n",
            "3108 Fisher King, The (1991)\n",
            "3114 Toy Story 2 (1999)\n",
            "3129 Sweet and Lowdown (1999)\n",
            "3221 Draughtsman's Contract, The (1982)\n",
            "3251 Agnes of God (1985)\n",
            "3253 Wayne's World (1992)\n",
            "3261 Singles (1992)\n",
            "3317 Wonder Boys (2000)\n",
            "3394 Blind Date (1987)\n",
            "3395 Nadine (1987)\n",
            "3423 School Daze (1988)\n",
            "3426 Jungle Fever (1991)\n",
            "3452 Romeo Must Die (2000)\n",
            "3512 Return to Me (2000)\n",
            "3524 Arthur (1981)\n",
            "3525 Bachelor Party (1984)\n",
            "3547 Prick Up Your Ears (1987)\n",
            "3577 Two Moon Juction (1988)\n",
            "3591 Mr. Mom (1983)\n",
            "3712 Soapdish (1991)\n",
            "3751 Chicken Run (2000)\n",
            "3836 Kelly's Heroes (1970)\n",
            "3889 Highlander: Endgame (2000)\n",
            "3925 Stranger Than Paradise (1984)\n",
            "----------------------------------------------------------------------------------------------------\n",
            "These movies were recommened:\n",
            "\n",
            "7    Sabrina (1995)\n",
            "144  Brothers McMullen, The (1995)\n",
            "208  Waterworld (1995)\n",
            "318  Shawshank Redemption, The (1994)\n",
            "480  Jurassic Park (1993)\n",
            "527  Schindler's List (1993)\n",
            "541  Blade Runner (1982)\n",
            "913  Maltese Falcon, The (1941)\n",
            "1197 Princess Bride, The (1987)\n",
            "1214 Alien (1979)\n",
            "1222 Full Metal Jacket (1987)\n",
            "1377 Batman Returns (1992)\n",
            "1394 Raising Arizona (1987)\n",
            "1982 Halloween (1978)\n",
            "2144 Sixteen Candles (1984)\n",
            "2858 American Beauty (1999)\n",
            "2871 Deliverance (1972)\n",
            "3114 Toy Story 2 (1999)\n",
            "3489 Hook (1991)\n",
            "3868 Naked Gun: From the Files of Police Squad!, The (1988)\n",
            "----------------------------------------------------------------------------------------------------\n",
            "Overlapping ones:\n",
            "\n",
            "318  Shawshank Redemption, The (1994)\n",
            "480  Jurassic Park (1993)\n",
            "1377 Batman Returns (1992)\n",
            "2144 Sixteen Candles (1984)\n",
            "1222 Full Metal Jacket (1987)\n",
            "2858 American Beauty (1999)\n",
            "3114 Toy Story 2 (1999)\n",
            "1197 Princess Bride, The (1987)\n",
            "527  Schindler's List (1993)\n",
            "1394 Raising Arizona (1987)\n",
            "541  Blade Runner (1982)\n",
            "1214 Alien (1979)\n"
          ]
        }
      ]
    },
    {
      "cell_type": "code",
      "source": [
        "_ = predict_one(36, print_movies=True)"
      ],
      "metadata": {
        "colab": {
          "base_uri": "https://localhost:8080/"
        },
        "id": "zNckAeycJIFF",
        "outputId": "d8f6912a-4cfb-4d0d-a3ea-c28574847096"
      },
      "execution_count": 57,
      "outputs": [
        {
          "output_type": "stream",
          "name": "stdout",
          "text": [
            "Below movies reviewed by user 36 were masked out:\n",
            "\n",
            "1    Toy Story (1995)\n",
            "25   Leaving Las Vegas (1995)\n",
            "150  Apollo 13 (1995)\n",
            "296  Pulp Fiction (1994)\n",
            "457  Fugitive, The (1993)\n",
            "509  Piano, The (1993)\n",
            "597  Pretty Woman (1990)\n",
            "916  Roman Holiday (1953)\n",
            "1702 Flubber (1997)\n",
            "1721 Titanic (1997)\n",
            "2153 Avengers, The (1998)\n",
            "2171 Next Stop, Wonderland (1998)\n",
            "2355 Bug's Life, A (1998)\n",
            "2628 Star Wars: Episode I - The Phantom Menace (1999)\n",
            "2762 Sixth Sense, The (1999)\n",
            "2943 Indochine (1992)\n",
            "2987 Who Framed Roger Rabbit? (1988)\n",
            "3101 Fatal Attraction (1987)\n",
            "3125 End of the Affair, The (1999)\n",
            "3163 Topsy-Turvy (1999)\n",
            "3614 Honeymoon in Vegas (1992)\n",
            "----------------------------------------------------------------------------------------------------\n",
            "These movies were recommened:\n",
            "\n",
            "110  Braveheart (1995)\n",
            "111  Taxi Driver (1976)\n",
            "590  Dances with Wolves (1990)\n",
            "608  Fargo (1996)\n",
            "858  Godfather, The (1972)\n",
            "1198 Raiders of the Lost Ark (1981)\n",
            "1200 Aliens (1986)\n",
            "1214 Alien (1979)\n",
            "1259 Stand by Me (1986)\n",
            "1265 Groundhog Day (1993)\n",
            "1291 Indiana Jones and the Last Crusade (1989)\n",
            "1387 Jaws (1975)\n",
            "1580 Men in Black (1997)\n",
            "1968 Breakfast Club, The (1985)\n",
            "2762 Sixth Sense, The (1999)\n",
            "2918 Ferris Bueller's Day Off (1986)\n",
            "2947 Goldfinger (1964)\n",
            "2959 Fight Club (1999)\n",
            "3793 X-Men (2000)\n",
            "3897 Almost Famous (2000)\n",
            "----------------------------------------------------------------------------------------------------\n",
            "Overlapping ones:\n",
            "\n",
            "2762 Sixth Sense, The (1999)\n"
          ]
        }
      ]
    },
    {
      "cell_type": "code",
      "source": [
        "_ = predict_one(1000, print_movies=True)"
      ],
      "metadata": {
        "colab": {
          "base_uri": "https://localhost:8080/"
        },
        "id": "qWDwPr4F-U2l",
        "outputId": "2023c7b3-2473-4ca1-c1a3-5b4a44d9c2f5"
      },
      "execution_count": 58,
      "outputs": [
        {
          "output_type": "stream",
          "name": "stdout",
          "text": [
            "Below movies reviewed by user 1000 were masked out:\n",
            "\n",
            "6    Heat (1995)\n",
            "16   Casino (1995)\n",
            "47   Seven (Se7en) (1995)\n",
            "111  Taxi Driver (1976)\n",
            "123  Chungking Express (1994)\n",
            "426  Body Snatchers (1993)\n",
            "492  Manhattan Murder Mystery (1993)\n",
            "608  Fargo (1996)\n",
            "919  Wizard of Oz, The (1939)\n",
            "999  2 Days in the Valley (1996)\n",
            "1086 Dial M for Murder (1954)\n",
            "1210 Star Wars: Episode VI - Return of the Jedi (1983)\n",
            "1214 Alien (1979)\n",
            "1240 Terminator, The (1984)\n",
            "1252 Chinatown (1974)\n",
            "1343 Cape Fear (1991)\n",
            "1358 Sling Blade (1996)\n",
            "1499 Anaconda (1997)\n",
            "1519 Broken English (1996)\n",
            "1544 Lost World: Jurassic Park, The (1997)\n",
            "1653 Gattaca (1997)\n",
            "1711 Midnight in the Garden of Good and Evil (1997)\n",
            "1760 Spice World (1997)\n",
            "1913 Picnic at Hanging Rock (1975)\n",
            "1950 In the Heat of the Night (1967)\n",
            "2162 NeverEnding Story II: The Next Chapter, The (1990)\n",
            "2181 Marnie (1964)\n",
            "2284 Bandit Queen (1994)\n",
            "2349 Mona Lisa (1986)\n",
            "2405 Jewel of the Nile, The (1985)\n",
            "2551 Dead Ringers (1988)\n",
            "2791 Airplane! (1980)\n",
            "2802 Tequila Sunrise (1988)\n",
            "2803 Pelican Brief, The (1993)\n",
            "2875 Sommersby (1993)\n",
            "2912 Limey, The (1999)\n",
            "2917 Body Heat (1981)\n",
            "2950 Blue Lagoon, The (1980)\n",
            "2959 Fight Club (1999)\n",
            "2989 For Your Eyes Only (1981)\n",
            "3168 Easy Rider (1969)\n",
            "3206 Against All Odds (1984)\n",
            "3219 Pacific Heights (1990)\n",
            "3503 Solaris (Solyaris) (1972)\n",
            "3529 Postman Always Rings Twice, The (1981)\n",
            "3545 Cabaret (1972)\n",
            "----------------------------------------------------------------------------------------------------\n",
            "These movies were recommened:\n",
            "\n",
            "32   Twelve Monkeys (1995)\n",
            "34   Babe (1995)\n",
            "110  Braveheart (1995)\n",
            "356  Forrest Gump (1994)\n",
            "527  Schindler's List (1993)\n",
            "648  Mission: Impossible (1996)\n",
            "1097 E.T. the Extra-Terrestrial (1982)\n",
            "1196 Star Wars: Episode V - The Empire Strikes Back (1980)\n",
            "1197 Princess Bride, The (1987)\n",
            "1210 Star Wars: Episode VI - Return of the Jedi (1983)\n",
            "1214 Alien (1979)\n",
            "1247 Graduate, The (1967)\n",
            "1307 When Harry Met Sally... (1989)\n",
            "2599 Election (1999)\n",
            "2628 Star Wars: Episode I - The Phantom Menace (1999)\n",
            "2716 Ghostbusters (1984)\n",
            "3175 Galaxy Quest (1999)\n",
            "3408 Erin Brockovich (2000)\n",
            "3513 Rules of Engagement (2000)\n",
            "3793 X-Men (2000)\n",
            "----------------------------------------------------------------------------------------------------\n",
            "Overlapping ones:\n",
            "\n",
            "1210 Star Wars: Episode VI - Return of the Jedi (1983)\n",
            "1214 Alien (1979)\n"
          ]
        }
      ]
    },
    {
      "cell_type": "code",
      "source": [
        ""
      ],
      "metadata": {
        "id": "OY1n9CQ8tYJZ"
      },
      "execution_count": 58,
      "outputs": []
    }
  ]
}
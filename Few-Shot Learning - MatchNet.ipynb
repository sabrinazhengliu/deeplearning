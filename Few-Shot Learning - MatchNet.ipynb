{
  "nbformat": 4,
  "nbformat_minor": 0,
  "metadata": {
    "colab": {
      "name": "Few-Shot Learning - Part 1.ipynb",
      "provenance": [],
      "collapsed_sections": [],
      "machine_shape": "hm",
      "background_execution": "on"
    },
    "kernelspec": {
      "name": "python3",
      "display_name": "Python 3"
    },
    "language_info": {
      "name": "python"
    },
    "accelerator": "GPU"
  },
  "cells": [
    {
      "cell_type": "markdown",
      "source": [
        "# APPM 4720 Applied Deep Learning, Spring 2022\n",
        "## Progress Report 06 - Few-Shot Learning\n",
        "### Matching Networks for One Shot Learning\n",
        "### By Sabrina Liu\n",
        "\n",
        "Examined and implemented the **Few-Shot Learning** algorithm as described in 2016 Google DeepMind paper *Matching Networks for One Shot Learning* in Keras. Trained the model on `omniglot` dataset and achived some preliminary results.  \n",
        "\n",
        "#### References:\n",
        "* Paper: Vinyals, et.al., *Matching Networks for One Shot Learning*, https://arxiv.org/pdf/1606.04080\n",
        "* Dataset: https://www.kaggle.com/datasets/watesoyan/omniglot\n",
        "* Tutorial: https://github.com/AntreasAntoniou/MatchingNetworks\n",
        "\n",
        "The above tutorial implemented the framework in tensorflow v1. This report re-implemented the algorithm in Keras API. "
      ],
      "metadata": {
        "id": "X34FdT1gqqsG"
      }
    },
    {
      "cell_type": "markdown",
      "source": [
        "---\n",
        "## Set Up Environment"
      ],
      "metadata": {
        "id": "AIzslIolrV1J"
      }
    },
    {
      "cell_type": "markdown",
      "source": [
        "#### Mount Google Drive"
      ],
      "metadata": {
        "id": "d7ZDCwcArXjk"
      }
    },
    {
      "cell_type": "code",
      "source": [
        "from google.colab import drive\n",
        "drive.mount('/content/drive', force_remount=False)"
      ],
      "metadata": {
        "colab": {
          "base_uri": "https://localhost:8080/"
        },
        "id": "RvLougJCrZX_",
        "outputId": "793f0257-7727-4f50-c4e6-77e0f814db26"
      },
      "execution_count": 1,
      "outputs": [
        {
          "output_type": "stream",
          "name": "stdout",
          "text": [
            "Drive already mounted at /content/drive; to attempt to forcibly remount, call drive.mount(\"/content/drive\", force_remount=True).\n"
          ]
        }
      ]
    },
    {
      "cell_type": "code",
      "source": [
        "%cd '/content/drive/MyDrive/ADL/FewShot'\n",
        "!dir"
      ],
      "metadata": {
        "colab": {
          "base_uri": "https://localhost:8080/"
        },
        "id": "kSVlyoq3rbZr",
        "outputId": "79eaa408-238a-466e-ec1b-e4126f1ced92"
      },
      "execution_count": 2,
      "outputs": [
        {
          "output_type": "stream",
          "name": "stdout",
          "text": [
            "/content/drive/MyDrive/ADL/FewShot\n",
            "data  images  models\n"
          ]
        }
      ]
    },
    {
      "cell_type": "code",
      "execution_count": 3,
      "metadata": {
        "colab": {
          "base_uri": "https://localhost:8080/",
          "height": 35
        },
        "id": "iQ4KcWNAqTUv",
        "outputId": "988436b6-1277-4b56-fbc7-d1394fc8e812"
      },
      "outputs": [
        {
          "output_type": "execute_result",
          "data": {
            "text/plain": [
              "'2.8.0'"
            ],
            "application/vnd.google.colaboratory.intrinsic+json": {
              "type": "string"
            }
          },
          "metadata": {},
          "execution_count": 3
        }
      ],
      "source": [
        "import tensorflow as tf\n",
        "tf.__version__"
      ]
    },
    {
      "cell_type": "code",
      "source": [
        "gpus = tf.config.list_physical_devices('GPU')\n",
        "for gpu in gpus:\n",
        "    tf.config.experimental.set_memory_growth(gpu, True)"
      ],
      "metadata": {
        "id": "A4Xc3QJ_rNCX"
      },
      "execution_count": 4,
      "outputs": []
    },
    {
      "cell_type": "code",
      "source": [
        "gpu_info = !nvidia-smi\n",
        "gpu_info = '\\n'.join(gpu_info)\n",
        "if gpu_info.find('failed') >= 0:\n",
        "    print('Not connected to a GPU')\n",
        "else:\n",
        "    print(gpu_info)"
      ],
      "metadata": {
        "colab": {
          "base_uri": "https://localhost:8080/"
        },
        "id": "-O2nXkZir1OS",
        "outputId": "c9215674-6ba2-4d66-d21a-e88899cefe97"
      },
      "execution_count": 5,
      "outputs": [
        {
          "output_type": "stream",
          "name": "stdout",
          "text": [
            "Wed Apr 13 01:09:33 2022       \n",
            "+-----------------------------------------------------------------------------+\n",
            "| NVIDIA-SMI 460.32.03    Driver Version: 460.32.03    CUDA Version: 11.2     |\n",
            "|-------------------------------+----------------------+----------------------+\n",
            "| GPU  Name        Persistence-M| Bus-Id        Disp.A | Volatile Uncorr. ECC |\n",
            "| Fan  Temp  Perf  Pwr:Usage/Cap|         Memory-Usage | GPU-Util  Compute M. |\n",
            "|                               |                      |               MIG M. |\n",
            "|===============================+======================+======================|\n",
            "|   0  Tesla V100-SXM2...  Off  | 00000000:00:04.0 Off |                    0 |\n",
            "| N/A   34C    P0    24W / 300W |      2MiB / 16160MiB |      0%      Default |\n",
            "|                               |                      |                  N/A |\n",
            "+-------------------------------+----------------------+----------------------+\n",
            "                                                                               \n",
            "+-----------------------------------------------------------------------------+\n",
            "| Processes:                                                                  |\n",
            "|  GPU   GI   CI        PID   Type   Process name                  GPU Memory |\n",
            "|        ID   ID                                                   Usage      |\n",
            "|=============================================================================|\n",
            "|  No running processes found                                                 |\n",
            "+-----------------------------------------------------------------------------+\n"
          ]
        }
      ]
    },
    {
      "cell_type": "markdown",
      "source": [
        "---\n",
        "## Architecture Review\n",
        "\n",
        "One limitation of traditional supervised deep learning methods used for classification is that it doesn't work on new classes that was unknown in the training. The concept of few-shot learning treats the classification task as a clustering problem, and it requires a support set that includes the class of the classification target, e.g. an image to classifiy. "
      ],
      "metadata": {
        "id": "XHPp1JpFsBpd"
      }
    },
    {
      "cell_type": "markdown",
      "source": [
        "#### Matching Nets\n",
        "\n",
        "The solution is named **Matching Nets** based on a simple principle: train and test conditions must match. During training, only a few examples are shown per class. The architecture is unchanged at test time, and the neural network is able to produce classification labels with only a few examples for each class (support set). The number of classes available in the support set is the *way* (below referenced as 'k-way'), and the number of examples present in each class is the *shot* (below refereneced as 'k-shot'). "
      ],
      "metadata": {
        "id": "2Fi73iYswgtN"
      }
    },
    {
      "cell_type": "markdown",
      "source": [
        "#### Attention Kernel\n",
        "\n",
        "The prediction of a class label is modeled as a **weighted sum** of all the avalaible labels in the support set in their one-hot form. \n",
        "$$ \\hat{y} = \\sum_{i=1}^k a(\\hat{x}, x_i) y_i $$\n",
        "The weight $a$ is cosine similarity between the image embeddings (of the target image and the support set images) normalized by softmax function:\n",
        "$$ a = \\frac{e^{c(f(\\hat{x}), g(x_i))}}{\\sum_{j=1}^k e^{c(f(\\hat{x}), g(x_j))}}  $$\n",
        "The weighted sum can be treated as a attention mechanism. Since higher cosine similarity score correspond to closer distance in the vector space, the classification method is analogous to a **weighted nearest neighour clustering** algorithm.  "
      ],
      "metadata": {
        "id": "26cLCekHxQqK"
      }
    },
    {
      "cell_type": "markdown",
      "source": [
        "#### Full Context Embeddings\n",
        "\n",
        "The main novelty of this architecture is the usage of LSTM layers to encode the inter-class context information of image embeddings from a CNN feature extractor like the Inception model. The support set $S$ is first passed into the CNN, then passed into a bidirectional LSTM mechanism $g$ to produce image embeddings. So each element of the support set $x_i$ is embedded as $g(x_i, S)$. To obtain the similarity of the target image $\\hat{x}$ (to be classified) to the support set, the target image is first passed through the CNN which results in feature map $f^\\prime$, then passed into attention LSTM mechanism (first LSTM layer, then attention is calculated with support set embeddings $g$) with $K$ rolling steps. \n",
        "\n",
        "$$ f(\\hat{x},S) = \\text{attLSTM}(f^\\prime(\\hat{x}), g(S), K) $$"
      ],
      "metadata": {
        "id": "Q_5B_v1XxYnM"
      }
    },
    {
      "cell_type": "markdown",
      "source": [
        "#### Similarity Score and Classification\n",
        "\n",
        "The final classification decision is made based on the cosine similarity score between image embeddings produced from above layers, applied with softmax and producing the most likely label from the given classes. The final loss calculated is categorical cross-entropy loss between softmax logits and true one-hot labels. "
      ],
      "metadata": {
        "id": "PA0hSSGK0-Tw"
      }
    },
    {
      "cell_type": "markdown",
      "source": [
        "---\n",
        "## The Omniglot Dataset\n",
        "\n",
        "As shown below from the tensorflow built-in dataset information, the dataset contains a total of 50 different languages, including 1623 different characters (classes) , and each character comes with 20 examples in grayscale images of resolution (105, 105). See detailed preview below. \n",
        "\n",
        "* https://www.kaggle.com/datasets/watesoyan/omniglot\n",
        "* https://www.tensorflow.org/datasets/catalog/omniglot\n",
        "* https://github.com/brendenlake/omniglot/"
      ],
      "metadata": {
        "id": "EKeHMZnUsJ6V"
      }
    },
    {
      "cell_type": "code",
      "source": [
        "import tensorflow_datasets as tfds\n",
        "\n",
        "_, info = tfds.load('omniglot', with_info=True, shuffle_files=False)\n",
        "info"
      ],
      "metadata": {
        "colab": {
          "base_uri": "https://localhost:8080/"
        },
        "id": "Llqkd6KrPMaW",
        "outputId": "99587912-db5b-4223-b7ca-6d72b2536eee"
      },
      "execution_count": 6,
      "outputs": [
        {
          "output_type": "execute_result",
          "data": {
            "text/plain": [
              "tfds.core.DatasetInfo(\n",
              "    name='omniglot',\n",
              "    version=3.0.0,\n",
              "    description='Omniglot data set for one-shot learning. This dataset contains 1623 different\n",
              "handwritten characters from 50 different alphabets.',\n",
              "    homepage='https://github.com/brendenlake/omniglot/',\n",
              "    features=FeaturesDict({\n",
              "        'alphabet': ClassLabel(shape=(), dtype=tf.int64, num_classes=50),\n",
              "        'alphabet_char_id': tf.int64,\n",
              "        'image': Image(shape=(105, 105, 3), dtype=tf.uint8),\n",
              "        'label': ClassLabel(shape=(), dtype=tf.int64, num_classes=1623),\n",
              "    }),\n",
              "    total_num_examples=38300,\n",
              "    splits={\n",
              "        'small1': 2720,\n",
              "        'small2': 3120,\n",
              "        'test': 13180,\n",
              "        'train': 19280,\n",
              "    },\n",
              "    supervised_keys=('image', 'label'),\n",
              "    citation=\"\"\"@article{lake2015human,\n",
              "      title={Human-level concept learning through probabilistic program induction},\n",
              "      author={Lake, Brenden M and Salakhutdinov, Ruslan and Tenenbaum, Joshua B},\n",
              "      journal={Science},\n",
              "      volume={350},\n",
              "      number={6266},\n",
              "      pages={1332--1338},\n",
              "      year={2015},\n",
              "      publisher={American Association for the Advancement of Science}\n",
              "    }\"\"\",\n",
              "    redistribution_info=,\n",
              ")"
            ]
          },
          "metadata": {},
          "execution_count": 6
        }
      ]
    },
    {
      "cell_type": "markdown",
      "source": [
        "#### Preview the Images\n",
        "\n",
        "Below lists out the train-validation split of language types. The training set includes 30 languages, 964 characters, 19280 data points. The validation set includes 20 languages, 659 characters, 13180 data points. The classes in the validation set are not present in the training set since they are distinctly different languages. In below preview, 3 languages are chosen from the training set, with 15 characters from each language, and 3 examples from each character for display. "
      ],
      "metadata": {
        "id": "9Bar9dHStObq"
      }
    },
    {
      "cell_type": "code",
      "source": [
        "import os\n",
        "from PIL import Image\n",
        "import numpy as np\n",
        "import matplotlib.pyplot as plt"
      ],
      "metadata": {
        "id": "kWoNWBCMtPDr"
      },
      "execution_count": 7,
      "outputs": []
    },
    {
      "cell_type": "code",
      "source": [
        "dataset = 'omniglot'\n",
        "train_dir = f'./data/{dataset}/train'\n",
        "valid_dir = f'./data/{dataset}/valid'\n",
        "\n",
        "print('Languages for Training:', len(os.listdir(train_dir)))\n",
        "print('-' * 50)\n",
        "sorted(os.listdir(train_dir))"
      ],
      "metadata": {
        "colab": {
          "base_uri": "https://localhost:8080/"
        },
        "id": "1DxmF6WRgIM1",
        "outputId": "1e3b49f7-db60-4d4c-f474-0d0eab7f0f9e"
      },
      "execution_count": 8,
      "outputs": [
        {
          "output_type": "stream",
          "name": "stdout",
          "text": [
            "Languages for Training: 30\n",
            "--------------------------------------------------\n"
          ]
        },
        {
          "output_type": "execute_result",
          "data": {
            "text/plain": [
              "['Alphabet_of_the_Magi',\n",
              " 'Anglo-Saxon_Futhorc',\n",
              " 'Arcadian',\n",
              " 'Armenian',\n",
              " 'Asomtavruli_(Georgian)',\n",
              " 'Balinese',\n",
              " 'Bengali',\n",
              " 'Blackfoot_(Canadian_Aboriginal_Syllabics)',\n",
              " 'Braille',\n",
              " 'Burmese_(Myanmar)',\n",
              " 'Cyrillic',\n",
              " 'Early_Aramaic',\n",
              " 'Futurama',\n",
              " 'Grantha',\n",
              " 'Greek',\n",
              " 'Gujarati',\n",
              " 'Hebrew',\n",
              " 'Inuktitut_(Canadian_Aboriginal_Syllabics)',\n",
              " 'Japanese_(hiragana)',\n",
              " 'Japanese_(katakana)',\n",
              " 'Korean',\n",
              " 'Latin',\n",
              " 'Malay_(Jawi_-_Arabic)',\n",
              " 'Mkhedruli_(Georgian)',\n",
              " 'N_Ko',\n",
              " 'Ojibwe_(Canadian_Aboriginal_Syllabics)',\n",
              " 'Sanskrit',\n",
              " 'Syriac_(Estrangelo)',\n",
              " 'Tagalog',\n",
              " 'Tifinagh']"
            ]
          },
          "metadata": {},
          "execution_count": 8
        }
      ]
    },
    {
      "cell_type": "code",
      "source": [
        "print('Languages for Testing:')\n",
        "print('-' * 50)\n",
        "sorted(os.listdir(valid_dir))"
      ],
      "metadata": {
        "colab": {
          "base_uri": "https://localhost:8080/"
        },
        "id": "vEyd9jmTQOKI",
        "outputId": "3ec05c83-1c11-45d0-ac6c-c24d4ca85123"
      },
      "execution_count": 9,
      "outputs": [
        {
          "output_type": "stream",
          "name": "stdout",
          "text": [
            "Languages for Testing:\n",
            "--------------------------------------------------\n"
          ]
        },
        {
          "output_type": "execute_result",
          "data": {
            "text/plain": [
              "['Angelic',\n",
              " 'Atemayar_Qelisayer',\n",
              " 'Atlantean',\n",
              " 'Aurek-Besh',\n",
              " 'Avesta',\n",
              " 'Ge_ez',\n",
              " 'Glagolitic',\n",
              " 'Gurmukhi',\n",
              " 'Kannada',\n",
              " 'Keble',\n",
              " 'Malayalam',\n",
              " 'Manipuri',\n",
              " 'Mongolian',\n",
              " 'Old_Church_Slavonic_(Cyrillic)',\n",
              " 'Oriya',\n",
              " 'Sylheti',\n",
              " 'Syriac_(Serto)',\n",
              " 'Tengwar',\n",
              " 'Tibetan',\n",
              " 'ULOG']"
            ]
          },
          "metadata": {},
          "execution_count": 9
        }
      ]
    },
    {
      "cell_type": "code",
      "source": [
        "%%time\n",
        "\n",
        "N_CLASSES = 15\n",
        "N_SAMPLES = 3\n",
        "\n",
        "def show_examples(lang):\n",
        "    fig, axes = plt.subplots(N_SAMPLES, N_CLASSES, figsize=(N_CLASSES+1, N_SAMPLES+1))\n",
        "    fig.suptitle(lang.title(), fontsize=15)\n",
        "    lang_dir = os.path.join(train_dir, lang)\n",
        "    for i, char in enumerate(sorted(os.listdir(lang_dir))[:N_CLASSES]):\n",
        "        char_dir = os.path.join(lang_dir, char)\n",
        "        for j, sample in enumerate(sorted(os.listdir(char_dir))[:N_SAMPLES]):\n",
        "            img = np.array(Image.open(os.path.join(char_dir, sample)))\n",
        "            axes[j, i].set(title=sample.replace('.png', ''))\n",
        "            axes[j, i].imshow(img, cmap='gray')\n",
        "            axes[j, i].axis('off')\n",
        "\n",
        "for lang in ['Greek', 'Hebrew', 'Sanskrit']:\n",
        "    show_examples(lang)"
      ],
      "metadata": {
        "colab": {
          "base_uri": "https://localhost:8080/",
          "height": 811
        },
        "id": "RUiRkYBQfWLG",
        "outputId": "a6b4cc10-48b6-4d69-ce79-dcd165a75586"
      },
      "execution_count": 10,
      "outputs": [
        {
          "output_type": "stream",
          "name": "stdout",
          "text": [
            "CPU times: user 2.38 s, sys: 104 ms, total: 2.48 s\n",
            "Wall time: 2.57 s\n"
          ]
        },
        {
          "output_type": "display_data",
          "data": {
            "text/plain": [
              "<Figure size 1152x288 with 45 Axes>"
            ],
            "image/png": "[encoded data removed]"
          },
          "metadata": {
            "needs_background": "light"
          }
        },
        {
          "output_type": "display_data",
          "data": {
            "text/plain": [
              "<Figure size 1152x288 with 45 Axes>"
            ],
            "image/png": "[encoded data removed]"
          },
          "metadata": {
            "needs_background": "light"
          }
        },
        {
          "output_type": "display_data",
          "data": {
            "text/plain": [
              "<Figure size 1152x288 with 45 Axes>"
            ],
            "image/png": "[encoded data removed]"
          },
          "metadata": {
            "needs_background": "light"
          }
        }
      ]
    },
    {
      "cell_type": "markdown",
      "source": [
        "#### Load the Images into Arrays\n",
        "\n",
        "The source data are available in embedded directories. Below scripts copy all the classes into the same level directory for tensorflow to load. This only needs to be run once. "
      ],
      "metadata": {
        "id": "ayHh_XYLtSj9"
      }
    },
    {
      "cell_type": "code",
      "source": [
        "import shutil"
      ],
      "metadata": {
        "id": "C3wND7KUdsdx"
      },
      "execution_count": 11,
      "outputs": []
    },
    {
      "cell_type": "code",
      "source": [
        "%%time\n",
        "\n",
        "train_dir_all = train_dir + '_all'\n",
        "valid_dir_all = valid_dir + '_all'\n",
        "\n",
        "def combine_classes(source_dir, target_dir):\n",
        "    if not os.path.exists(target_dir):\n",
        "        os.mkdir(target_dir)\n",
        "        for lang in os.listdir(source_dir):\n",
        "            lang_dir = os.path.join(source_dir, lang)\n",
        "            for char in os.listdir(lang_dir):\n",
        "                char_dir = os.path.join(lang_dir, char)\n",
        "                class_name = f\"{lang}_{char}\"\n",
        "                new_dir = os.path.join(target_dir, class_name)\n",
        "                try:\n",
        "                    shutil.copytree(char_dir, new_dir)\n",
        "                except Exception:\n",
        "                    pass\n",
        "\n",
        "combine_classes(train_dir, train_dir_all)\n",
        "combine_classes(valid_dir, valid_dir_all)"
      ],
      "metadata": {
        "id": "QQD-5EpAPTjM",
        "colab": {
          "base_uri": "https://localhost:8080/"
        },
        "outputId": "e3a3bdfc-dbf2-4e35-fbca-455011c74c7a"
      },
      "execution_count": 12,
      "outputs": [
        {
          "output_type": "stream",
          "name": "stdout",
          "text": [
            "CPU times: user 0 ns, sys: 136 µs, total: 136 µs\n",
            "Wall time: 838 µs\n"
          ]
        }
      ]
    },
    {
      "cell_type": "code",
      "source": [
        "IMAGE_SIZE = (105, 105)\n",
        "BATCH_SIZE = 64"
      ],
      "metadata": {
        "id": "MVw2enHZtNr3"
      },
      "execution_count": 13,
      "outputs": []
    },
    {
      "cell_type": "code",
      "source": [
        "from tensorflow.keras.preprocessing import image_dataset_from_directory\n",
        "from functools import partial"
      ],
      "metadata": {
        "id": "sr_jiWvfZHrp"
      },
      "execution_count": 14,
      "outputs": []
    },
    {
      "cell_type": "code",
      "source": [
        "%%time\n",
        "\n",
        "load_data = partial(\n",
        "    image_dataset_from_directory,\n",
        "    labels='inferred',\n",
        "    image_size=IMAGE_SIZE,\n",
        "    batch_size=None,             # do not create batches\n",
        "    validation_split=None,       # do not split\n",
        "    color_mode='grayscale',\n",
        "    label_mode='int',\n",
        "    shuffle=True,\n",
        "    crop_to_aspect_ratio=True,   # do not distort image\n",
        ")\n",
        "\n",
        "ds_train = load_data(directory=train_dir_all)\n",
        "ds_valid = load_data(directory=valid_dir_all)"
      ],
      "metadata": {
        "colab": {
          "base_uri": "https://localhost:8080/"
        },
        "id": "OyCvmkjhalDL",
        "outputId": "4e54d783-6371-4ca5-c67e-d13639d656f2"
      },
      "execution_count": 15,
      "outputs": [
        {
          "output_type": "stream",
          "name": "stdout",
          "text": [
            "Found 19280 files belonging to 964 classes.\n",
            "Found 13180 files belonging to 659 classes.\n",
            "CPU times: user 3.2 s, sys: 1.6 s, total: 4.8 s\n",
            "Wall time: 3.32 s\n"
          ]
        }
      ]
    },
    {
      "cell_type": "code",
      "source": [
        "len(ds_train)"
      ],
      "metadata": {
        "id": "Wjcq1LP8Zqb2",
        "colab": {
          "base_uri": "https://localhost:8080/"
        },
        "outputId": "886ec77d-a905-44dd-a29b-c43190c6732f"
      },
      "execution_count": 16,
      "outputs": [
        {
          "output_type": "execute_result",
          "data": {
            "text/plain": [
              "19280"
            ]
          },
          "metadata": {},
          "execution_count": 16
        }
      ]
    },
    {
      "cell_type": "markdown",
      "source": [
        "---\n",
        "## Preprocessing"
      ],
      "metadata": {
        "id": "zRzNLRKakHcq"
      }
    },
    {
      "cell_type": "markdown",
      "source": [
        "#### Image Scaling\n",
        "\n",
        "For both training and testing, we scale the image data from [0, 255] to [0, 1].  "
      ],
      "metadata": {
        "id": "4i-PSd8zFD3g"
      }
    },
    {
      "cell_type": "code",
      "source": [
        "for x, y in ds_train.take(1):\n",
        "    print(x.shape, y.numpy(), tf.reduce_min(x).numpy(), tf.reduce_max(x).numpy())"
      ],
      "metadata": {
        "colab": {
          "base_uri": "https://localhost:8080/"
        },
        "id": "jlbAEhYeL069",
        "outputId": "efcdc09e-e48f-42bc-b23e-c51e86606daf"
      },
      "execution_count": 17,
      "outputs": [
        {
          "output_type": "stream",
          "name": "stdout",
          "text": [
            "(105, 105, 1) 359 0.0 255.0\n"
          ]
        }
      ]
    },
    {
      "cell_type": "code",
      "source": [
        "def scale_image(image, label):              # [0, 255] => [0, 1]\n",
        "    return image / 255., label\n",
        "\n",
        "ds_train_scale = ds_train.map(scale_image)\n",
        "ds_valid_scale = ds_valid.map(scale_image)\n",
        "\n",
        "for x, y in ds_train_scale.take(1):\n",
        "    print(x.shape, y.numpy(), tf.reduce_min(x).numpy(), tf.reduce_max(x).numpy())"
      ],
      "metadata": {
        "colab": {
          "base_uri": "https://localhost:8080/"
        },
        "id": "PQcz4YHYkC9e",
        "outputId": "993db091-c781-4e1f-a03b-62f290e40344"
      },
      "execution_count": 18,
      "outputs": [
        {
          "output_type": "stream",
          "name": "stdout",
          "text": [
            "(105, 105, 1) 831 0.0 1.0\n"
          ]
        }
      ]
    },
    {
      "cell_type": "markdown",
      "source": [
        "#### Get Target Images and Labels\n",
        "\n",
        "For data engineering, we convert the target images and labels into numpy and save it locally for later use. "
      ],
      "metadata": {
        "id": "c3-_a7rXMBeq"
      }
    },
    {
      "cell_type": "code",
      "source": [
        "%%time\n",
        "\n",
        "import pickle\n",
        "\n",
        "def get_numpy(dataset, split):\n",
        "    pickle_dir = f'./data/omniglot/numpy'\n",
        "    if not os.path.exists(pickle_dir):\n",
        "        os.mkdir(pickle_dir)\n",
        "    pickle_file = os.path.join(pickle_dir, f'{split}.pkl')\n",
        "    if os.path.exists(pickle_file):\n",
        "        print(\"Loading pickle file ...\")\n",
        "        with open(pickle_file, 'rb') as f:\n",
        "            data = pickle.load(f)\n",
        "    else:\n",
        "        data = list(dataset.as_numpy_iterator())\n",
        "        print(\"Saving pickle file ...\")\n",
        "        with open(pickle_file, 'wb') as f:\n",
        "            pickle.dump(data, f)\n",
        "    return data\n",
        "\n",
        "ds_train_numpy = get_numpy(ds_train_scale, 'train')\n",
        "ds_valid_numpy = get_numpy(ds_valid_scale, 'valid')\n",
        "\n",
        "print(len(ds_train_numpy), len(ds_valid_numpy))"
      ],
      "metadata": {
        "colab": {
          "base_uri": "https://localhost:8080/"
        },
        "id": "PhQVuw68weX0",
        "outputId": "baa61d26-93a3-43e6-87e3-00be16c25aba"
      },
      "execution_count": 19,
      "outputs": [
        {
          "output_type": "stream",
          "name": "stdout",
          "text": [
            "Loading pickle file ...\n",
            "Loading pickle file ...\n",
            "19280 13180\n",
            "CPU times: user 361 ms, sys: 1.33 s, total: 1.7 s\n",
            "Wall time: 1.78 s\n"
          ]
        }
      ]
    },
    {
      "cell_type": "code",
      "source": [
        "xt_train = [x for x, _ in ds_train_numpy]\n",
        "yt_train = [y for _, y in ds_train_numpy]\n",
        "\n",
        "xt_valid = [x for x, _ in ds_valid_numpy]\n",
        "yt_valid = [y for _, y in ds_valid_numpy]\n",
        "\n",
        "len(xt_train), len(yt_train), len(xt_valid), len(yt_valid)"
      ],
      "metadata": {
        "colab": {
          "base_uri": "https://localhost:8080/"
        },
        "id": "VBaCIQBdLrOw",
        "outputId": "f6863b40-0f63-4b0f-9acd-2e75c079eefa"
      },
      "execution_count": 20,
      "outputs": [
        {
          "output_type": "execute_result",
          "data": {
            "text/plain": [
              "(19280, 19280, 13180, 13180)"
            ]
          },
          "metadata": {},
          "execution_count": 20
        }
      ]
    },
    {
      "cell_type": "markdown",
      "source": [
        "#### Get Support Images and Labels\n",
        "\n",
        "Below process creates the corresponding k-way k-shot support set as part of the training data. The support set needs to include the class that the target image belongs to and k-way - 1 different classes. By default, we will use 5-way support sets with 1 to 5 shots. "
      ],
      "metadata": {
        "id": "pvvMzfy0QSNm"
      }
    },
    {
      "cell_type": "code",
      "source": [
        "%time\n",
        "\n",
        "def create_support_set(xt, yt, target_label, k_way=5, k_shot=1):   \n",
        "\n",
        "    sample_labels = [target_label]\n",
        "    # populate k-way labels\n",
        "    while len(sample_labels) < k_way:\n",
        "        next_label = np.random.randint(len(set(yt)))    # train: 964, valid: 659\n",
        "        if next_label not in sample_labels:\n",
        "            sample_labels.append(next_label)    \n",
        "\n",
        "    xt = np.array(xt)\n",
        "    yt = np.array(yt)\n",
        "\n",
        "    support_images, support_labels = [], []\n",
        "    for label in sample_labels:\n",
        "        indices = np.random.choice(np.where(yt==label)[0], size=k_shot)\n",
        "        support_images.extend(xt[indices])\n",
        "        support_labels.extend(yt[indices])\n",
        "\n",
        "    return np.array(support_images), np.array(support_labels)\n",
        "\n",
        "x, y = create_support_set(xt_train, yt_train, target_label=1)\n",
        "x.shape, y"
      ],
      "metadata": {
        "colab": {
          "base_uri": "https://localhost:8080/"
        },
        "id": "kCoAXANkrQJF",
        "outputId": "6ae535f7-3700-4ee0-f57b-1c4d2a128099"
      },
      "execution_count": 21,
      "outputs": [
        {
          "output_type": "stream",
          "name": "stdout",
          "text": [
            "CPU times: user 2 µs, sys: 1 µs, total: 3 µs\n",
            "Wall time: 6.44 µs\n"
          ]
        },
        {
          "output_type": "execute_result",
          "data": {
            "text/plain": [
              "((5, 105, 105, 1), array([  1, 218,  74, 382, 146], dtype=int32))"
            ]
          },
          "metadata": {},
          "execution_count": 21
        }
      ]
    },
    {
      "cell_type": "code",
      "source": [
        "%%time\n",
        "\n",
        "from tqdm import trange\n",
        "\n",
        "def create_training_data(xt, yt, k_way=5, k_shot=1, n_records=None):\n",
        "\n",
        "    model_name = f\"{k_way}_way_{k_shot}_shot\"\n",
        "    data_file = f\"./data/omniglot/numpy/{model_name}.pkl\"\n",
        "    xs, ys = [], []\n",
        "\n",
        "    if os.path.exists(data_file):\n",
        "        pass\n",
        "    else:\n",
        "        if not n_records:\n",
        "            n_records = len(yt)\n",
        "\n",
        "        for i in trange(n_records):\n",
        "            label = yt[i]\n",
        "            x, y = create_support_set(xt, yt, label, k_way, k_shot)\n",
        "            xs.append(x)\n",
        "            ys.append(y)\n",
        "\n",
        "        data = dict(xt=xt, yt=yt, xs=xs, ys=ys)\n",
        "        print(f\"saving data for {model_name} to {data_file} ...\")\n",
        "        with open(data_file, 'wb') as f:\n",
        "            pickle.dump(data, f)\n",
        "\n",
        "    return xs, ys\n",
        "\n",
        "for k_way in [5]:\n",
        "    for k_shot in [1, 2, 3, 4, 5]:\n",
        "        xs_train, ys_train = create_training_data(xt_train, yt_train, k_way, k_shot)\n",
        "        print(len(xs_train), len(ys_train))"
      ],
      "metadata": {
        "colab": {
          "base_uri": "https://localhost:8080/"
        },
        "id": "-I3CnPt4QWQA",
        "outputId": "06271ecc-1b0e-4386-f55d-92da9d0204a8"
      },
      "execution_count": 22,
      "outputs": [
        {
          "output_type": "stream",
          "name": "stdout",
          "text": [
            "0 0\n",
            "0 0\n",
            "0 0\n",
            "0 0\n",
            "0 0\n",
            "CPU times: user 3.61 ms, sys: 527 µs, total: 4.14 ms\n",
            "Wall time: 3.03 ms\n"
          ]
        }
      ]
    },
    {
      "cell_type": "markdown",
      "source": [
        "---\n",
        "## Model Implementation\n",
        "\n",
        "Both the target image and the support set images first go through a CNN feature extractor. For training simplicity we use a very small CNN to perform this task. In real production, we might want to use something like ResNet or Inception model. The `gLSTM` and `fLSTM` modules respectively implemented the $g$ and $f$ functions as described in the paper to produce *Full-Context Embedding*. Customized training and prediction steps are built to implement the model. "
      ],
      "metadata": {
        "id": "in_Ve6MxvsY7"
      }
    },
    {
      "cell_type": "code",
      "source": [
        "from tensorflow.keras.models import Model\n",
        "from tensorflow.keras.layers import Input\n",
        "from tensorflow.keras.layers import Conv2D\n",
        "from tensorflow.keras.layers import BatchNormalization\n",
        "from tensorflow.keras.layers import LeakyReLU\n",
        "from tensorflow.keras.layers import MaxPooling2D\n",
        "from tensorflow.keras.layers import Flatten\n",
        "from tensorflow.keras.layers import Dense\n",
        "from tensorflow.keras.layers import LSTM\n",
        "from tensorflow.keras.layers import Bidirectional\n",
        "from tensorflow.keras.layers import Add\n",
        "from tensorflow.keras.layers import Attention"
      ],
      "metadata": {
        "id": "QJOf00b0vv4Y"
      },
      "execution_count": 23,
      "outputs": []
    },
    {
      "cell_type": "code",
      "source": [
        "def FeatureExtractor(input_shape=(105, 105, 1), summary=False):\n",
        "    \"\"\"\n",
        "    produce image embeddings as feature extractions with CNN\n",
        "    output shape: (B, 64)\n",
        "    \"\"\"\n",
        "    x = Input(shape=input_shape, name='input')\n",
        "    z = x\n",
        "\n",
        "    n_filters = [64, 64, 64, 64, 64, 64]\n",
        "\n",
        "    for i, n in enumerate(n_filters):\n",
        "        z = Conv2D(filters=n, kernel_size=2, strides=1, padding='valid', name=f\"conv_{i+1}\")(z)\n",
        "        z = BatchNormalization(name=f\"conv_bn_{i+1}\")(z)\n",
        "        z = LeakyReLU(alpha=.2, name=f\"conv_leakyrelu_{i+1}\")(z)\n",
        "        z = MaxPooling2D(pool_size=(2,2), strides=2, padding='same', name=f\"maxpool_{i+1}\")(z)\n",
        "\n",
        "    z = Flatten(name='flatten')(z)\n",
        "    model = Model(inputs=x, outputs=z, name='FeatureExtractor')\n",
        "    \n",
        "    if summary:\n",
        "        display(model.summary(positions=[.5, .9, 1]))\n",
        "    \n",
        "    return model\n",
        "\n",
        "_ = FeatureExtractor(summary=True)"
      ],
      "metadata": {
        "colab": {
          "base_uri": "https://localhost:8080/",
          "height": 1000
        },
        "id": "F1i7K-OEvwyg",
        "outputId": "728c41ec-107c-404a-da59-a79f276c84ad"
      },
      "execution_count": 24,
      "outputs": [
        {
          "output_type": "stream",
          "name": "stdout",
          "text": [
            "Model: \"FeatureExtractor\"\n",
            "_________________________________________________________________\n",
            " Layer (type)                   Output Shape              Param #\n",
            "=================================================================\n",
            " input (InputLayer)             [(None, 105, 105, 1)]     0      \n",
            "                                                                 \n",
            " conv_1 (Conv2D)                (None, 104, 104, 64)      320    \n",
            "                                                                 \n",
            " conv_bn_1 (BatchNormalization)  (None, 104, 104, 64)     256    \n",
            "                                                                 \n",
            " conv_leakyrelu_1 (LeakyReLU)   (None, 104, 104, 64)      0      \n",
            "                                                                 \n",
            " maxpool_1 (MaxPooling2D)       (None, 52, 52, 64)        0      \n",
            "                                                                 \n",
            " conv_2 (Conv2D)                (None, 51, 51, 64)        16448  \n",
            "                                                                 \n",
            " conv_bn_2 (BatchNormalization)  (None, 51, 51, 64)       256    \n",
            "                                                                 \n",
            " conv_leakyrelu_2 (LeakyReLU)   (None, 51, 51, 64)        0      \n",
            "                                                                 \n",
            " maxpool_2 (MaxPooling2D)       (None, 26, 26, 64)        0      \n",
            "                                                                 \n",
            " conv_3 (Conv2D)                (None, 25, 25, 64)        16448  \n",
            "                                                                 \n",
            " conv_bn_3 (BatchNormalization)  (None, 25, 25, 64)       256    \n",
            "                                                                 \n",
            " conv_leakyrelu_3 (LeakyReLU)   (None, 25, 25, 64)        0      \n",
            "                                                                 \n",
            " maxpool_3 (MaxPooling2D)       (None, 13, 13, 64)        0      \n",
            "                                                                 \n",
            " conv_4 (Conv2D)                (None, 12, 12, 64)        16448  \n",
            "                                                                 \n",
            " conv_bn_4 (BatchNormalization)  (None, 12, 12, 64)       256    \n",
            "                                                                 \n",
            " conv_leakyrelu_4 (LeakyReLU)   (None, 12, 12, 64)        0      \n",
            "                                                                 \n",
            " maxpool_4 (MaxPooling2D)       (None, 6, 6, 64)          0      \n",
            "                                                                 \n",
            " conv_5 (Conv2D)                (None, 5, 5, 64)          16448  \n",
            "                                                                 \n",
            " conv_bn_5 (BatchNormalization)  (None, 5, 5, 64)         256    \n",
            "                                                                 \n",
            " conv_leakyrelu_5 (LeakyReLU)   (None, 5, 5, 64)          0      \n",
            "                                                                 \n",
            " maxpool_5 (MaxPooling2D)       (None, 3, 3, 64)          0      \n",
            "                                                                 \n",
            " conv_6 (Conv2D)                (None, 2, 2, 64)          16448  \n",
            "                                                                 \n",
            " conv_bn_6 (BatchNormalization)  (None, 2, 2, 64)         256    \n",
            "                                                                 \n",
            " conv_leakyrelu_6 (LeakyReLU)   (None, 2, 2, 64)          0      \n",
            "                                                                 \n",
            " maxpool_6 (MaxPooling2D)       (None, 1, 1, 64)          0      \n",
            "                                                                 \n",
            " flatten (Flatten)              (None, 64)                0      \n",
            "                                                                 \n",
            "=================================================================\n",
            "Total params: 84,096\n",
            "Trainable params: 83,328\n",
            "Non-trainable params: 768\n",
            "_________________________________________________________________\n"
          ]
        },
        {
          "output_type": "display_data",
          "data": {
            "text/plain": [
              "None"
            ]
          },
          "metadata": {}
        }
      ]
    },
    {
      "cell_type": "code",
      "source": [
        "def gLSTM(n_samples=10, embedding_dim=64, summary=False):\n",
        "    \"\"\"\n",
        "    output shape: (B, K, 64)\n",
        "    \"\"\"\n",
        "    x = Input(shape=(n_samples, embedding_dim), name='input')\n",
        "    z = Bidirectional(LSTM(units=64, return_sequences=True), merge_mode='sum', name='bi_lstm')(x)\n",
        "    z = Add(name='add')([x, z])\n",
        "\n",
        "    model = Model(inputs=x, outputs=z, name='gLSTM')\n",
        "    \n",
        "    if summary:\n",
        "        display(model.summary(positions=[.35, .63, .72, 1]))\n",
        "    \n",
        "    return model\n",
        "\n",
        "_ = gLSTM(summary=True)"
      ],
      "metadata": {
        "colab": {
          "base_uri": "https://localhost:8080/",
          "height": 319
        },
        "id": "3eUJEHn4aWM5",
        "outputId": "27891e09-e341-43f4-a1ff-6ae448a402b5"
      },
      "execution_count": 25,
      "outputs": [
        {
          "output_type": "stream",
          "name": "stdout",
          "text": [
            "Model: \"gLSTM\"\n",
            "__________________________________________________________________________________________________\n",
            " Layer (type)                     Output Shape               Param #  Connected to                \n",
            "==================================================================================================\n",
            " input (InputLayer)               [(None, 10, 64)]           0        []                          \n",
            "                                                                                                  \n",
            " bi_lstm (Bidirectional)          (None, 10, 64)             66048    ['input[0][0]']             \n",
            "                                                                                                  \n",
            " add (Add)                        (None, 10, 64)             0        ['input[0][0]',             \n",
            "                                                                       'bi_lstm[0][0]']           \n",
            "                                                                                                  \n",
            "==================================================================================================\n",
            "Total params: 66,048\n",
            "Trainable params: 66,048\n",
            "Non-trainable params: 0\n",
            "__________________________________________________________________________________________________\n"
          ]
        },
        {
          "output_type": "display_data",
          "data": {
            "text/plain": [
              "None"
            ]
          },
          "metadata": {}
        }
      ]
    },
    {
      "cell_type": "code",
      "source": [
        "def fLSTM(n_samples=10, k_step=2, embedding_dim=64, summary=False):\n",
        "    \"\"\"\n",
        "    output shape: (B, 1, 64)\n",
        "    \"\"\"\n",
        "    f = Input(shape=(1, embedding_dim), name='f')\n",
        "    g = Input(shape=(n_samples, embedding_dim), name='g')\n",
        "\n",
        "    lstm = LSTM(units=64, return_sequences=True, name=f'lstm_1')\n",
        "\n",
        "    z = f\n",
        "    for i in range(k_step):\n",
        "        x = lstm(z)\n",
        "        z = Add(name=f'add_{i+1}')([z, x])\n",
        "        z = Attention(name=f'attn_{i+1}')([z, g])\n",
        "\n",
        "    x = LSTM(units=64, return_sequences=True, name=f'lstm_2')(z)\n",
        "    z = Add(name=f'add_{i+2}')([z, x])\n",
        "\n",
        "    model = Model(inputs=[f, g], outputs=z, name='fLSTM')\n",
        "    \n",
        "    if summary:\n",
        "        display(model.summary(positions=[.35, .63, .72, 1]))\n",
        "    \n",
        "    return model\n",
        "\n",
        "_ = fLSTM(summary=True)"
      ],
      "metadata": {
        "colab": {
          "base_uri": "https://localhost:8080/",
          "height": 621
        },
        "id": "Cj-uId4-acGJ",
        "outputId": "0388169c-b9be-4afe-e3e4-79c586e85b64"
      },
      "execution_count": 26,
      "outputs": [
        {
          "output_type": "stream",
          "name": "stdout",
          "text": [
            "Model: \"fLSTM\"\n",
            "__________________________________________________________________________________________________\n",
            " Layer (type)                     Output Shape               Param #  Connected to                \n",
            "==================================================================================================\n",
            " f (InputLayer)                   [(None, 1, 64)]            0        []                          \n",
            "                                                                                                  \n",
            " lstm_1 (LSTM)                    (None, 1, 64)              33024    ['f[0][0]',                 \n",
            "                                                                       'attn_1[0][0]']            \n",
            "                                                                                                  \n",
            " add_1 (Add)                      (None, 1, 64)              0        ['f[0][0]',                 \n",
            "                                                                       'lstm_1[0][0]']            \n",
            "                                                                                                  \n",
            " g (InputLayer)                   [(None, 10, 64)]           0        []                          \n",
            "                                                                                                  \n",
            " attn_1 (Attention)               (None, 1, 64)              0        ['add_1[0][0]',             \n",
            "                                                                       'g[0][0]']                 \n",
            "                                                                                                  \n",
            " add_2 (Add)                      (None, 1, 64)              0        ['attn_1[0][0]',            \n",
            "                                                                       'lstm_1[1][0]']            \n",
            "                                                                                                  \n",
            " attn_2 (Attention)               (None, 1, 64)              0        ['add_2[0][0]',             \n",
            "                                                                       'g[0][0]']                 \n",
            "                                                                                                  \n",
            " lstm_2 (LSTM)                    (None, 1, 64)              33024    ['attn_2[0][0]']            \n",
            "                                                                                                  \n",
            " add_3 (Add)                      (None, 1, 64)              0        ['attn_2[0][0]',            \n",
            "                                                                       'lstm_2[0][0]']            \n",
            "                                                                                                  \n",
            "==================================================================================================\n",
            "Total params: 66,048\n",
            "Trainable params: 66,048\n",
            "Non-trainable params: 0\n",
            "__________________________________________________________________________________________________\n"
          ]
        },
        {
          "output_type": "display_data",
          "data": {
            "text/plain": [
              "None"
            ]
          },
          "metadata": {}
        }
      ]
    },
    {
      "cell_type": "code",
      "source": [
        "import tensorflow as tf\n",
        "cosine_score = tf.losses.CosineSimilarity(axis=-1, reduction=tf.keras.losses.Reduction.NONE)\n",
        "cross_entropy = tf.keras.losses.CategoricalCrossentropy(name='loss')\n",
        "\n",
        "from tensorflow.keras.optimizers import Adam"
      ],
      "metadata": {
        "id": "UWaxUvIrfpz-"
      },
      "execution_count": 27,
      "outputs": []
    },
    {
      "cell_type": "code",
      "source": [
        "class MatchNet(tf.keras.Model):\n",
        "    def __init__(self, k_way=5, k_shot=1):\n",
        "        super().__init__()\n",
        "        self.k_way=k_way\n",
        "        self.k_shot=k_shot\n",
        "        self.n_samples=k_way * k_shot\n",
        "        self.cnn=FeatureExtractor()\n",
        "        self.g_lstm=gLSTM(n_samples=self.n_samples)\n",
        "        self.f_lstm=fLSTM(n_samples=self.n_samples)\n",
        "        self.n_class=1000\n",
        "\n",
        "    def compile(self):\n",
        "        super().compile(optimizer=Adam(0.0001))\n",
        "\n",
        "    @tf.function\n",
        "    def train_step(self, data):\n",
        "\n",
        "        target_image, target_label, support_image, support_label = data\n",
        "        target_label = tf.one_hot(tf.cast(target_label, tf.int32), self.n_class)\n",
        "        support_label = tf.one_hot(tf.cast(support_label, tf.int32), self.n_class)\n",
        "        support_image = tf.reshape(support_image, (-1, 105, 105, 1))             # => (BK, 105, 105, 1)\n",
        "\n",
        "        # target image:  (B, 105, 105, 1)\n",
        "        # target label:  (B, N)\n",
        "        # support image: (B, K, 105, 105, 1)\n",
        "        # support label: (B, K, N)\n",
        "\n",
        "        with tf.GradientTape() as tape:\n",
        "\n",
        "            g_vec = self.cnn(support_image, training=True)                       # => (BK, 64)\n",
        "            g_vec = tf.reshape(g_vec, (-1, self.n_samples, 64))                  # => (B, K, 64)\n",
        "            g_vec = self.g_lstm(g_vec, training=True)                            # => (B, K, 64)\n",
        "\n",
        "            f_vec = self.cnn(target_image, training=True)                        # => (B, 64)\n",
        "            f_vec = tf.expand_dims(f_vec, axis=1)                                # => (B, 1, 64)\n",
        "            f_vec = self.f_lstm([f_vec, g_vec], training=True)\n",
        "\n",
        "            dist = cosine_score(f_vec, g_vec)                                    # => (B, K)\n",
        "            dist = tf.expand_dims(dist, axis=1)                                  # => (B, 1, K)\n",
        "            pred = tf.matmul(dist, support_label)                                # => (B, 1, N)\n",
        "            pred = tf.nn.softmax(tf.squeeze(pred, axis=1))                       # => (B, N)\n",
        "\n",
        "            loss = cross_entropy(target_label, pred)\n",
        "            vars = self.cnn.trainable_variables \\\n",
        "                 + self.g_lstm.trainable_variables \\\n",
        "                 + self.f_lstm.trainable_variables\n",
        "            grad = tape.gradient(loss, vars)\n",
        "            self.optimizer.apply_gradients(zip(grad, vars))\n",
        "\n",
        "        results = {m.name: m.result() for m in self.metrics}\n",
        "        results.update(dict(loss=loss))\n",
        "\n",
        "        return results\n",
        "\n",
        "    def __call__(self, data, training=True):\n",
        "\n",
        "        target_image, (support_image, support_label) = data\n",
        "        support_label = tf.one_hot(tf.cast(support_label, tf.int32), self.n_class)\n",
        "        support_image = tf.reshape(support_image, (-1, 105, 105, 1))\n",
        "\n",
        "        g_vec = self.cnn(support_image, training=False)                      # => (BK, 64)\n",
        "        g_vec = tf.reshape(g_vec, (-1, self.n_samples, 64))                  # => (B, K, 64)\n",
        "        g_vec = self.g_lstm(g_vec, training=False)                           # => (B, K, 64)\n",
        "\n",
        "        f_vec = self.cnn(target_image, training=False)                       # => (B, 64)\n",
        "        f_vec = tf.expand_dims(f_vec, axis=1)                                # => (B, 1, 64)\n",
        "        f_vec = self.f_lstm([f_vec, g_vec], training=False)\n",
        "\n",
        "        dist = cosine_score(f_vec, g_vec)                                    # => (B, K)\n",
        "        dist = tf.expand_dims(dist, axis=1)                                  # => (B, 1, K)\n",
        "        pred = tf.matmul(dist, support_label)                                # => (B, 1, N)\n",
        "        pred = tf.nn.softmax(tf.squeeze(pred, axis=1))                       # => (B, N)\n",
        "\n",
        "        return tf.argmax(pred, axis=-1)                                      # => (B, )"
      ],
      "metadata": {
        "id": "in2H8f1kwNwW"
      },
      "execution_count": 28,
      "outputs": []
    },
    {
      "cell_type": "markdown",
      "source": [
        "---\n",
        "## Training\n",
        "\n",
        "The training process is set to run 10 epochs each time, with the weights and training performance saved and loaded for later use."
      ],
      "metadata": {
        "id": "8yij3HzcQLow"
      }
    },
    {
      "cell_type": "code",
      "source": [
        "N_EPOCHS = 10\n",
        "N_WORKERS = 100\n",
        "\n",
        "fit_dict = dict(\n",
        "    shuffle=True,\n",
        "    batch_size=BATCH_SIZE, \n",
        "    epochs=N_EPOCHS, \n",
        "    verbose=1,\n",
        "    workers=N_WORKERS, \n",
        "    use_multiprocessing=True\n",
        ")"
      ],
      "metadata": {
        "id": "o2aSo2sGTrdH"
      },
      "execution_count": 29,
      "outputs": []
    },
    {
      "cell_type": "code",
      "source": [
        "def get_data(model_name):\n",
        "\n",
        "    data_file = f\"./data/omniglot/numpy/{model_name}.pkl\"\n",
        "    \n",
        "    with open(data_file, 'rb') as f:\n",
        "        data = pickle.load(f)\n",
        "    \n",
        "    data = tf.data.Dataset.zip((\n",
        "        tf.data.Dataset.from_tensor_slices(np.array(data['xt'])), \n",
        "        tf.data.Dataset.from_tensor_slices(np.array(data['yt'])), \n",
        "        tf.data.Dataset.from_tensor_slices(np.array(data['xs'])), \n",
        "        tf.data.Dataset.from_tensor_slices(np.array(data['ys'])), \n",
        "    )).batch(BATCH_SIZE)\n",
        "    \n",
        "    return data"
      ],
      "metadata": {
        "id": "-10WDgKHZwdW"
      },
      "execution_count": 30,
      "outputs": []
    },
    {
      "cell_type": "code",
      "source": [
        "def train_model(k_way, k_shot):\n",
        "\n",
        "    model = MatchNet(k_way=k_way, k_shot=k_shot)\n",
        "    model.compile()\n",
        "    model_name = f\"{k_way}_way_{k_shot}_shot\"\n",
        "    model_file = f\"./models/{model_name}.tf\"\n",
        "    hist_file = f\"./models/{model_name}_history.pkl\"\n",
        "    print(f\"Loading data for {model_name} ...\")\n",
        "    data = get_data(model_name)\n",
        "\n",
        "    if not os.path.exists('./models'):\n",
        "        os.mkdir('./models')\n",
        "\n",
        "    current_epoch = 0\n",
        "    # load pre-trained model and history if available\n",
        "    if os.path.exists(f\"{model_file}.index\") and os.path.exists(hist_file):\n",
        "        print(f\"\\nLoading model weights for {model_name}...\")\n",
        "        model.load_weights(model_file)\n",
        "        print(f\"\\nLoading model history for {model_name}...\")\n",
        "        with open(hist_file, 'rb') as f:\n",
        "            model_history = pickle.load(f)\n",
        "\n",
        "        current_epoch = len(model_history['loss'])\n",
        "\n",
        "    print(f\"\\nTraining model {model_name}...\")\n",
        "    history = model.fit(data, **fit_dict)\n",
        "\n",
        "    if current_epoch != 0:\n",
        "        for key, value in zip(model_history.keys(), history.history.values()):\n",
        "            model_history[key].extend(value)\n",
        "    else:\n",
        "        model_history = history.history\n",
        "\n",
        "    print(f\"\\nSaving model history for {model_name}...\")\n",
        "    with open(hist_file, 'wb') as f:\n",
        "        pickle.dump(model_history, f)\n",
        "\n",
        "    current_epoch += N_EPOCHS\n",
        "    print(f\"\\nSaving model weights for {model_name} epoch {current_epoch}...\")\n",
        "    model.save_weights(model_file)\n",
        "\n",
        "    return model, model_history"
      ],
      "metadata": {
        "id": "xI7GIHuSTrfw"
      },
      "execution_count": 31,
      "outputs": []
    },
    {
      "cell_type": "code",
      "source": [
        "model, model_history = train_model(k_way=5, k_shot=1)"
      ],
      "metadata": {
        "colab": {
          "base_uri": "https://localhost:8080/"
        },
        "id": "2IisMvvNhOSf",
        "outputId": "4b042f79-2849-40e6-a406-778136a33975"
      },
      "execution_count": 32,
      "outputs": [
        {
          "output_type": "stream",
          "name": "stdout",
          "text": [
            "Loading data for 5_way_1_shot ...\n",
            "\n",
            "Loading model weights for 5_way_1_shot...\n",
            "\n",
            "Loading model history for 5_way_1_shot...\n",
            "\n",
            "Training model 5_way_1_shot...\n",
            "Epoch 1/10\n",
            "302/302 [==============================] - 39s 95ms/step - loss: 5.9110\n",
            "Epoch 2/10\n",
            "302/302 [==============================] - 28s 93ms/step - loss: 5.9106\n",
            "Epoch 3/10\n",
            "302/302 [==============================] - 28s 93ms/step - loss: 5.9103\n",
            "Epoch 4/10\n",
            "302/302 [==============================] - 28s 93ms/step - loss: 5.9100\n",
            "Epoch 5/10\n",
            "302/302 [==============================] - 28s 93ms/step - loss: 5.9097\n",
            "Epoch 6/10\n",
            "302/302 [==============================] - 28s 93ms/step - loss: 5.9094\n",
            "Epoch 7/10\n",
            "302/302 [==============================] - 28s 93ms/step - loss: 5.9091\n",
            "Epoch 8/10\n",
            "302/302 [==============================] - 28s 93ms/step - loss: 5.9089\n",
            "Epoch 9/10\n",
            "302/302 [==============================] - 28s 93ms/step - loss: 5.9086\n",
            "Epoch 10/10\n",
            "302/302 [==============================] - 28s 93ms/step - loss: 5.9084\n",
            "\n",
            "Saving model history for 5_way_1_shot...\n",
            "\n",
            "Saving model weights for 5_way_1_shot epoch 40...\n"
          ]
        }
      ]
    },
    {
      "cell_type": "markdown",
      "source": [
        "#### Training Performance\n",
        "\n",
        "Due to time limit, I was not able to train 1 to 5 shot as planned. Below is training performance for the 5-way 1-shot model. "
      ],
      "metadata": {
        "id": "8__yjLavVmow"
      }
    },
    {
      "cell_type": "code",
      "source": [
        "plt.figure(figsize=(10, 4))\n",
        "\n",
        "_ = plt.plot(model_history['loss'])\n",
        "plt.title('Training Loss')"
      ],
      "metadata": {
        "colab": {
          "base_uri": "https://localhost:8080/",
          "height": 299
        },
        "id": "bsAxBraaWW4j",
        "outputId": "4cb475e6-eb90-4a97-f595-ae2d357bd309"
      },
      "execution_count": 33,
      "outputs": [
        {
          "output_type": "execute_result",
          "data": {
            "text/plain": [
              "Text(0.5, 1.0, 'Training Loss')"
            ]
          },
          "metadata": {},
          "execution_count": 33
        },
        {
          "output_type": "display_data",
          "data": {
            "text/plain": [
              "<Figure size 720x288 with 1 Axes>"
            ],
            "image/png": "[encoded data removed]"
          },
          "metadata": {
            "needs_background": "light"
          }
        }
      ]
    },
    {
      "cell_type": "markdown",
      "source": [
        "---\n",
        "## Evaluation\n",
        "\n",
        "To test the performance at inference time, we select 100 random samples from the validation set which have completely different classes from the training set. Therefore the class labels are re-indexed and their one-hot vectors does not have any relationship to the training labels. Each prediction is made with 1 target image, and 5 support set images (1 image from each class). The model allows 1000 different class labels and makes a choice among the 5 available classes. "
      ],
      "metadata": {
        "id": "YDcEfwCAsndf"
      }
    },
    {
      "cell_type": "code",
      "source": [
        "def get_test_data(sample_id):\n",
        "    xt = xt_valid[sample_id]\n",
        "    yt = yt_valid[sample_id]\n",
        "    xs, ys = create_support_set(xt_valid, yt_valid, target_label=yt)\n",
        "\n",
        "    data = tf.data.Dataset.zip((\n",
        "        tf.data.Dataset.from_tensor_slices(np.array([xt])), \n",
        "        tf.data.Dataset.from_tensor_slices(np.array([yt])), \n",
        "        tf.data.Dataset.from_tensor_slices(np.array([xs])), \n",
        "        tf.data.Dataset.from_tensor_slices(np.array([ys])), \n",
        "    )).batch(1)\n",
        "    return data\n",
        "\n",
        "def predict_one(sample_id, print_labels=False):\n",
        "    data = get_test_data(sample_id)\n",
        "    for xt, yt, xs, ys in data.take(1):\n",
        "        true = yt.numpy()\n",
        "        data = (xt, (xs, ys))\n",
        "        pred = model.predict(data)\n",
        "    if print_labels:\n",
        "        print(\"true label: \", true)\n",
        "        print(\"pred label: \", pred)\n",
        "    return true[0], pred[0]\n",
        "\n",
        "_ = predict_one(1, print_labels=True)"
      ],
      "metadata": {
        "colab": {
          "base_uri": "https://localhost:8080/"
        },
        "id": "t49y7ITLsp4z",
        "outputId": "56a30c9d-de7f-45a8-ff33-4b2a49842081"
      },
      "execution_count": 34,
      "outputs": [
        {
          "output_type": "stream",
          "name": "stdout",
          "text": [
            "true label:  [468]\n",
            "pred label:  [468]\n"
          ]
        }
      ]
    },
    {
      "cell_type": "code",
      "source": [
        "results = []\n",
        "for i in trange(100):\n",
        "    results.append(predict_one(i))"
      ],
      "metadata": {
        "colab": {
          "base_uri": "https://localhost:8080/"
        },
        "id": "riq1WVXf1QC-",
        "outputId": "5250299c-ddc5-4505-c0f8-5c2d8fd89872"
      },
      "execution_count": 35,
      "outputs": [
        {
          "output_type": "stream",
          "name": "stderr",
          "text": [
            "100%|██████████| 100/100 [00:24<00:00,  4.01it/s]\n"
          ]
        }
      ]
    },
    {
      "cell_type": "code",
      "source": [
        "y_true = [t for t, _ in results]\n",
        "y_pred = [p for _, p in results]\n",
        "\n",
        "score = tf.keras.metrics.Accuracy()\n",
        "score(y_true, y_pred).numpy()"
      ],
      "metadata": {
        "colab": {
          "base_uri": "https://localhost:8080/"
        },
        "id": "X9nLB2og39MG",
        "outputId": "1de0747a-d624-4b40-965c-463117c3c701"
      },
      "execution_count": 36,
      "outputs": [
        {
          "output_type": "execute_result",
          "data": {
            "text/plain": [
              "1.0"
            ]
          },
          "metadata": {},
          "execution_count": 36
        }
      ]
    },
    {
      "cell_type": "markdown",
      "source": [
        "The scope of the test was relatively small but looks like the framework does produce some meaningful results for classifying character images with the presence of small support sets with one-shot learning. "
      ],
      "metadata": {
        "id": "FLzU7-eY9R5r"
      }
    }
  ]
}
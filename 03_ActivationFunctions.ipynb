{
 "cells": [
  {
   "cell_type": "markdown",
   "id": "dirty-voltage",
   "metadata": {},
   "source": [
    "# Layer Activation Functions\n",
    "* RELU (Rectified Linear Unit)\n",
    "* ELU (Exponential Linear Unit)\n",
    "* SELU (Scaled Exponential Linear Unit)\n",
    "* Sigmoid\n",
    "* Tanh\n",
    "* SoftPlus\n",
    "* SoftSign\n",
    "* SoftMax"
   ]
  },
  {
   "cell_type": "markdown",
   "id": "naughty-guard",
   "metadata": {},
   "source": [
    "### Different Ways to Call the Activation Function\n",
    "The below methods are equivalent when adding a new layer using Keras\n",
    "```python\n",
    "# method 1 - supply activation function as parameter\n",
    "from keras.models import Sequential\n",
    "from keras.layers import Dense\n",
    "model = Sequential()\n",
    "model.add(Dense(64, activation='relu'))\n",
    "\n",
    "# method 2 - add activation as layer\n",
    "from tensorflow.keras import layers\n",
    "from tensorflow.keras import activations\n",
    "model.add(layers.Dense(64))\n",
    "model.add(layers.Activation(activations.relu))\n",
    "\n",
    "# method 3 - directly call class instances\n",
    "model.add(layers.Dense(64, activation=activations.relu))\n",
    "```"
   ]
  },
  {
   "cell_type": "markdown",
   "id": "everyday-soccer",
   "metadata": {},
   "source": [
    "### Imports"
   ]
  },
  {
   "cell_type": "code",
   "execution_count": 44,
   "id": "front-madison",
   "metadata": {},
   "outputs": [],
   "source": [
    "import numpy as np\n",
    "import pandas as pd\n",
    "pd.set_option('chained_assignment',None)\n",
    "import matplotlib.pyplot as plt\n",
    "%matplotlib inline"
   ]
  },
  {
   "cell_type": "markdown",
   "id": "cooperative-species",
   "metadata": {},
   "source": [
    "### Standardize the Curve Plot"
   ]
  },
  {
   "cell_type": "code",
   "execution_count": 37,
   "id": "italian-scope",
   "metadata": {},
   "outputs": [],
   "source": [
    "def plot_curve(func, idx1=5, idx2=-5):\n",
    "    x1 = np.linspace(-10,10,100)\n",
    "    y1 = list(map(func, x1))\n",
    "\n",
    "    x2 = np.arange(-8,9,step=1)\n",
    "    y2 = list(map(func, x2))\n",
    "\n",
    "    plt.figure(figsize=(12,4))\n",
    "    plt.style.use('fivethirtyeight') # add this step to show grid\n",
    "    plt.style.use('grayscale')\n",
    "    _ = plt.plot(x1, y1, c='b', linewidth=2)\n",
    "    _ = plt.scatter(x2, y2, c='r', alpha=1, s=100)\n",
    "\n",
    "    plt.xticks(x2)\n",
    "    plt.yticks(y2[idx1:idx2])\n",
    "    plt.title(f\"{func.__name__} Activation Function\")"
   ]
  },
  {
   "cell_type": "markdown",
   "id": "elder-calvin",
   "metadata": {},
   "source": [
    "## ReLU (Rectified Linear Unit)\n"
   ]
  },
  {
   "cell_type": "markdown",
   "id": "shared-tamil",
   "metadata": {},
   "source": [
    "#### Mathematical Expression"
   ]
  },
  {
   "cell_type": "code",
   "execution_count": 144,
   "id": "incorporate-vegetation",
   "metadata": {},
   "outputs": [
    {
     "data": {
      "text/latex": [
       "$$\\begin{equation*}\n",
       "a = f(x) = \\left\\{\n",
       "        \\begin{array}{ll}\n",
       "            0 & \\quad x \\leq 0 \\\\\n",
       "            x & \\quad x > 0\n",
       "        \\end{array}\n",
       "    \\right.\n",
       "\\end{equation*}\n",
       "$$\n"
      ],
      "text/plain": [
       "<IPython.core.display.Latex object>"
      ]
     },
     "metadata": {},
     "output_type": "display_data"
    }
   ],
   "source": [
    "%%latex\n",
    "$$\\begin{equation*}\n",
    "a = f(x) = \\left\\{\n",
    "        \\begin{array}{ll}\n",
    "            0 & \\quad x \\leq 0 \\\\\n",
    "            x & \\quad x > 0\n",
    "        \\end{array}\n",
    "    \\right.\n",
    "\\end{equation*}\n",
    "$$"
   ]
  },
  {
   "cell_type": "markdown",
   "id": "competent-sleep",
   "metadata": {},
   "source": [
    "#### Visualization with Numpy Implementation"
   ]
  },
  {
   "cell_type": "code",
   "execution_count": 77,
   "id": "reliable-license",
   "metadata": {},
   "outputs": [
    {
     "data": {
      "image/png": "[encoded data removed]",
      "text/plain": [
       "<Figure size 864x288 with 1 Axes>"
      ]
     },
     "metadata": {},
     "output_type": "display_data"
    }
   ],
   "source": [
    "def relu(x):\n",
    "    return max(x,0)\n",
    "\n",
    "plot_curve(relu, 7, -1)"
   ]
  },
  {
   "cell_type": "markdown",
   "id": "automatic-thunder",
   "metadata": {},
   "source": [
    "#### Keras Implementation\n",
    "https://keras.io/api/layers/activations/#relu-function"
   ]
  },
  {
   "cell_type": "code",
   "execution_count": 78,
   "id": "structured-engine",
   "metadata": {},
   "outputs": [],
   "source": [
    "from keras.models import Sequential\n",
    "from keras.layers import Dense\n",
    "model = Sequential()\n",
    "model.add(Dense(64, activation='relu'))"
   ]
  },
  {
   "cell_type": "markdown",
   "id": "golden-jacket",
   "metadata": {},
   "source": [
    "#### PyTorch Implementation\n",
    "https://pytorch.org/docs/stable/generated/torch.nn.ReLU.html#torch.nn.ReLU"
   ]
  },
  {
   "cell_type": "code",
   "execution_count": 89,
   "id": "sunrise-failure",
   "metadata": {},
   "outputs": [
    {
     "data": {
      "text/plain": [
       "tensor([0., 0., 1.], dtype=torch.float64)"
      ]
     },
     "execution_count": 89,
     "metadata": {},
     "output_type": "execute_result"
    }
   ],
   "source": [
    "import torch\n",
    "import torch.nn as nn\n",
    "a = nn.ReLU()\n",
    "t = torch.from_numpy(np.array([-1.0,0,1.0]))\n",
    "a(t)"
   ]
  },
  {
   "cell_type": "markdown",
   "id": "variable-fraction",
   "metadata": {},
   "source": [
    "#### TensorFlow Implementation"
   ]
  },
  {
   "cell_type": "markdown",
   "id": "worth-student",
   "metadata": {},
   "source": [
    "## ELU (Exponential Linear Unit)"
   ]
  },
  {
   "cell_type": "markdown",
   "id": "thrown-producer",
   "metadata": {},
   "source": [
    "#### Mathematical Expression"
   ]
  },
  {
   "cell_type": "code",
   "execution_count": 38,
   "id": "found-relations",
   "metadata": {},
   "outputs": [
    {
     "data": {
      "text/latex": [
       "$$\\begin{equation*}\n",
       "a = f(x) = \\left\\{\n",
       "        \\begin{array}{ll}\n",
       "            \\alpha(e^{x}-1) & \\quad x \\leq 0 \\\\\n",
       "            x & \\quad x > 0\n",
       "        \\end{array}\n",
       "    \\right.\n",
       "\\end{equation*}\n",
       "$$\n"
      ],
      "text/plain": [
       "<IPython.core.display.Latex object>"
      ]
     },
     "metadata": {},
     "output_type": "display_data"
    }
   ],
   "source": [
    "%%latex\n",
    "$$\\begin{equation*}\n",
    "a = f(x) = \\left\\{\n",
    "        \\begin{array}{ll}\n",
    "            \\alpha(e^{x}-1) & \\quad x \\leq 0 \\\\\n",
    "            x & \\quad x > 0\n",
    "        \\end{array}\n",
    "    \\right.\n",
    "\\end{equation*}\n",
    "$$"
   ]
  },
  {
   "cell_type": "markdown",
   "id": "established-prime",
   "metadata": {},
   "source": [
    "#### Visualization with Numpy Implementation"
   ]
  },
  {
   "cell_type": "code",
   "execution_count": 220,
   "id": "blind-joyce",
   "metadata": {},
   "outputs": [
    {
     "data": {
      "image/png": "[encoded data removed]",
      "text/plain": [
       "<Figure size 864x288 with 1 Axes>"
      ]
     },
     "metadata": {},
     "output_type": "display_data"
    }
   ],
   "source": [
    "def selu(x):\n",
    "    alpha=1.67326324\n",
    "    if x > 0:\n",
    "        return x\n",
    "    return alpha * (np.exp(x) - 1)\n",
    "\n",
    "plot_curve(selu, 7,-1)"
   ]
  },
  {
   "cell_type": "markdown",
   "id": "restricted-validity",
   "metadata": {},
   "source": [
    "#### Keras Implementation\n",
    "https://keras.io/api/layers/activations/#elu-function"
   ]
  },
  {
   "cell_type": "code",
   "execution_count": null,
   "id": "focused-absolute",
   "metadata": {},
   "outputs": [],
   "source": [
    "from keras.models import Sequential\n",
    "from keras.layers import Dense\n",
    "model = Sequential()\n",
    "model.add(Dense(64, activation='elu'))"
   ]
  },
  {
   "cell_type": "markdown",
   "id": "sudden-priest",
   "metadata": {},
   "source": [
    "#### PyTorch Implementation\n",
    "https://pytorch.org/docs/stable/generated/torch.nn.ELU.html#torch.nn.ELU"
   ]
  },
  {
   "cell_type": "code",
   "execution_count": 88,
   "id": "classified-lending",
   "metadata": {},
   "outputs": [
    {
     "data": {
      "text/plain": [
       "tensor([-0.6321,  0.0000,  1.0000], dtype=torch.float64)"
      ]
     },
     "execution_count": 88,
     "metadata": {},
     "output_type": "execute_result"
    }
   ],
   "source": [
    "import torch\n",
    "import torch.nn as nn\n",
    "a = nn.ELU()\n",
    "t = torch.from_numpy(np.array([-1.0,0,1.0]))\n",
    "a(t)"
   ]
  },
  {
   "cell_type": "markdown",
   "id": "united-powder",
   "metadata": {},
   "source": [
    "#### TensorFlow Implementation"
   ]
  },
  {
   "cell_type": "markdown",
   "id": "suitable-territory",
   "metadata": {},
   "source": [
    "## SELU (Scaled Exponential Linear Unit)\n",
    "where alpha and scale are pre-defined constants (alpha=1.67326324 and scale=1.05070098).\n",
    "\n",
    "Basically, the SELU activation function multiplies scale (> 1) with the output of the tf.keras.activations.elu function to ensure a slope larger than one for positive inputs.\n",
    "\n",
    "The values of alpha and scale are chosen so that the mean and variance of the inputs are preserved between two consecutive layers as long as the weights are initialized correctly (see tf.keras.initializers.LecunNormal initializer) and the number of input units is \"large enough\" (see reference paper for more information)."
   ]
  },
  {
   "cell_type": "markdown",
   "id": "hundred-perspective",
   "metadata": {},
   "source": [
    "#### Mathematical Expression"
   ]
  },
  {
   "cell_type": "code",
   "execution_count": 162,
   "id": "frank-hollywood",
   "metadata": {},
   "outputs": [
    {
     "data": {
      "text/latex": [
       "$$\\begin{equation*}\n",
       "a = f(x) = \\left\\{\n",
       "        \\begin{array}{ll}\n",
       "            s\\cdot\\alpha(e^{x}-1) & \\quad x \\leq 0 \\\\\n",
       "            s\\cdot x & \\quad x > 0\n",
       "        \\end{array}\n",
       "    \\right.\n",
       "\\end{equation*}\n",
       "$$\n"
      ],
      "text/plain": [
       "<IPython.core.display.Latex object>"
      ]
     },
     "metadata": {},
     "output_type": "display_data"
    }
   ],
   "source": [
    "%%latex\n",
    "$$\\begin{equation*}\n",
    "a = f(x) = \\left\\{\n",
    "        \\begin{array}{ll}\n",
    "            s\\cdot\\alpha(e^{x}-1) & \\quad x \\leq 0 \\\\\n",
    "            s\\cdot x & \\quad x > 0\n",
    "        \\end{array}\n",
    "    \\right.\n",
    "\\end{equation*}\n",
    "$$"
   ]
  },
  {
   "cell_type": "markdown",
   "id": "further-european",
   "metadata": {},
   "source": [
    "#### Visualization with Numpy Implementation"
   ]
  },
  {
   "cell_type": "code",
   "execution_count": 155,
   "id": "metric-cardiff",
   "metadata": {},
   "outputs": [
    {
     "data": {
      "image/png": "[encoded data removed]",
      "text/plain": [
       "<Figure size 864x288 with 1 Axes>"
      ]
     },
     "metadata": {},
     "output_type": "display_data"
    }
   ],
   "source": [
    "def selu(x):\n",
    "    alpha=1.67326324\n",
    "    scale=1.05070098\n",
    "    if x > 0:\n",
    "        return scale * x\n",
    "    return scale * alpha * (np.exp(x) - 1)\n",
    "\n",
    "plot_curve(selu, 7,-1)"
   ]
  },
  {
   "cell_type": "markdown",
   "id": "american-heading",
   "metadata": {},
   "source": [
    "#### Keras Implementation\n",
    "https://keras.io/api/layers/activations/#selu-function"
   ]
  },
  {
   "cell_type": "code",
   "execution_count": 80,
   "id": "afraid-skiing",
   "metadata": {},
   "outputs": [],
   "source": [
    "from keras.models import Sequential\n",
    "from keras.layers import Dense\n",
    "model = Sequential()\n",
    "model.add(Dense(64, activation='selu'))"
   ]
  },
  {
   "cell_type": "markdown",
   "id": "immune-listing",
   "metadata": {},
   "source": [
    "#### PyTorch Implementation\n",
    "https://pytorch.org/docs/stable/generated/torch.nn.SELU.html#torch.nn.SELU"
   ]
  },
  {
   "cell_type": "code",
   "execution_count": 90,
   "id": "likely-finland",
   "metadata": {},
   "outputs": [
    {
     "data": {
      "text/plain": [
       "tensor([-1.1113,  0.0000,  1.0507], dtype=torch.float64)"
      ]
     },
     "execution_count": 90,
     "metadata": {},
     "output_type": "execute_result"
    }
   ],
   "source": [
    "import torch\n",
    "import torch.nn as nn\n",
    "a = nn.SELU()\n",
    "t = torch.from_numpy(np.array([-1.0,0,1.0]))\n",
    "a(t)"
   ]
  },
  {
   "cell_type": "markdown",
   "id": "monetary-checkout",
   "metadata": {},
   "source": [
    "#### TensorFlow Implementation"
   ]
  },
  {
   "cell_type": "markdown",
   "id": "filled-small",
   "metadata": {},
   "source": [
    "## Sigmoid\n",
    "The Sigmoid function is that it maps anything on the real numbers line from to the open interval (0, 1) which can be interpreted as probability. "
   ]
  },
  {
   "cell_type": "markdown",
   "id": "awful-oracle",
   "metadata": {},
   "source": [
    "#### Mathematical Expression"
   ]
  },
  {
   "cell_type": "code",
   "execution_count": 52,
   "id": "deluxe-participation",
   "metadata": {},
   "outputs": [
    {
     "data": {
      "text/latex": [
       "$$\\sigma(x)=\\frac{1}{1+e^{-x}}$$\n"
      ],
      "text/plain": [
       "<IPython.core.display.Latex object>"
      ]
     },
     "metadata": {},
     "output_type": "display_data"
    }
   ],
   "source": [
    "%%latex\n",
    "$$\\sigma(x)=\\frac{1}{1+e^{-x}}$$"
   ]
  },
  {
   "cell_type": "markdown",
   "id": "sized-chassis",
   "metadata": {},
   "source": [
    "#### Visualizaiton with Numpy Implementation"
   ]
  },
  {
   "cell_type": "code",
   "execution_count": 53,
   "id": "elementary-textbook",
   "metadata": {},
   "outputs": [
    {
     "data": {
      "image/png": "[encoded data removed]",
      "text/plain": [
       "<Figure size 864x288 with 1 Axes>"
      ]
     },
     "metadata": {
      "needs_background": "light"
     },
     "output_type": "display_data"
    }
   ],
   "source": [
    "def sigmoid(x):\n",
    "    return 1 / (1+np.exp(-x))\n",
    "\n",
    "plot_curve(sigmoid)"
   ]
  },
  {
   "cell_type": "code",
   "execution_count": 62,
   "id": "finished-simon",
   "metadata": {},
   "outputs": [
    {
     "data": {
      "text/plain": [
       "0.9999546021312976"
      ]
     },
     "execution_count": 62,
     "metadata": {},
     "output_type": "execute_result"
    }
   ],
   "source": [
    "sigmoid(10)"
   ]
  },
  {
   "cell_type": "code",
   "execution_count": 121,
   "id": "running-burlington",
   "metadata": {},
   "outputs": [
    {
     "data": {
      "text/plain": [
       "4.5397868702434395e-05"
      ]
     },
     "execution_count": 121,
     "metadata": {},
     "output_type": "execute_result"
    }
   ],
   "source": [
    "sigmoid(-10)"
   ]
  },
  {
   "cell_type": "markdown",
   "id": "major-monday",
   "metadata": {},
   "source": [
    "#### Properties of the Sigmoid Function\n",
    "* the output at 0 is always 0.5\n",
    "* the output is always bounded within (0,1)\n",
    "* as the input value deviates from 0, the output changes slower and slower\n",
    "* sigmoid(10) ~ 0.9995 and sigmoid(-10) ~ 0.0005\n",
    "* output values of multiplicative inverses are always probabilitic complements"
   ]
  },
  {
   "cell_type": "code",
   "execution_count": 127,
   "id": "narrative-weight",
   "metadata": {},
   "outputs": [
    {
     "data": {
      "text/latex": [
       "$$\\sigma(x) = 1 - \\sigma(-x)$$\n"
      ],
      "text/plain": [
       "<IPython.core.display.Latex object>"
      ]
     },
     "metadata": {},
     "output_type": "display_data"
    }
   ],
   "source": [
    "%%latex\n",
    "$$\\sigma(x) = 1 - \\sigma(-x)$$"
   ]
  },
  {
   "cell_type": "markdown",
   "id": "selected-debut",
   "metadata": {},
   "source": [
    "#### Keras Implementation\n",
    "https://keras.io/api/layers/activations/#sigmoid-function"
   ]
  },
  {
   "cell_type": "code",
   "execution_count": 49,
   "id": "scheduled-motion",
   "metadata": {},
   "outputs": [],
   "source": [
    "from keras.models import Sequential\n",
    "from keras.layers import Dense\n",
    "model = Sequential()\n",
    "model.add(Dense(64, activation='sigmoid'))"
   ]
  },
  {
   "cell_type": "markdown",
   "id": "written-davis",
   "metadata": {},
   "source": [
    "#### PyTorch Implementation\n",
    "https://pytorch.org/docs/stable/generated/torch.nn.Sigmoid.html"
   ]
  },
  {
   "cell_type": "code",
   "execution_count": 91,
   "id": "objective-mobile",
   "metadata": {},
   "outputs": [
    {
     "data": {
      "text/plain": [
       "tensor([0.2689, 0.5000, 0.7311], dtype=torch.float64)"
      ]
     },
     "execution_count": 91,
     "metadata": {},
     "output_type": "execute_result"
    }
   ],
   "source": [
    "import torch\n",
    "import torch.nn as nn\n",
    "a = nn.Sigmoid()\n",
    "t = torch.from_numpy(np.array([-1.0,0,1.0]))\n",
    "a(t)"
   ]
  },
  {
   "cell_type": "markdown",
   "id": "wireless-nursing",
   "metadata": {},
   "source": [
    "#### TensorFlow Implementation\n",
    "* tf.sigmoid\n",
    "* tf.math.sigmoid https://www.tensorflow.org/api_docs/python/tf/math/sigmoid\n",
    "* tf.keras.activations.sigmoid https://www.tensorflow.org/api_docs/python/tf/keras/activations/sigmoid"
   ]
  },
  {
   "cell_type": "code",
   "execution_count": 92,
   "id": "million-poland",
   "metadata": {},
   "outputs": [
    {
     "data": {
      "text/plain": [
       "<tf.Tensor: shape=(1,), dtype=float32, numpy=array([0.26894143], dtype=float32)>"
      ]
     },
     "metadata": {},
     "output_type": "display_data"
    },
    {
     "data": {
      "text/plain": [
       "<tf.Tensor: shape=(3,), dtype=float32, numpy=array([0.26894143, 0.5       , 0.7310586 ], dtype=float32)>"
      ]
     },
     "metadata": {},
     "output_type": "display_data"
    },
    {
     "data": {
      "text/plain": [
       "<tf.Tensor: shape=(1,), dtype=float32, numpy=array([0.26894143], dtype=float32)>"
      ]
     },
     "metadata": {},
     "output_type": "display_data"
    },
    {
     "data": {
      "text/plain": [
       "<tf.Tensor: shape=(3,), dtype=float32, numpy=array([0.26894143, 0.5       , 0.7310586 ], dtype=float32)>"
      ]
     },
     "metadata": {},
     "output_type": "display_data"
    },
    {
     "data": {
      "text/plain": [
       "<tf.Tensor: shape=(1,), dtype=float32, numpy=array([0.26894143], dtype=float32)>"
      ]
     },
     "metadata": {},
     "output_type": "display_data"
    },
    {
     "data": {
      "text/plain": [
       "<tf.Tensor: shape=(3,), dtype=float32, numpy=array([0.26894143, 0.5       , 0.7310586 ], dtype=float32)>"
      ]
     },
     "metadata": {},
     "output_type": "display_data"
    }
   ],
   "source": [
    "import tensorflow as tf\n",
    "t1 = tf.constant([-1.0], dtype=tf.float32)\n",
    "t2 = tf.constant([-1.0, 0, 1.0], dtype=tf.float32)\n",
    "\n",
    "display(tf.sigmoid(t1))\n",
    "display(tf.sigmoid(t2))\n",
    "display(tf.math.sigmoid(t1))\n",
    "display(tf.math.sigmoid(t2))\n",
    "display(tf.keras.activations.sigmoid(t1))\n",
    "display(tf.keras.activations.sigmoid(t2))"
   ]
  },
  {
   "cell_type": "markdown",
   "id": "understood-booking",
   "metadata": {},
   "source": [
    "#### TensorFlow Probability API\n",
    "https://www.tensorflow.org/probability/api_docs/python/tfp/bijectors/Sigmoid"
   ]
  },
  {
   "cell_type": "code",
   "execution_count": 93,
   "id": "interstate-compound",
   "metadata": {},
   "outputs": [
    {
     "data": {
      "text/plain": [
       "<tf.Tensor: shape=(3,), dtype=float32, numpy=array([0.26894143, 0.5       , 0.7310586 ], dtype=float32)>"
      ]
     },
     "execution_count": 93,
     "metadata": {},
     "output_type": "execute_result"
    }
   ],
   "source": [
    "# needs separate install\n",
    "import tensorflow_probability as tfp\n",
    "a = tfp.bijectors.Sigmoid()\n",
    "a(t2)"
   ]
  },
  {
   "cell_type": "markdown",
   "id": "nervous-journey",
   "metadata": {},
   "source": [
    "## Tanh"
   ]
  },
  {
   "cell_type": "markdown",
   "id": "retired-order",
   "metadata": {},
   "source": [
    "#### Mathematical Expression"
   ]
  },
  {
   "cell_type": "code",
   "execution_count": 39,
   "id": "wired-patent",
   "metadata": {},
   "outputs": [
    {
     "data": {
      "text/latex": [
       "$$tanh(x) = \\frac{\\sinh(x)}{\\cosh(x)} = \\frac{e^{x} - e^{-x}}{e^{x} + e^{-x}}$$\n"
      ],
      "text/plain": [
       "<IPython.core.display.Latex object>"
      ]
     },
     "metadata": {},
     "output_type": "display_data"
    }
   ],
   "source": [
    "%%latex\n",
    "$$tanh(x) = \\frac{\\sinh(x)}{\\cosh(x)} = \\frac{e^{x} - e^{-x}}{e^{x} + e^{-x}}$$"
   ]
  },
  {
   "cell_type": "markdown",
   "id": "raised-plane",
   "metadata": {},
   "source": [
    "#### Visualizaiton with Numpy Implementation"
   ]
  },
  {
   "cell_type": "code",
   "execution_count": 56,
   "id": "appointed-violence",
   "metadata": {},
   "outputs": [
    {
     "data": {
      "image/png": "[encoded data removed]",
      "text/plain": [
       "<Figure size 864x288 with 1 Axes>"
      ]
     },
     "metadata": {},
     "output_type": "display_data"
    }
   ],
   "source": [
    "def tanh(x):\n",
    "    return np.tanh(x)\n",
    "\n",
    "plot_curve(tanh, 6, -6)"
   ]
  },
  {
   "cell_type": "code",
   "execution_count": 65,
   "id": "pressing-mitchell",
   "metadata": {},
   "outputs": [
    {
     "data": {
      "text/plain": [
       "0.9999092042625951"
      ]
     },
     "execution_count": 65,
     "metadata": {},
     "output_type": "execute_result"
    }
   ],
   "source": [
    "tanh(5)"
   ]
  },
  {
   "cell_type": "code",
   "execution_count": 68,
   "id": "hindu-sensitivity",
   "metadata": {},
   "outputs": [
    {
     "data": {
      "text/plain": [
       "-0.9999092042625951"
      ]
     },
     "execution_count": 68,
     "metadata": {},
     "output_type": "execute_result"
    }
   ],
   "source": [
    "tanh(-5)"
   ]
  },
  {
   "cell_type": "markdown",
   "id": "lyric-agency",
   "metadata": {},
   "source": [
    "#### Properties of the Tanh Function\n",
    "* The Tanh function maps the real axis to (-1,1)\n",
    "* The output values are symetrically about the origin\n",
    "* The output value approaches 1 and -1 quickly at small input deviation from zero"
   ]
  },
  {
   "cell_type": "markdown",
   "id": "loose-liberia",
   "metadata": {},
   "source": [
    "#### Keras Implementation\n",
    "https://keras.io/api/layers/activations/#tanh-function"
   ]
  },
  {
   "cell_type": "code",
   "execution_count": 50,
   "id": "crude-accommodation",
   "metadata": {},
   "outputs": [],
   "source": [
    "from keras.models import Sequential\n",
    "from keras.layers import Dense\n",
    "model = Sequential()\n",
    "model.add(Dense(64, activation='tanh'))"
   ]
  },
  {
   "cell_type": "markdown",
   "id": "downtown-contest",
   "metadata": {},
   "source": [
    "#### PyTorch Implementation\n",
    "https://pytorch.org/docs/stable/generated/torch.nn.Tanh.html#torch.nn.Tanh"
   ]
  },
  {
   "cell_type": "code",
   "execution_count": 94,
   "id": "level-musician",
   "metadata": {},
   "outputs": [
    {
     "data": {
      "text/plain": [
       "tensor([-0.7616,  0.0000,  0.7616], dtype=torch.float64)"
      ]
     },
     "execution_count": 94,
     "metadata": {},
     "output_type": "execute_result"
    }
   ],
   "source": [
    "import torch\n",
    "import torch.nn as nn\n",
    "a = nn.Tanh()\n",
    "t = torch.from_numpy(np.array([-1.0,0,1.0]))\n",
    "a(t)"
   ]
  },
  {
   "cell_type": "markdown",
   "id": "opposed-speaking",
   "metadata": {},
   "source": [
    "#### TensorFlow Implementation\n",
    "* tf.tanh\n",
    "* tf.math.tanh https://www.tensorflow.org/api_docs/python/tf/math/tanh\n",
    "* tf.keras.activations.tanh https://www.tensorflow.org/api_docs/python/tf/keras/activations/tanh"
   ]
  },
  {
   "cell_type": "code",
   "execution_count": 72,
   "id": "falling-fever",
   "metadata": {},
   "outputs": [
    {
     "data": {
      "text/plain": [
       "<tf.Tensor: shape=(1,), dtype=float32, numpy=array([-0.99990916], dtype=float32)>"
      ]
     },
     "metadata": {},
     "output_type": "display_data"
    },
    {
     "data": {
      "text/plain": [
       "<tf.Tensor: shape=(3,), dtype=float32, numpy=array([-0.99990916,  0.        ,  0.99990916], dtype=float32)>"
      ]
     },
     "metadata": {},
     "output_type": "display_data"
    },
    {
     "data": {
      "text/plain": [
       "<tf.Tensor: shape=(1,), dtype=float32, numpy=array([-0.99990916], dtype=float32)>"
      ]
     },
     "metadata": {},
     "output_type": "display_data"
    },
    {
     "data": {
      "text/plain": [
       "<tf.Tensor: shape=(3,), dtype=float32, numpy=array([-0.99990916,  0.        ,  0.99990916], dtype=float32)>"
      ]
     },
     "metadata": {},
     "output_type": "display_data"
    },
    {
     "data": {
      "text/plain": [
       "<tf.Tensor: shape=(1,), dtype=float32, numpy=array([-0.99990916], dtype=float32)>"
      ]
     },
     "metadata": {},
     "output_type": "display_data"
    },
    {
     "data": {
      "text/plain": [
       "<tf.Tensor: shape=(3,), dtype=float32, numpy=array([-0.99990916,  0.        ,  0.99990916], dtype=float32)>"
      ]
     },
     "metadata": {},
     "output_type": "display_data"
    }
   ],
   "source": [
    "import tensorflow as tf\n",
    "t1 = tf.constant([-5], dtype=tf.float32)\n",
    "t2 = tf.constant([-5, 0, 5], dtype=tf.float32)\n",
    "\n",
    "display(tf.tanh(t1))\n",
    "display(tf.tanh(t2))\n",
    "display(tf.math.tanh(t1))\n",
    "display(tf.math.tanh(t2))\n",
    "display(tf.keras.activations.tanh(t1))\n",
    "display(tf.keras.activations.tanh(t2))"
   ]
  },
  {
   "cell_type": "markdown",
   "id": "induced-difference",
   "metadata": {},
   "source": [
    "## SoftPlus"
   ]
  },
  {
   "cell_type": "markdown",
   "id": "persistent-swing",
   "metadata": {},
   "source": [
    "#### Mathematical Expression"
   ]
  },
  {
   "cell_type": "code",
   "execution_count": 164,
   "id": "excess-gross",
   "metadata": {},
   "outputs": [
    {
     "data": {
      "text/latex": [
       "$$a = f(x) = \\log{(e^{x} + 1)}$$\n"
      ],
      "text/plain": [
       "<IPython.core.display.Latex object>"
      ]
     },
     "metadata": {},
     "output_type": "display_data"
    }
   ],
   "source": [
    "%%latex\n",
    "$$a = f(x) = \\log{(e^{x} + 1)}$$"
   ]
  },
  {
   "cell_type": "code",
   "execution_count": 238,
   "id": "loose-nightlife",
   "metadata": {},
   "outputs": [
    {
     "data": {
      "image/png": "[encoded data removed]",
      "text/plain": [
       "<Figure size 864x288 with 1 Axes>"
      ]
     },
     "metadata": {},
     "output_type": "display_data"
    }
   ],
   "source": [
    "def softplus(x):\n",
    "    return np.log(np.exp(x) + 1)\n",
    "\n",
    "plot_curve(softplus, 8, -1)"
   ]
  },
  {
   "cell_type": "markdown",
   "id": "composite-flower",
   "metadata": {},
   "source": [
    "#### Keras Implementation\n",
    "https://keras.io/api/layers/activations/#softplus-function"
   ]
  },
  {
   "cell_type": "code",
   "execution_count": 75,
   "id": "differential-avenue",
   "metadata": {},
   "outputs": [],
   "source": [
    "from keras.models import Sequential\n",
    "from keras.layers import Dense\n",
    "model = Sequential()\n",
    "model.add(Dense(64, activation='softplus'))"
   ]
  },
  {
   "cell_type": "markdown",
   "id": "approved-advice",
   "metadata": {},
   "source": [
    "#### PyTorch Implementation\n",
    "https://pytorch.org/docs/stable/generated/torch.nn.Softplus.html#torch.nn.Softplus"
   ]
  },
  {
   "cell_type": "code",
   "execution_count": 96,
   "id": "limited-exhibition",
   "metadata": {},
   "outputs": [
    {
     "data": {
      "text/plain": [
       "tensor([0.3133, 0.6931, 1.3133], dtype=torch.float64)"
      ]
     },
     "execution_count": 96,
     "metadata": {},
     "output_type": "execute_result"
    }
   ],
   "source": [
    "import torch\n",
    "import torch.nn as nn\n",
    "a = nn.Softplus()\n",
    "t = torch.from_numpy(np.array([-1.0,0,1.0]))\n",
    "a(t)"
   ]
  },
  {
   "cell_type": "markdown",
   "id": "unlike-adventure",
   "metadata": {},
   "source": [
    "#### TensorFlow Implementation"
   ]
  },
  {
   "cell_type": "markdown",
   "id": "happy-strand",
   "metadata": {},
   "source": [
    "## SoftSign"
   ]
  },
  {
   "cell_type": "markdown",
   "id": "removable-ethics",
   "metadata": {},
   "source": [
    "#### Mathematical Expression"
   ]
  },
  {
   "cell_type": "code",
   "execution_count": 166,
   "id": "acceptable-television",
   "metadata": {},
   "outputs": [
    {
     "data": {
      "text/latex": [
       "$$a = f(x) = \\frac{x}{|x|+1}$$\n"
      ],
      "text/plain": [
       "<IPython.core.display.Latex object>"
      ]
     },
     "metadata": {},
     "output_type": "display_data"
    }
   ],
   "source": [
    "%%latex\n",
    "$$a = f(x) = \\frac{x}{|x|+1}$$"
   ]
  },
  {
   "cell_type": "code",
   "execution_count": 234,
   "id": "frozen-combination",
   "metadata": {},
   "outputs": [
    {
     "data": {
      "image/png": "[encoded data removed]",
      "text/plain": [
       "<Figure size 864x288 with 1 Axes>"
      ]
     },
     "metadata": {},
     "output_type": "display_data"
    }
   ],
   "source": [
    "def softsign(x):\n",
    "    return x / (np.abs(x) + 1)\n",
    "\n",
    "plot_curve(softsign)"
   ]
  },
  {
   "cell_type": "markdown",
   "id": "consistent-graduate",
   "metadata": {},
   "source": [
    "#### Keras Implementation\n",
    "https://keras.io/api/layers/activations/#softsign-function"
   ]
  },
  {
   "cell_type": "code",
   "execution_count": 82,
   "id": "level-guidance",
   "metadata": {},
   "outputs": [],
   "source": [
    "from keras.models import Sequential\n",
    "from keras.layers import Dense\n",
    "model = Sequential()\n",
    "model.add(Dense(64, activation='softsign'))"
   ]
  },
  {
   "cell_type": "markdown",
   "id": "minute-creator",
   "metadata": {},
   "source": [
    "#### PyTorch Implementation\n",
    "https://pytorch.org/docs/stable/generated/torch.nn.Softsign.html#torch.nn.Softsign"
   ]
  },
  {
   "cell_type": "code",
   "execution_count": 97,
   "id": "honest-gnome",
   "metadata": {},
   "outputs": [
    {
     "data": {
      "text/plain": [
       "tensor([-0.5000,  0.0000,  0.5000], dtype=torch.float64)"
      ]
     },
     "execution_count": 97,
     "metadata": {},
     "output_type": "execute_result"
    }
   ],
   "source": [
    "import torch\n",
    "import torch.nn as nn\n",
    "a = nn.Softsign()\n",
    "t = torch.from_numpy(np.array([-1.0,0,1.0]))\n",
    "a(t)"
   ]
  },
  {
   "cell_type": "markdown",
   "id": "collective-purse",
   "metadata": {},
   "source": [
    "#### TensorFlow Implementation"
   ]
  },
  {
   "cell_type": "markdown",
   "id": "lightweight-killer",
   "metadata": {},
   "source": [
    "## SoftMax"
   ]
  },
  {
   "cell_type": "markdown",
   "id": "based-navigation",
   "metadata": {},
   "source": [
    "#### Mathematical Expression"
   ]
  },
  {
   "cell_type": "code",
   "execution_count": 174,
   "id": "incorporated-israeli",
   "metadata": {},
   "outputs": [
    {
     "data": {
      "text/latex": [
       "$$f(x_i) = \\frac{e^{x_i}}{\\sum_{k=1}^{N}e^k}$$\n"
      ],
      "text/plain": [
       "<IPython.core.display.Latex object>"
      ]
     },
     "metadata": {},
     "output_type": "display_data"
    }
   ],
   "source": [
    "%%latex\n",
    "$$f(x_i) = \\frac{e^{x_i}}{\\sum_{k=1}^{N}e^k}$$"
   ]
  },
  {
   "cell_type": "code",
   "execution_count": 76,
   "id": "sought-testing",
   "metadata": {},
   "outputs": [
    {
     "data": {
      "text/plain": [
       "Text(0.5, 1.0, 'SoftMax Activation Function')"
      ]
     },
     "execution_count": 76,
     "metadata": {},
     "output_type": "execute_result"
    },
    {
     "data": {
      "image/png": "[encoded data removed]",
      "text/plain": [
       "<Figure size 864x288 with 1 Axes>"
      ]
     },
     "metadata": {},
     "output_type": "display_data"
    }
   ],
   "source": [
    "def softmax(x):\n",
    "    return np.exp(x) / sum(np.exp(x))\n",
    "\n",
    "x1 = np.linspace(-10,10,100)\n",
    "y1 = softmax(x1)\n",
    "\n",
    "x2 = np.arange(-8,9,step=1)\n",
    "y2 = softmax(x2)\n",
    "\n",
    "plt.figure(figsize=(12,4))\n",
    "plt.style.use('grayscale')\n",
    "_ = plt.bar(x1, y1, color='b')\n",
    "_ = plt.bar(x2, y2, color='r')\n",
    "\n",
    "plt.xticks(x2)\n",
    "plt.yticks(y2[-4:])\n",
    "plt.title(\"SoftMax Activation Function\")"
   ]
  },
  {
   "cell_type": "markdown",
   "id": "prompt-graham",
   "metadata": {},
   "source": [
    "#### Properties of the SoftMax Function"
   ]
  },
  {
   "cell_type": "markdown",
   "id": "square-strap",
   "metadata": {},
   "source": [
    "#### Keras Implementation\n",
    "https://keras.io/api/layers/activations/#softmax-function"
   ]
  },
  {
   "cell_type": "code",
   "execution_count": 84,
   "id": "mighty-gathering",
   "metadata": {},
   "outputs": [],
   "source": [
    "from keras.models import Sequential\n",
    "from keras.layers import Dense\n",
    "model = Sequential()\n",
    "model.add(Dense(64, activation='softmax'))"
   ]
  },
  {
   "cell_type": "markdown",
   "id": "democratic-determination",
   "metadata": {},
   "source": [
    "#### PyTorch Implementation\n",
    "https://pytorch.org/docs/stable/generated/torch.nn.Softmax.html#torch.nn.Softmax"
   ]
  },
  {
   "cell_type": "code",
   "execution_count": 107,
   "id": "returning-content",
   "metadata": {},
   "outputs": [
    {
     "data": {
      "text/plain": [
       "tensor([0.0900, 0.2447, 0.6652], dtype=torch.float64)"
      ]
     },
     "execution_count": 107,
     "metadata": {},
     "output_type": "execute_result"
    }
   ],
   "source": [
    "import torch\n",
    "import torch.nn as nn\n",
    "a = nn.Softmax(dim=-1)   # NOTE that axis dimension is required, supply -1 if using array\n",
    "t = torch.from_numpy(np.array([-1.0,0,1.0]))\n",
    "a(t)"
   ]
  },
  {
   "cell_type": "markdown",
   "id": "every-radar",
   "metadata": {},
   "source": [
    "#### TensorFlow Implementation\n",
    "* tf.nn.softmax https://www.tensorflow.org/api_docs/python/tf/nn/softmax\n",
    "* tf.keras.activations.softmax https://www.tensorflow.org/api_docs/python/tf/keras/activations/softmax\n",
    "* tf.keras.layers.Softmax https://www.tensorflow.org/api_docs/python/tf/keras/layers/Softmax"
   ]
  },
  {
   "cell_type": "code",
   "execution_count": 154,
   "id": "selective-pharmaceutical",
   "metadata": {},
   "outputs": [
    {
     "data": {
      "text/plain": [
       "<tf.Tensor: shape=(1,), dtype=float32, numpy=array([1.], dtype=float32)>"
      ]
     },
     "metadata": {},
     "output_type": "display_data"
    },
    {
     "data": {
      "text/plain": [
       "<tf.Tensor: shape=(3,), dtype=float32, numpy=array([0.09003057, 0.24472848, 0.66524094], dtype=float32)>"
      ]
     },
     "metadata": {},
     "output_type": "display_data"
    }
   ],
   "source": [
    "import tensorflow as tf\n",
    "t1 = tf.constant([-1.0], dtype=tf.float32)\n",
    "t2 = tf.constant([-1.0, 0, 1.0], dtype=tf.float32)\n",
    "\n",
    "display(tf.nn.softmax(t1))\n",
    "display(tf.nn.softmax(t2))"
   ]
  }
 ],
 "metadata": {
  "kernelspec": {
   "display_name": "Python 3",
   "language": "python",
   "name": "python3"
  },
  "language_info": {
   "codemirror_mode": {
    "name": "ipython",
    "version": 3
   },
   "file_extension": ".py",
   "mimetype": "text/x-python",
   "name": "python",
   "nbconvert_exporter": "python",
   "pygments_lexer": "ipython3",
   "version": "3.8.5"
  }
 },
 "nbformat": 4,
 "nbformat_minor": 5
}
